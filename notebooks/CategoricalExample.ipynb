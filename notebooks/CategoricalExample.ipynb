{
 "cells": [
  {
   "cell_type": "markdown",
   "metadata": {},
   "source": [
    "### Dataset with categorical features.\n",
    "\n",
    "Here you can see how datapot works with [Mushroom Data Set](https://archive.ics.uci.edu/ml/datasets/Mushroom).\n",
    "The important detail about this dataset is that all it's features are categorical."
   ]
  },
  {
   "cell_type": "code",
   "execution_count": 1,
   "metadata": {
    "collapsed": false
   },
   "outputs": [
    {
     "name": "stderr",
     "output_type": "stream",
     "text": [
      "/home/yury/anaconda3/lib/python3.5/site-packages/gensim/utils.py:1015: UserWarning: Pattern library is not installed, lemmatization won't be available.\n",
      "  warnings.warn(\"Pattern library is not installed, lemmatization won't be available.\")\n"
     ]
    }
   ],
   "source": [
    "import datapot as dp\n",
    "import pandas as pd"
   ]
  },
  {
   "cell_type": "markdown",
   "metadata": {},
   "source": [
    "Creating the DataPot object."
   ]
  },
  {
   "cell_type": "code",
   "execution_count": 2,
   "metadata": {
    "collapsed": true
   },
   "outputs": [],
   "source": [
    "datapot = dp.DataPot()"
   ]
  },
  {
   "cell_type": "code",
   "execution_count": 4,
   "metadata": {
    "collapsed": false
   },
   "outputs": [],
   "source": [
    "import bz2\n",
    "ftr = bz2.BZ2File('../data/mushrooms.jsonlines.bz2') "
   ]
  },
  {
   "cell_type": "markdown",
   "metadata": {},
   "source": [
    "Let's call the fit method. It automatically finds appropriate transformers for the fields of jsonlines file. The parameter 'limit' means how many objects will be used to detect the right transformers."
   ]
  },
  {
   "cell_type": "code",
   "execution_count": 5,
   "metadata": {
    "collapsed": false
   },
   "outputs": [],
   "source": [
    "datapot.fit(ftr, limit=100)"
   ]
  },
  {
   "cell_type": "code",
   "execution_count": 6,
   "metadata": {
    "collapsed": false
   },
   "outputs": [
    {
     "data": {
      "text/plain": [
       "DataPot class instance\n",
       " - number of features without transformation: 23\n",
       " - number of new features: 0\n",
       "features to transform: \n",
       "\t('k', [SVDOneHotTransformer])\n",
       "\t('s.1', [SVDOneHotTransformer])\n",
       "\t('t', [SVDOneHotTransformer])\n",
       "\t('n', [SVDOneHotTransformer])\n",
       "\t('s', [SVDOneHotTransformer])\n",
       "\t('s.3', [SVDOneHotTransformer])\n",
       "\t('e', [SVDOneHotTransformer])\n",
       "\t('x', [SVDOneHotTransformer])\n",
       "\t('p.2', [SVDOneHotTransformer])\n",
       "\t('u', [SVDOneHotTransformer])\n",
       "\t('w.2', [SVDOneHotTransformer])\n",
       "\t('p', [SVDOneHotTransformer])\n",
       "\t('c', [SVDOneHotTransformer])\n",
       "\t('p.1', [SVDOneHotTransformer])\n",
       "\t('w.1', [SVDOneHotTransformer])\n",
       "\t('s.2', [SVDOneHotTransformer])\n",
       "\t('n.1', [SVDOneHotTransformer])\n",
       "\t('o', [SVDOneHotTransformer])\n",
       "\t('f', [SVDOneHotTransformer])\n",
       "\t('w', [SVDOneHotTransformer])\n",
       "\t('k.1', [SVDOneHotTransformer])\n",
       "\t('e.1', [SVDOneHotTransformer])\n",
       "\t('p.3', [SVDOneHotTransformer])"
      ]
     },
     "execution_count": 6,
     "metadata": {},
     "output_type": "execute_result"
    }
   ],
   "source": [
    "datapot"
   ]
  },
  {
   "cell_type": "markdown",
   "metadata": {},
   "source": [
    "As a result, only categorical transformers were choosen."
   ]
  },
  {
   "cell_type": "code",
   "execution_count": 7,
   "metadata": {
    "collapsed": false
   },
   "outputs": [],
   "source": [
    "data = datapot.transform(ftr)"
   ]
  },
  {
   "cell_type": "code",
   "execution_count": 8,
   "metadata": {
    "collapsed": false
   },
   "outputs": [
    {
     "data": {
      "text/html": [
       "<div>\n",
       "<table border=\"1\" class=\"dataframe\">\n",
       "  <thead>\n",
       "    <tr style=\"text-align: right;\">\n",
       "      <th></th>\n",
       "      <th>k_one_hot0</th>\n",
       "      <th>k_one_hot1</th>\n",
       "      <th>k_one_hot2</th>\n",
       "      <th>k_one_hot3</th>\n",
       "      <th>k_one_hot4</th>\n",
       "      <th>k_one_hot5</th>\n",
       "      <th>k_one_hot6</th>\n",
       "      <th>k_one_hot7</th>\n",
       "      <th>k_one_hot8</th>\n",
       "      <th>k_one_hot9</th>\n",
       "      <th>...</th>\n",
       "      <th>w_one_hot2</th>\n",
       "      <th>w_one_hot3</th>\n",
       "      <th>w_one_hot4</th>\n",
       "      <th>w_one_hot5</th>\n",
       "      <th>w_one_hot6</th>\n",
       "      <th>w_one_hot7</th>\n",
       "      <th>w_one_hot8</th>\n",
       "      <th>k.1_one_hot0</th>\n",
       "      <th>e.1_one_hot0</th>\n",
       "      <th>p.3_one_hot0</th>\n",
       "    </tr>\n",
       "  </thead>\n",
       "  <tbody>\n",
       "    <tr>\n",
       "      <th>0</th>\n",
       "      <td>1.0</td>\n",
       "      <td>0.0</td>\n",
       "      <td>0.0</td>\n",
       "      <td>0.0</td>\n",
       "      <td>0.0</td>\n",
       "      <td>0.0</td>\n",
       "      <td>0.0</td>\n",
       "      <td>0.0</td>\n",
       "      <td>0.0</td>\n",
       "      <td>0.0</td>\n",
       "      <td>...</td>\n",
       "      <td>0.0</td>\n",
       "      <td>0.0</td>\n",
       "      <td>0.0</td>\n",
       "      <td>0.0</td>\n",
       "      <td>0.0</td>\n",
       "      <td>0.0</td>\n",
       "      <td>0.0</td>\n",
       "      <td>1.0</td>\n",
       "      <td>1.0</td>\n",
       "      <td>1.0</td>\n",
       "    </tr>\n",
       "    <tr>\n",
       "      <th>1</th>\n",
       "      <td>0.0</td>\n",
       "      <td>1.0</td>\n",
       "      <td>0.0</td>\n",
       "      <td>0.0</td>\n",
       "      <td>0.0</td>\n",
       "      <td>0.0</td>\n",
       "      <td>0.0</td>\n",
       "      <td>0.0</td>\n",
       "      <td>0.0</td>\n",
       "      <td>0.0</td>\n",
       "      <td>...</td>\n",
       "      <td>0.0</td>\n",
       "      <td>0.0</td>\n",
       "      <td>0.0</td>\n",
       "      <td>0.0</td>\n",
       "      <td>0.0</td>\n",
       "      <td>0.0</td>\n",
       "      <td>0.0</td>\n",
       "      <td>1.0</td>\n",
       "      <td>1.0</td>\n",
       "      <td>1.0</td>\n",
       "    </tr>\n",
       "    <tr>\n",
       "      <th>2</th>\n",
       "      <td>0.0</td>\n",
       "      <td>1.0</td>\n",
       "      <td>0.0</td>\n",
       "      <td>0.0</td>\n",
       "      <td>0.0</td>\n",
       "      <td>0.0</td>\n",
       "      <td>0.0</td>\n",
       "      <td>0.0</td>\n",
       "      <td>0.0</td>\n",
       "      <td>0.0</td>\n",
       "      <td>...</td>\n",
       "      <td>0.0</td>\n",
       "      <td>0.0</td>\n",
       "      <td>0.0</td>\n",
       "      <td>0.0</td>\n",
       "      <td>0.0</td>\n",
       "      <td>0.0</td>\n",
       "      <td>0.0</td>\n",
       "      <td>1.0</td>\n",
       "      <td>1.0</td>\n",
       "      <td>1.0</td>\n",
       "    </tr>\n",
       "    <tr>\n",
       "      <th>3</th>\n",
       "      <td>1.0</td>\n",
       "      <td>0.0</td>\n",
       "      <td>0.0</td>\n",
       "      <td>0.0</td>\n",
       "      <td>0.0</td>\n",
       "      <td>0.0</td>\n",
       "      <td>0.0</td>\n",
       "      <td>0.0</td>\n",
       "      <td>0.0</td>\n",
       "      <td>0.0</td>\n",
       "      <td>...</td>\n",
       "      <td>0.0</td>\n",
       "      <td>0.0</td>\n",
       "      <td>0.0</td>\n",
       "      <td>0.0</td>\n",
       "      <td>0.0</td>\n",
       "      <td>0.0</td>\n",
       "      <td>0.0</td>\n",
       "      <td>1.0</td>\n",
       "      <td>1.0</td>\n",
       "      <td>1.0</td>\n",
       "    </tr>\n",
       "    <tr>\n",
       "      <th>4</th>\n",
       "      <td>0.0</td>\n",
       "      <td>1.0</td>\n",
       "      <td>0.0</td>\n",
       "      <td>0.0</td>\n",
       "      <td>0.0</td>\n",
       "      <td>0.0</td>\n",
       "      <td>0.0</td>\n",
       "      <td>0.0</td>\n",
       "      <td>0.0</td>\n",
       "      <td>0.0</td>\n",
       "      <td>...</td>\n",
       "      <td>0.0</td>\n",
       "      <td>0.0</td>\n",
       "      <td>0.0</td>\n",
       "      <td>0.0</td>\n",
       "      <td>0.0</td>\n",
       "      <td>0.0</td>\n",
       "      <td>0.0</td>\n",
       "      <td>1.0</td>\n",
       "      <td>1.0</td>\n",
       "      <td>1.0</td>\n",
       "    </tr>\n",
       "  </tbody>\n",
       "</table>\n",
       "<p>5 rows × 72 columns</p>\n",
       "</div>"
      ],
      "text/plain": [
       "   k_one_hot0  k_one_hot1  k_one_hot2  k_one_hot3  k_one_hot4  k_one_hot5  \\\n",
       "0         1.0         0.0         0.0         0.0         0.0         0.0   \n",
       "1         0.0         1.0         0.0         0.0         0.0         0.0   \n",
       "2         0.0         1.0         0.0         0.0         0.0         0.0   \n",
       "3         1.0         0.0         0.0         0.0         0.0         0.0   \n",
       "4         0.0         1.0         0.0         0.0         0.0         0.0   \n",
       "\n",
       "   k_one_hot6  k_one_hot7  k_one_hot8  k_one_hot9      ...       w_one_hot2  \\\n",
       "0         0.0         0.0         0.0         0.0      ...              0.0   \n",
       "1         0.0         0.0         0.0         0.0      ...              0.0   \n",
       "2         0.0         0.0         0.0         0.0      ...              0.0   \n",
       "3         0.0         0.0         0.0         0.0      ...              0.0   \n",
       "4         0.0         0.0         0.0         0.0      ...              0.0   \n",
       "\n",
       "   w_one_hot3  w_one_hot4  w_one_hot5  w_one_hot6  w_one_hot7  w_one_hot8  \\\n",
       "0         0.0         0.0         0.0         0.0         0.0         0.0   \n",
       "1         0.0         0.0         0.0         0.0         0.0         0.0   \n",
       "2         0.0         0.0         0.0         0.0         0.0         0.0   \n",
       "3         0.0         0.0         0.0         0.0         0.0         0.0   \n",
       "4         0.0         0.0         0.0         0.0         0.0         0.0   \n",
       "\n",
       "   k.1_one_hot0  e.1_one_hot0  p.3_one_hot0  \n",
       "0           1.0           1.0           1.0  \n",
       "1           1.0           1.0           1.0  \n",
       "2           1.0           1.0           1.0  \n",
       "3           1.0           1.0           1.0  \n",
       "4           1.0           1.0           1.0  \n",
       "\n",
       "[5 rows x 72 columns]"
      ]
     },
     "execution_count": 8,
     "metadata": {},
     "output_type": "execute_result"
    }
   ],
   "source": [
    "data.head()"
   ]
  },
  {
   "cell_type": "code",
   "execution_count": 9,
   "metadata": {
    "collapsed": false
   },
   "outputs": [
    {
     "data": {
      "text/plain": [
       "Index(['k_one_hot0', 'k_one_hot1', 'k_one_hot2', 'k_one_hot3', 'k_one_hot4',\n",
       "       'k_one_hot5', 'k_one_hot6', 'k_one_hot7', 'k_one_hot8', 'k_one_hot9',\n",
       "       'k_one_hot10', 'k_one_hot11', 's.1_one_hot0', 't_one_hot0',\n",
       "       't_one_hot1', 'n_one_hot0', 'n_one_hot1', 'n_one_hot2', 'n_one_hot3',\n",
       "       'n_one_hot4', 'n_one_hot5', 'n_one_hot6', 'n_one_hot7', 'n_one_hot8',\n",
       "       'n_one_hot9', 's_one_hot0', 's_one_hot1', 's_one_hot2', 's_one_hot3',\n",
       "       's.3_one_hot0', 'e_one_hot0', 'e_one_hot1', 'x_one_hot0', 'x_one_hot1',\n",
       "       'x_one_hot2', 'x_one_hot3', 'x_one_hot4', 'x_one_hot5', 'p.2_one_hot0',\n",
       "       'u_one_hot0', 'u_one_hot1', 'u_one_hot2', 'u_one_hot3', 'u_one_hot4',\n",
       "       'u_one_hot5', 'u_one_hot6', 'w.2_one_hot0', 'p_one_hot0', 'p_one_hot1',\n",
       "       'c_one_hot0', 'c_one_hot1', 'p.1_one_hot0', 'w.1_one_hot0',\n",
       "       's.2_one_hot0', 'n.1_one_hot0', 'o_one_hot0', 'o_one_hot1',\n",
       "       'o_one_hot2', 'f_one_hot0', 'f_one_hot1', 'w_one_hot0', 'w_one_hot1',\n",
       "       'w_one_hot2', 'w_one_hot3', 'w_one_hot4', 'w_one_hot5', 'w_one_hot6',\n",
       "       'w_one_hot7', 'w_one_hot8', 'k.1_one_hot0', 'e.1_one_hot0',\n",
       "       'p.3_one_hot0'],\n",
       "      dtype='object')"
      ]
     },
     "execution_count": 9,
     "metadata": {},
     "output_type": "execute_result"
    }
   ],
   "source": [
    "data.columns"
   ]
  },
  {
   "cell_type": "markdown",
   "metadata": {},
   "source": [
    "Let's test new features. For prediction, 'e' field is choosen."
   ]
  },
  {
   "cell_type": "code",
   "execution_count": 10,
   "metadata": {
    "collapsed": false
   },
   "outputs": [],
   "source": [
    "X = data.drop(['e_one_hot0', 'e_one_hot1'], axis=1)\n",
    "y = data['e_one_hot0']"
   ]
  },
  {
   "cell_type": "code",
   "execution_count": 11,
   "metadata": {
    "collapsed": true
   },
   "outputs": [],
   "source": [
    "from sklearn.model_selection import cross_val_score"
   ]
  },
  {
   "cell_type": "code",
   "execution_count": 13,
   "metadata": {
    "collapsed": false
   },
   "outputs": [
    {
     "name": "stderr",
     "output_type": "stream",
     "text": [
      "/home/yury/anaconda3/lib/python3.5/site-packages/sklearn/cross_validation.py:44: DeprecationWarning: This module was deprecated in version 0.18 in favor of the model_selection module into which all the refactored classes and functions are moved. Also note that the interface of the new CV iterators are different from that of this module. This module will be removed in 0.20.\n",
      "  \"This module will be removed in 0.20.\", DeprecationWarning)\n"
     ]
    },
    {
     "data": {
      "text/plain": [
       "array([ 0.976     ,  0.92430769,  0.98523077,  0.9612069 ,  0.92118227])"
      ]
     },
     "execution_count": 13,
     "metadata": {},
     "output_type": "execute_result"
    }
   ],
   "source": [
    "from xgboost import XGBClassifier\n",
    "clf = XGBClassifier(n_estimators=100)\n",
    "cross_val_score(clf, X, y, cv=5)"
   ]
  }
 ],
 "metadata": {
  "anaconda-cloud": {},
  "kernelspec": {
   "display_name": "Python [default]",
   "language": "python",
   "name": "python3"
  },
  "language_info": {
   "codemirror_mode": {
    "name": "ipython",
    "version": 3
   },
   "file_extension": ".py",
   "mimetype": "text/x-python",
   "name": "python",
   "nbconvert_exporter": "python",
   "pygments_lexer": "ipython3",
   "version": "3.5.2"
  }
 },
 "nbformat": 4,
 "nbformat_minor": 1
}
