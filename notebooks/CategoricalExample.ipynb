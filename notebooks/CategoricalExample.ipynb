{
 "cells": [
  {
   "cell_type": "markdown",
   "metadata": {
    "deletable": true,
    "editable": true
   },
   "source": [
    "### Dataset with categorical features.\n",
    "\n",
    "Here you can see how datapot works with [Mushroom Data Set](https://archive.ics.uci.edu/ml/datasets/Mushroom).\n",
    "The important detail about this dataset is that all it's features are categorical."
   ]
  },
  {
   "cell_type": "code",
   "execution_count": 1,
   "metadata": {
    "collapsed": false,
    "deletable": true,
    "editable": true
   },
   "outputs": [],
   "source": [
    "import datapot as dp\n",
    "import pandas as pd\n",
    "\n",
    "import time"
   ]
  },
  {
   "cell_type": "markdown",
   "metadata": {
    "deletable": true,
    "editable": true
   },
   "source": [
    "Creating the DataPot object."
   ]
  },
  {
   "cell_type": "code",
   "execution_count": 2,
   "metadata": {
    "collapsed": true,
    "deletable": true,
    "editable": true
   },
   "outputs": [],
   "source": [
    "datapot = dp.DataPot()"
   ]
  },
  {
   "cell_type": "code",
   "execution_count": 3,
   "metadata": {
    "collapsed": false,
    "deletable": true,
    "editable": true
   },
   "outputs": [],
   "source": [
    "import bz2\n",
    "ftr = bz2.BZ2File('../data/mushrooms.jsonlines.bz2') "
   ]
  },
  {
   "cell_type": "markdown",
   "metadata": {
    "deletable": true,
    "editable": true
   },
   "source": [
    "Let's call the fit method. It automatically finds appropriate transformers for the fields of jsonlines file. The parameter 'limit' means how many objects will be used to detect the right transformers."
   ]
  },
  {
   "cell_type": "code",
   "execution_count": 4,
   "metadata": {
    "collapsed": false,
    "deletable": true,
    "editable": true
   },
   "outputs": [
    {
     "name": "stdout",
     "output_type": "stream",
     "text": [
      "detect time: 0.1961979866027832\n"
     ]
    },
    {
     "data": {
      "text/plain": [
       "DataPot class instance\n",
       " - number of features without transformation: 23\n",
       " - number of new features: 0\n",
       "features to transform: \n",
       "\t('t', [SVDOneHotTransformer])\n",
       "\t('p.1', [SVDOneHotTransformer])\n",
       "\t('p.2', [SVDOneHotTransformer])\n",
       "\t('n.1', [SVDOneHotTransformer])\n",
       "\t('x', [SVDOneHotTransformer])\n",
       "\t('o', [SVDOneHotTransformer])\n",
       "\t('p', [SVDOneHotTransformer])\n",
       "\t('e', [SVDOneHotTransformer])\n",
       "\t('k', [SVDOneHotTransformer])\n",
       "\t('s', [SVDOneHotTransformer])\n",
       "\t('f', [SVDOneHotTransformer])\n",
       "\t('u', [SVDOneHotTransformer])\n",
       "\t('s.3', [SVDOneHotTransformer])\n",
       "\t('w.2', [SVDOneHotTransformer])\n",
       "\t('s.1', [SVDOneHotTransformer])\n",
       "\t('n', [SVDOneHotTransformer])\n",
       "\t('w.1', [SVDOneHotTransformer])\n",
       "\t('c', [SVDOneHotTransformer])\n",
       "\t('e.1', [SVDOneHotTransformer])\n",
       "\t('k.1', [SVDOneHotTransformer])\n",
       "\t('w', [SVDOneHotTransformer])\n",
       "\t('s.2', [SVDOneHotTransformer])\n",
       "\t('p.3', [SVDOneHotTransformer])"
      ]
     },
     "execution_count": 4,
     "metadata": {},
     "output_type": "execute_result"
    }
   ],
   "source": [
    "t0 = time.time()\n",
    "datapot.detect(ftr, limit = 1000)\n",
    "print('detect time:', time.time() - t0)\n",
    "datapot"
   ]
  },
  {
   "cell_type": "code",
   "execution_count": 5,
   "metadata": {
    "collapsed": false,
    "deletable": true,
    "editable": true
   },
   "outputs": [
    {
     "data": {
      "text/plain": [
       "DataPot class instance\n",
       " - number of features without transformation: 23\n",
       " - number of new features: 72\n",
       "features to transform: \n",
       "\t('t', [SVDOneHotTransformer])\n",
       "\t('p.1', [SVDOneHotTransformer])\n",
       "\t('p.2', [SVDOneHotTransformer])\n",
       "\t('n.1', [SVDOneHotTransformer])\n",
       "\t('x', [SVDOneHotTransformer])\n",
       "\t('o', [SVDOneHotTransformer])\n",
       "\t('p', [SVDOneHotTransformer])\n",
       "\t('e', [SVDOneHotTransformer])\n",
       "\t('k', [SVDOneHotTransformer])\n",
       "\t('s', [SVDOneHotTransformer])\n",
       "\t('f', [SVDOneHotTransformer])\n",
       "\t('u', [SVDOneHotTransformer])\n",
       "\t('s.3', [SVDOneHotTransformer])\n",
       "\t('w.2', [SVDOneHotTransformer])\n",
       "\t('s.1', [SVDOneHotTransformer])\n",
       "\t('n', [SVDOneHotTransformer])\n",
       "\t('w.1', [SVDOneHotTransformer])\n",
       "\t('c', [SVDOneHotTransformer])\n",
       "\t('e.1', [SVDOneHotTransformer])\n",
       "\t('k.1', [SVDOneHotTransformer])\n",
       "\t('w', [SVDOneHotTransformer])\n",
       "\t('s.2', [SVDOneHotTransformer])\n",
       "\t('p.3', [SVDOneHotTransformer])"
      ]
     },
     "execution_count": 5,
     "metadata": {},
     "output_type": "execute_result"
    }
   ],
   "source": [
    "datapot.fit(ftr)"
   ]
  },
  {
   "cell_type": "code",
   "execution_count": 6,
   "metadata": {
    "collapsed": false,
    "deletable": true,
    "editable": true
   },
   "outputs": [
    {
     "data": {
      "text/plain": [
       "DataPot class instance\n",
       " - number of features without transformation: 23\n",
       " - number of new features: 72\n",
       "features to transform: \n",
       "\t('t', [SVDOneHotTransformer])\n",
       "\t('p.1', [SVDOneHotTransformer])\n",
       "\t('p.2', [SVDOneHotTransformer])\n",
       "\t('n.1', [SVDOneHotTransformer])\n",
       "\t('x', [SVDOneHotTransformer])\n",
       "\t('o', [SVDOneHotTransformer])\n",
       "\t('p', [SVDOneHotTransformer])\n",
       "\t('e', [SVDOneHotTransformer])\n",
       "\t('k', [SVDOneHotTransformer])\n",
       "\t('s', [SVDOneHotTransformer])\n",
       "\t('f', [SVDOneHotTransformer])\n",
       "\t('u', [SVDOneHotTransformer])\n",
       "\t('s.3', [SVDOneHotTransformer])\n",
       "\t('w.2', [SVDOneHotTransformer])\n",
       "\t('s.1', [SVDOneHotTransformer])\n",
       "\t('n', [SVDOneHotTransformer])\n",
       "\t('w.1', [SVDOneHotTransformer])\n",
       "\t('c', [SVDOneHotTransformer])\n",
       "\t('e.1', [SVDOneHotTransformer])\n",
       "\t('k.1', [SVDOneHotTransformer])\n",
       "\t('w', [SVDOneHotTransformer])\n",
       "\t('s.2', [SVDOneHotTransformer])\n",
       "\t('p.3', [SVDOneHotTransformer])"
      ]
     },
     "execution_count": 6,
     "metadata": {},
     "output_type": "execute_result"
    }
   ],
   "source": [
    "datapot"
   ]
  },
  {
   "cell_type": "markdown",
   "metadata": {
    "deletable": true,
    "editable": true
   },
   "source": [
    "As a result, only categorical transformers were choosen."
   ]
  },
  {
   "cell_type": "code",
   "execution_count": 7,
   "metadata": {
    "collapsed": false,
    "deletable": true,
    "editable": true
   },
   "outputs": [
    {
     "name": "stderr",
     "output_type": "stream",
     "text": [
      "/usr/local/lib/python3.6/site-packages/datapot/__init__.py:137: FutureWarning: convert_objects is deprecated.  Use the data-type specific converters pd.to_datetime, pd.to_timedelta and pd.to_numeric.\n",
      "  return pd.DataFrame(data=np.hstack(columns), columns=names).convert_objects(convert_numeric=True)\n"
     ]
    }
   ],
   "source": [
    "data = datapot.transform(ftr)"
   ]
  },
  {
   "cell_type": "code",
   "execution_count": 8,
   "metadata": {
    "collapsed": false,
    "deletable": true,
    "editable": true
   },
   "outputs": [
    {
     "data": {
      "text/html": [
       "<div>\n",
       "<table border=\"1\" class=\"dataframe\">\n",
       "  <thead>\n",
       "    <tr style=\"text-align: right;\">\n",
       "      <th></th>\n",
       "      <th>t_t</th>\n",
       "      <th>t_f</th>\n",
       "      <th>p.1_None</th>\n",
       "      <th>p.2_None</th>\n",
       "      <th>n.1_None</th>\n",
       "      <th>x_x</th>\n",
       "      <th>x_b</th>\n",
       "      <th>x_s</th>\n",
       "      <th>x_f</th>\n",
       "      <th>x_k</th>\n",
       "      <th>...</th>\n",
       "      <th>w_g</th>\n",
       "      <th>w_p</th>\n",
       "      <th>w_n</th>\n",
       "      <th>w_b</th>\n",
       "      <th>w_e</th>\n",
       "      <th>w_o</th>\n",
       "      <th>w_c</th>\n",
       "      <th>w_y</th>\n",
       "      <th>s.2_None</th>\n",
       "      <th>p.3_None</th>\n",
       "    </tr>\n",
       "  </thead>\n",
       "  <tbody>\n",
       "    <tr>\n",
       "      <th>0</th>\n",
       "      <td>1.0</td>\n",
       "      <td>0.0</td>\n",
       "      <td>1.0</td>\n",
       "      <td>1.0</td>\n",
       "      <td>1.0</td>\n",
       "      <td>1.0</td>\n",
       "      <td>0.0</td>\n",
       "      <td>0.0</td>\n",
       "      <td>0.0</td>\n",
       "      <td>0.0</td>\n",
       "      <td>...</td>\n",
       "      <td>0.0</td>\n",
       "      <td>0.0</td>\n",
       "      <td>0.0</td>\n",
       "      <td>0.0</td>\n",
       "      <td>0.0</td>\n",
       "      <td>0.0</td>\n",
       "      <td>0.0</td>\n",
       "      <td>0.0</td>\n",
       "      <td>1.0</td>\n",
       "      <td>1.0</td>\n",
       "    </tr>\n",
       "    <tr>\n",
       "      <th>1</th>\n",
       "      <td>1.0</td>\n",
       "      <td>0.0</td>\n",
       "      <td>1.0</td>\n",
       "      <td>1.0</td>\n",
       "      <td>1.0</td>\n",
       "      <td>0.0</td>\n",
       "      <td>1.0</td>\n",
       "      <td>0.0</td>\n",
       "      <td>0.0</td>\n",
       "      <td>0.0</td>\n",
       "      <td>...</td>\n",
       "      <td>0.0</td>\n",
       "      <td>0.0</td>\n",
       "      <td>0.0</td>\n",
       "      <td>0.0</td>\n",
       "      <td>0.0</td>\n",
       "      <td>0.0</td>\n",
       "      <td>0.0</td>\n",
       "      <td>0.0</td>\n",
       "      <td>1.0</td>\n",
       "      <td>1.0</td>\n",
       "    </tr>\n",
       "    <tr>\n",
       "      <th>2</th>\n",
       "      <td>1.0</td>\n",
       "      <td>0.0</td>\n",
       "      <td>1.0</td>\n",
       "      <td>1.0</td>\n",
       "      <td>1.0</td>\n",
       "      <td>1.0</td>\n",
       "      <td>0.0</td>\n",
       "      <td>0.0</td>\n",
       "      <td>0.0</td>\n",
       "      <td>0.0</td>\n",
       "      <td>...</td>\n",
       "      <td>0.0</td>\n",
       "      <td>0.0</td>\n",
       "      <td>0.0</td>\n",
       "      <td>0.0</td>\n",
       "      <td>0.0</td>\n",
       "      <td>0.0</td>\n",
       "      <td>0.0</td>\n",
       "      <td>0.0</td>\n",
       "      <td>1.0</td>\n",
       "      <td>1.0</td>\n",
       "    </tr>\n",
       "    <tr>\n",
       "      <th>3</th>\n",
       "      <td>0.0</td>\n",
       "      <td>1.0</td>\n",
       "      <td>1.0</td>\n",
       "      <td>1.0</td>\n",
       "      <td>1.0</td>\n",
       "      <td>1.0</td>\n",
       "      <td>0.0</td>\n",
       "      <td>0.0</td>\n",
       "      <td>0.0</td>\n",
       "      <td>0.0</td>\n",
       "      <td>...</td>\n",
       "      <td>0.0</td>\n",
       "      <td>0.0</td>\n",
       "      <td>0.0</td>\n",
       "      <td>0.0</td>\n",
       "      <td>0.0</td>\n",
       "      <td>0.0</td>\n",
       "      <td>0.0</td>\n",
       "      <td>0.0</td>\n",
       "      <td>1.0</td>\n",
       "      <td>1.0</td>\n",
       "    </tr>\n",
       "    <tr>\n",
       "      <th>4</th>\n",
       "      <td>1.0</td>\n",
       "      <td>0.0</td>\n",
       "      <td>1.0</td>\n",
       "      <td>1.0</td>\n",
       "      <td>1.0</td>\n",
       "      <td>1.0</td>\n",
       "      <td>0.0</td>\n",
       "      <td>0.0</td>\n",
       "      <td>0.0</td>\n",
       "      <td>0.0</td>\n",
       "      <td>...</td>\n",
       "      <td>0.0</td>\n",
       "      <td>0.0</td>\n",
       "      <td>0.0</td>\n",
       "      <td>0.0</td>\n",
       "      <td>0.0</td>\n",
       "      <td>0.0</td>\n",
       "      <td>0.0</td>\n",
       "      <td>0.0</td>\n",
       "      <td>1.0</td>\n",
       "      <td>1.0</td>\n",
       "    </tr>\n",
       "  </tbody>\n",
       "</table>\n",
       "<p>5 rows × 72 columns</p>\n",
       "</div>"
      ],
      "text/plain": [
       "   t_t  t_f  p.1_None  p.2_None  n.1_None  x_x  x_b  x_s  x_f  x_k    ...     \\\n",
       "0  1.0  0.0       1.0       1.0       1.0  1.0  0.0  0.0  0.0  0.0    ...      \n",
       "1  1.0  0.0       1.0       1.0       1.0  0.0  1.0  0.0  0.0  0.0    ...      \n",
       "2  1.0  0.0       1.0       1.0       1.0  1.0  0.0  0.0  0.0  0.0    ...      \n",
       "3  0.0  1.0       1.0       1.0       1.0  1.0  0.0  0.0  0.0  0.0    ...      \n",
       "4  1.0  0.0       1.0       1.0       1.0  1.0  0.0  0.0  0.0  0.0    ...      \n",
       "\n",
       "   w_g  w_p  w_n  w_b  w_e  w_o  w_c  w_y  s.2_None  p.3_None  \n",
       "0  0.0  0.0  0.0  0.0  0.0  0.0  0.0  0.0       1.0       1.0  \n",
       "1  0.0  0.0  0.0  0.0  0.0  0.0  0.0  0.0       1.0       1.0  \n",
       "2  0.0  0.0  0.0  0.0  0.0  0.0  0.0  0.0       1.0       1.0  \n",
       "3  0.0  0.0  0.0  0.0  0.0  0.0  0.0  0.0       1.0       1.0  \n",
       "4  0.0  0.0  0.0  0.0  0.0  0.0  0.0  0.0       1.0       1.0  \n",
       "\n",
       "[5 rows x 72 columns]"
      ]
     },
     "execution_count": 8,
     "metadata": {},
     "output_type": "execute_result"
    }
   ],
   "source": [
    "data.head()"
   ]
  },
  {
   "cell_type": "code",
   "execution_count": 9,
   "metadata": {
    "collapsed": false,
    "deletable": true,
    "editable": true
   },
   "outputs": [
    {
     "data": {
      "text/plain": [
       "Index(['t_t', 't_f', 'p.1_None', 'p.2_None', 'n.1_None', 'x_x', 'x_b', 'x_s',\n",
       "       'x_f', 'x_k', 'x_c', 'o_o', 'o_t', 'o_n', 'p_e', 'p_p', 'e_e', 'e_t',\n",
       "       'k_k', 'k_n', 'k_g', 'k_p', 'k_w', 'k_h', 'k_u', 'k_e', 'k_b', 'k_r',\n",
       "       'k_y', 'k_o', 's_s', 's_y', 's_f', 's_g', 'f_f', 'f_a', 'u_g', 'u_m',\n",
       "       'u_u', 'u_d', 'u_p', 'u_w', 'u_l', 's.3_None', 'w.2_None', 's.1_None',\n",
       "       'n_y', 'n_w', 'n_g', 'n_n', 'n_e', 'n_p', 'n_b', 'n_u', 'n_c', 'n_r',\n",
       "       'w.1_None', 'c_c', 'c_w', 'e.1_None', 'k.1_None', 'w_w', 'w_g', 'w_p',\n",
       "       'w_n', 'w_b', 'w_e', 'w_o', 'w_c', 'w_y', 's.2_None', 'p.3_None'],\n",
       "      dtype='object')"
      ]
     },
     "execution_count": 9,
     "metadata": {},
     "output_type": "execute_result"
    }
   ],
   "source": [
    "data.columns"
   ]
  },
  {
   "cell_type": "markdown",
   "metadata": {
    "deletable": true,
    "editable": true
   },
   "source": [
    "Let's test new features. For prediction, 'e' field is choosen."
   ]
  },
  {
   "cell_type": "code",
   "execution_count": 10,
   "metadata": {
    "collapsed": false,
    "deletable": true,
    "editable": true
   },
   "outputs": [],
   "source": [
    "X = data.drop(['e_e', 'e_t'], axis=1)\n",
    "y = data['e_e']"
   ]
  },
  {
   "cell_type": "code",
   "execution_count": 11,
   "metadata": {
    "collapsed": true,
    "deletable": true,
    "editable": true
   },
   "outputs": [],
   "source": [
    "from sklearn.model_selection import cross_val_score"
   ]
  },
  {
   "cell_type": "code",
   "execution_count": 12,
   "metadata": {
    "collapsed": false,
    "deletable": true,
    "editable": true
   },
   "outputs": [
    {
     "data": {
      "text/plain": [
       "array([ 0.976     ,  0.92430769,  0.98523077,  0.9612069 ,  0.92118227])"
      ]
     },
     "execution_count": 12,
     "metadata": {},
     "output_type": "execute_result"
    }
   ],
   "source": [
    "from xgboost import XGBClassifier\n",
    "clf = XGBClassifier(n_estimators=100)\n",
    "cross_val_score(clf, X, y, cv=5)"
   ]
  },
  {
   "cell_type": "code",
   "execution_count": null,
   "metadata": {
    "collapsed": true,
    "deletable": true,
    "editable": true
   },
   "outputs": [],
   "source": []
  }
 ],
 "metadata": {
  "anaconda-cloud": {},
  "kernelspec": {
   "display_name": "Python 3",
   "language": "python",
   "name": "python3"
  },
  "language_info": {
   "codemirror_mode": {
    "name": "ipython",
    "version": 3
   },
   "file_extension": ".py",
   "mimetype": "text/x-python",
   "name": "python",
   "nbconvert_exporter": "python",
   "pygments_lexer": "ipython3",
   "version": "3.6.1"
  }
 },
 "nbformat": 4,
 "nbformat_minor": 1
}
