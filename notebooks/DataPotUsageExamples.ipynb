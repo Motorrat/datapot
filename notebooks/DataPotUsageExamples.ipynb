{
 "cells": [
  {
   "cell_type": "markdown",
   "metadata": {
    "deletable": true,
    "editable": true
   },
   "source": [
    "# DataPot Usage Examples"
   ]
  },
  {
   "cell_type": "code",
   "execution_count": 1,
   "metadata": {
    "collapsed": true,
    "deletable": true,
    "editable": true
   },
   "outputs": [],
   "source": [
    "import datapot as dp\n",
    "from datapot import datasets"
   ]
  },
  {
   "cell_type": "code",
   "execution_count": 2,
   "metadata": {
    "collapsed": false,
    "deletable": true,
    "editable": true
   },
   "outputs": [],
   "source": [
    "import pandas as pd\n",
    "from __future__ import print_function\n",
    "import sys\n",
    "import bz2\n",
    "import time\n",
    "import xgboost as xgb\n",
    "from sklearn.model_selection import cross_val_score\n",
    "\n",
    "import datapot as dp\n",
    "from datapot.utils import csv_to_jsonlines"
   ]
  },
  {
   "cell_type": "markdown",
   "metadata": {
    "deletable": true,
    "editable": true
   },
   "source": [
    "## Dataset with timestamp features extraction.\n",
    "Convert CSV file to JSON lines"
   ]
  },
  {
   "cell_type": "code",
   "execution_count": 3,
   "metadata": {
    "collapsed": false,
    "deletable": true,
    "editable": true
   },
   "outputs": [
    {
     "data": {
      "text/html": [
       "<div>\n",
       "<table border=\"1\" class=\"dataframe\">\n",
       "  <thead>\n",
       "    <tr style=\"text-align: right;\">\n",
       "      <th></th>\n",
       "      <th>merchant_id</th>\n",
       "      <th>latitude</th>\n",
       "      <th>longitude</th>\n",
       "      <th>real_transaction_dttm</th>\n",
       "      <th>record_date</th>\n",
       "    </tr>\n",
       "  </thead>\n",
       "  <tbody>\n",
       "    <tr>\n",
       "      <th>0</th>\n",
       "      <td>178</td>\n",
       "      <td>0.000000</td>\n",
       "      <td>0.000000</td>\n",
       "      <td>9:34:47</td>\n",
       "      <td>9:30:36</td>\n",
       "    </tr>\n",
       "    <tr>\n",
       "      <th>1</th>\n",
       "      <td>178</td>\n",
       "      <td>55.055995</td>\n",
       "      <td>82.912991</td>\n",
       "      <td>17:49:50</td>\n",
       "      <td>17:54:24</td>\n",
       "    </tr>\n",
       "    <tr>\n",
       "      <th>2</th>\n",
       "      <td>178</td>\n",
       "      <td>0.000000</td>\n",
       "      <td>0.000000</td>\n",
       "      <td>9:34:47</td>\n",
       "      <td>9:31:22</td>\n",
       "    </tr>\n",
       "    <tr>\n",
       "      <th>3</th>\n",
       "      <td>178</td>\n",
       "      <td>55.056034</td>\n",
       "      <td>82.912734</td>\n",
       "      <td>17:49:50</td>\n",
       "      <td>17:43:01</td>\n",
       "    </tr>\n",
       "    <tr>\n",
       "      <th>4</th>\n",
       "      <td>178</td>\n",
       "      <td>55.056034</td>\n",
       "      <td>82.912734</td>\n",
       "      <td>17:49:50</td>\n",
       "      <td>17:45:17</td>\n",
       "    </tr>\n",
       "  </tbody>\n",
       "</table>\n",
       "</div>"
      ],
      "text/plain": [
       "   merchant_id   latitude  longitude real_transaction_dttm record_date\n",
       "0          178   0.000000   0.000000               9:34:47     9:30:36\n",
       "1          178  55.055995  82.912991              17:49:50    17:54:24\n",
       "2          178   0.000000   0.000000               9:34:47     9:31:22\n",
       "3          178  55.056034  82.912734              17:49:50    17:43:01\n",
       "4          178  55.056034  82.912734              17:49:50    17:45:17"
      ]
     },
     "execution_count": 3,
     "metadata": {},
     "output_type": "execute_result"
    }
   ],
   "source": [
    "transactions = pd.read_csv('../data/transactions.csv')\n",
    "transactions.head()"
   ]
  },
  {
   "cell_type": "markdown",
   "metadata": {
    "deletable": true,
    "editable": true
   },
   "source": [
    "Creating the DataPot object."
   ]
  },
  {
   "cell_type": "code",
   "execution_count": 4,
   "metadata": {
    "collapsed": false,
    "deletable": true,
    "editable": true
   },
   "outputs": [],
   "source": [
    "datapot = dp.DataPot()"
   ]
  },
  {
   "cell_type": "code",
   "execution_count": 5,
   "metadata": {
    "collapsed": false,
    "deletable": true,
    "editable": true
   },
   "outputs": [],
   "source": [
    "from datapot.utils import csv_to_jsonlines\n",
    "\n",
    "csv_to_jsonlines('../data/transactions.csv', '../data/transactions.jsonlines')"
   ]
  },
  {
   "cell_type": "code",
   "execution_count": 6,
   "metadata": {
    "collapsed": false,
    "deletable": true,
    "editable": true
   },
   "outputs": [
    {
     "data": {
      "text/plain": [
       "'{\"merchant_id\":178,\"latitude\":0.0,\"longitude\":0.0,\"real_transaction_dttm\":\"9:34:47\",\"record_date\":\"9:30:36\"}\\n'"
      ]
     },
     "execution_count": 6,
     "metadata": {},
     "output_type": "execute_result"
    }
   ],
   "source": [
    "data_trns = open('../data/transactions.jsonlines')\n",
    "data_trns.readline()"
   ]
  },
  {
   "cell_type": "markdown",
   "metadata": {
    "deletable": true,
    "editable": true
   },
   "source": [
    "Let's call the fit method. It automatically finds appropriate transformers for the fields of jsonlines file. The parameter 'limit' means how many objects will be used to detect the right transformers."
   ]
  },
  {
   "cell_type": "code",
   "execution_count": 7,
   "metadata": {
    "collapsed": false,
    "deletable": true,
    "editable": true,
    "scrolled": true
   },
   "outputs": [
    {
     "data": {
      "text/plain": [
       "DataPot class instance\n",
       " - number of features without transformation: 5\n",
       " - number of new features: 13\n",
       "features to transform: \n",
       "\t('merchant_id', [SVDOneHotTransformer, NumericTransformer])\n",
       "\t('latitude', [NumericTransformer])\n",
       "\t('longitude', [NumericTransformer])\n",
       "\t('real_transaction_dttm', [TimestampTransformer])\n",
       "\t('record_date', [TimestampTransformer])"
      ]
     },
     "execution_count": 7,
     "metadata": {},
     "output_type": "execute_result"
    }
   ],
   "source": [
    "datapot.detect(data_trns, limit=100)"
   ]
  },
  {
   "cell_type": "code",
   "execution_count": 8,
   "metadata": {
    "collapsed": false,
    "deletable": true,
    "editable": true
   },
   "outputs": [
    {
     "name": "stdout",
     "output_type": "stream",
     "text": [
      "fit transformers...\n",
      "fit: ('merchant_id', [SVDOneHotTransformer, NumericTransformer])\n",
      "fit: ('latitude', [NumericTransformer])\n",
      "fit: ('longitude', [NumericTransformer])\n",
      "fit: ('real_transaction_dttm', [TimestampTransformer])\n",
      "fit: ('record_date', [TimestampTransformer])\n",
      "fit transformers...OK\n",
      "num of new features: 23\n",
      "fit time: 4.036453008651733\n"
     ]
    }
   ],
   "source": [
    "t0 = time.time()\n",
    "datapot.fit(data_trns, verbose=True)\n",
    "print('fit time:', time.time()-t0)"
   ]
  },
  {
   "cell_type": "code",
   "execution_count": 9,
   "metadata": {
    "collapsed": false,
    "deletable": true,
    "editable": true
   },
   "outputs": [
    {
     "data": {
      "text/plain": [
       "DataPot class instance\n",
       " - number of features without transformation: 5\n",
       " - number of new features: 23\n",
       "features to transform: \n",
       "\t('merchant_id', [SVDOneHotTransformer, NumericTransformer])\n",
       "\t('latitude', [NumericTransformer])\n",
       "\t('longitude', [NumericTransformer])\n",
       "\t('real_transaction_dttm', [TimestampTransformer])\n",
       "\t('record_date', [TimestampTransformer])"
      ]
     },
     "execution_count": 9,
     "metadata": {},
     "output_type": "execute_result"
    }
   ],
   "source": [
    "datapot"
   ]
  },
  {
   "cell_type": "markdown",
   "metadata": {
    "deletable": true,
    "editable": true
   },
   "source": [
    "Let's **remove** the SVDOneHotTransformer"
   ]
  },
  {
   "cell_type": "code",
   "execution_count": 10,
   "metadata": {
    "collapsed": false,
    "deletable": true,
    "editable": true
   },
   "outputs": [
    {
     "data": {
      "text/plain": [
       "DataPot class instance\n",
       " - number of features without transformation: 5\n",
       " - number of new features: 23\n",
       "features to transform: \n",
       "\t('merchant_id', [NumericTransformer])\n",
       "\t('latitude', [NumericTransformer])\n",
       "\t('longitude', [NumericTransformer])\n",
       "\t('real_transaction_dttm', [TimestampTransformer])\n",
       "\t('record_date', [TimestampTransformer])"
      ]
     },
     "execution_count": 10,
     "metadata": {},
     "output_type": "execute_result"
    }
   ],
   "source": [
    "datapot.remove_transformer('merchant_id', 0)"
   ]
  },
  {
   "cell_type": "code",
   "execution_count": 11,
   "metadata": {
    "collapsed": false,
    "deletable": true,
    "editable": true
   },
   "outputs": [
    {
     "name": "stdout",
     "output_type": "stream",
     "text": [
      "transform time: 42.444371938705444\n"
     ]
    },
    {
     "name": "stderr",
     "output_type": "stream",
     "text": [
      "/usr/local/lib/python3.6/site-packages/datapot/__init__.py:137: FutureWarning: convert_objects is deprecated.  Use the data-type specific converters pd.to_datetime, pd.to_timedelta and pd.to_numeric.\n",
      "  return pd.DataFrame(data=np.hstack(columns), columns=names).convert_objects(convert_numeric=True)\n"
     ]
    }
   ],
   "source": [
    "t0 = time.time()\n",
    "df_trns = datapot.transform(data_trns)\n",
    "print('transform time:', time.time()-t0)"
   ]
  },
  {
   "cell_type": "code",
   "execution_count": 12,
   "metadata": {
    "collapsed": false,
    "deletable": true,
    "editable": true,
    "scrolled": true
   },
   "outputs": [
    {
     "data": {
      "text/html": [
       "<div>\n",
       "<table border=\"1\" class=\"dataframe\">\n",
       "  <thead>\n",
       "    <tr style=\"text-align: right;\">\n",
       "      <th></th>\n",
       "      <th>merchant_id</th>\n",
       "      <th>latitude</th>\n",
       "      <th>longitude</th>\n",
       "      <th>real_transaction_dttm_timestamp_unixtime</th>\n",
       "      <th>real_transaction_dttm_timestamp_week_day</th>\n",
       "      <th>real_transaction_dttm_timestamp_month_day</th>\n",
       "      <th>real_transaction_dttm_timestamp_hour</th>\n",
       "      <th>real_transaction_dttm_timestamp_minute</th>\n",
       "      <th>record_date_timestamp_unixtime</th>\n",
       "      <th>record_date_timestamp_week_day</th>\n",
       "      <th>record_date_timestamp_month_day</th>\n",
       "      <th>record_date_timestamp_hour</th>\n",
       "      <th>record_date_timestamp_minute</th>\n",
       "    </tr>\n",
       "  </thead>\n",
       "  <tbody>\n",
       "    <tr>\n",
       "      <th>0</th>\n",
       "      <td>178.0</td>\n",
       "      <td>0.000000</td>\n",
       "      <td>0.000000</td>\n",
       "      <td>1.496299e+09</td>\n",
       "      <td>3.0</td>\n",
       "      <td>1.0</td>\n",
       "      <td>9.0</td>\n",
       "      <td>34.0</td>\n",
       "      <td>1.496299e+09</td>\n",
       "      <td>3.0</td>\n",
       "      <td>1.0</td>\n",
       "      <td>9.0</td>\n",
       "      <td>30.0</td>\n",
       "    </tr>\n",
       "    <tr>\n",
       "      <th>1</th>\n",
       "      <td>178.0</td>\n",
       "      <td>55.055996</td>\n",
       "      <td>82.912991</td>\n",
       "      <td>1.496329e+09</td>\n",
       "      <td>3.0</td>\n",
       "      <td>1.0</td>\n",
       "      <td>17.0</td>\n",
       "      <td>49.0</td>\n",
       "      <td>1.496329e+09</td>\n",
       "      <td>3.0</td>\n",
       "      <td>1.0</td>\n",
       "      <td>17.0</td>\n",
       "      <td>54.0</td>\n",
       "    </tr>\n",
       "    <tr>\n",
       "      <th>2</th>\n",
       "      <td>178.0</td>\n",
       "      <td>0.000000</td>\n",
       "      <td>0.000000</td>\n",
       "      <td>1.496299e+09</td>\n",
       "      <td>3.0</td>\n",
       "      <td>1.0</td>\n",
       "      <td>9.0</td>\n",
       "      <td>34.0</td>\n",
       "      <td>1.496299e+09</td>\n",
       "      <td>3.0</td>\n",
       "      <td>1.0</td>\n",
       "      <td>9.0</td>\n",
       "      <td>31.0</td>\n",
       "    </tr>\n",
       "    <tr>\n",
       "      <th>3</th>\n",
       "      <td>178.0</td>\n",
       "      <td>55.056034</td>\n",
       "      <td>82.912734</td>\n",
       "      <td>1.496329e+09</td>\n",
       "      <td>3.0</td>\n",
       "      <td>1.0</td>\n",
       "      <td>17.0</td>\n",
       "      <td>49.0</td>\n",
       "      <td>1.496328e+09</td>\n",
       "      <td>3.0</td>\n",
       "      <td>1.0</td>\n",
       "      <td>17.0</td>\n",
       "      <td>43.0</td>\n",
       "    </tr>\n",
       "    <tr>\n",
       "      <th>4</th>\n",
       "      <td>178.0</td>\n",
       "      <td>55.056034</td>\n",
       "      <td>82.912734</td>\n",
       "      <td>1.496329e+09</td>\n",
       "      <td>3.0</td>\n",
       "      <td>1.0</td>\n",
       "      <td>17.0</td>\n",
       "      <td>49.0</td>\n",
       "      <td>1.496328e+09</td>\n",
       "      <td>3.0</td>\n",
       "      <td>1.0</td>\n",
       "      <td>17.0</td>\n",
       "      <td>45.0</td>\n",
       "    </tr>\n",
       "  </tbody>\n",
       "</table>\n",
       "</div>"
      ],
      "text/plain": [
       "   merchant_id   latitude  longitude  \\\n",
       "0        178.0   0.000000   0.000000   \n",
       "1        178.0  55.055996  82.912991   \n",
       "2        178.0   0.000000   0.000000   \n",
       "3        178.0  55.056034  82.912734   \n",
       "4        178.0  55.056034  82.912734   \n",
       "\n",
       "   real_transaction_dttm_timestamp_unixtime  \\\n",
       "0                              1.496299e+09   \n",
       "1                              1.496329e+09   \n",
       "2                              1.496299e+09   \n",
       "3                              1.496329e+09   \n",
       "4                              1.496329e+09   \n",
       "\n",
       "   real_transaction_dttm_timestamp_week_day  \\\n",
       "0                                       3.0   \n",
       "1                                       3.0   \n",
       "2                                       3.0   \n",
       "3                                       3.0   \n",
       "4                                       3.0   \n",
       "\n",
       "   real_transaction_dttm_timestamp_month_day  \\\n",
       "0                                        1.0   \n",
       "1                                        1.0   \n",
       "2                                        1.0   \n",
       "3                                        1.0   \n",
       "4                                        1.0   \n",
       "\n",
       "   real_transaction_dttm_timestamp_hour  \\\n",
       "0                                   9.0   \n",
       "1                                  17.0   \n",
       "2                                   9.0   \n",
       "3                                  17.0   \n",
       "4                                  17.0   \n",
       "\n",
       "   real_transaction_dttm_timestamp_minute  record_date_timestamp_unixtime  \\\n",
       "0                                    34.0                    1.496299e+09   \n",
       "1                                    49.0                    1.496329e+09   \n",
       "2                                    34.0                    1.496299e+09   \n",
       "3                                    49.0                    1.496328e+09   \n",
       "4                                    49.0                    1.496328e+09   \n",
       "\n",
       "   record_date_timestamp_week_day  record_date_timestamp_month_day  \\\n",
       "0                             3.0                              1.0   \n",
       "1                             3.0                              1.0   \n",
       "2                             3.0                              1.0   \n",
       "3                             3.0                              1.0   \n",
       "4                             3.0                              1.0   \n",
       "\n",
       "   record_date_timestamp_hour  record_date_timestamp_minute  \n",
       "0                         9.0                          30.0  \n",
       "1                        17.0                          54.0  \n",
       "2                         9.0                          31.0  \n",
       "3                        17.0                          43.0  \n",
       "4                        17.0                          45.0  "
      ]
     },
     "execution_count": 12,
     "metadata": {},
     "output_type": "execute_result"
    }
   ],
   "source": [
    "df_trns.head()"
   ]
  },
  {
   "cell_type": "code",
   "execution_count": null,
   "metadata": {
    "collapsed": false,
    "deletable": true,
    "editable": true
   },
   "outputs": [],
   "source": []
  },
  {
   "cell_type": "markdown",
   "metadata": {
    "deletable": true,
    "editable": true
   },
   "source": [
    "## Bag of Words Meets Bags of Popcorn\n",
    "\n",
    "### Usage example for unstructured textual bzip2-compressed data\n",
    "\n",
    "https://www.kaggle.com/c/word2vec-nlp-tutorial/data\n",
    "\n",
    "\n",
    "datapot.fit method subsamples the data to detect language and choose corresponding stopwords and stemming.\n",
    "\n",
    "For each review datapot.transform generates an SVD-compressed 12-dimensional tfidf-vector representation.\n"
   ]
  },
  {
   "cell_type": "code",
   "execution_count": 13,
   "metadata": {
    "collapsed": false,
    "deletable": true,
    "editable": true
   },
   "outputs": [],
   "source": [
    "import datapot as dp\n",
    "from datapot import datasets"
   ]
  },
  {
   "cell_type": "markdown",
   "metadata": {
    "deletable": true,
    "editable": true
   },
   "source": [
    "Load data from datapot.datasets"
   ]
  },
  {
   "cell_type": "code",
   "execution_count": 14,
   "metadata": {
    "collapsed": false,
    "deletable": true,
    "editable": true
   },
   "outputs": [],
   "source": [
    "data_imdb = datasets.load_imdb() "
   ]
  },
  {
   "cell_type": "markdown",
   "metadata": {
    "deletable": true,
    "editable": true
   },
   "source": [
    "Or load directly from file"
   ]
  },
  {
   "cell_type": "code",
   "execution_count": 15,
   "metadata": {
    "collapsed": true,
    "deletable": true,
    "editable": true
   },
   "outputs": [],
   "source": [
    "data_imdb = bz2.BZ2File('data/imdb.jsonlines.bz2')"
   ]
  },
  {
   "cell_type": "raw",
   "metadata": {
    "deletable": true,
    "editable": true
   },
   "source": [
    "# imdb.jsonlines example:\n",
    "\n",
    "{\"id\":\"5814_8\",\n",
    "\"sentiment\":1,\n",
    "\"review\":\"With all this stuff going down at the moment with MJ i've started listening to his music, watching the odd documentary here and there, watched The Wiz and watched Moonwalker again. Maybe i just want to get a certain insight into this guy who i thought was really cool in the eighties just to maybe make up my mind whether he is guilty or innocent. Moonwalker is part biography, part feature film which i remember going to see at the cinema when it was originally released. Some of it has subtle messages about MJ's feeling towards the press and also the obvious message of drugs are bad m'kay.<br /><br />Visually impressive but of course this is all about Michael Jackson so unless you remotely like MJ in anyway then you are going to hate this and find it boring. Some may call MJ an egotist for consenting to the making of this movie BUT MJ and most of his fans would say that he made it for the fans which if true is really nice of him.<br /><br />The actual feature film bit when it finally starts is only on for 20 minutes or so excluding the Smooth Criminal sequence and Joe Pesci is convincing as a psychopathic all powerful drug lord. Why he wants MJ dead so bad is beyond me. Because MJ overheard his plans? Nah, Joe Pesci's character ranted that he wanted people to know it is he who is supplying drugs etc so i dunno, maybe he just hates MJ's music.<br /><br />Lots of cool things in this like MJ turning into a car and a robot and the whole Speed Demon sequence. Also, the director must have had the patience of a saint when it came to filming the kiddy Bad sequence as usually directors hate working with one kid let alone a whole bunch of them performing a complex dance scene.<br /><br />Bottom line, this movie is for people who like MJ on one level or another (which i think is most people). If not, then stay away. It does try and give off a wholesome message and ironically MJ's bestest buddy in this movie is a girl! Michael Jackson is truly one of the most talented people ever to grace this planet but is he guilty? Well, with all the attention i've gave this subject....hmmm well i don't know because people can be different behind closed doors, i know this for a fact. He is either an extremely nice but stupid guy or one of the most sickest liars. I hope he is not the latter.\"}"
   ]
  },
  {
   "cell_type": "code",
   "execution_count": 16,
   "metadata": {
    "collapsed": true,
    "deletable": true,
    "editable": true
   },
   "outputs": [],
   "source": [
    "datapot_imdb = dp.DataPot()"
   ]
  },
  {
   "cell_type": "code",
   "execution_count": 17,
   "metadata": {
    "collapsed": false,
    "deletable": true,
    "editable": true
   },
   "outputs": [
    {
     "name": "stdout",
     "output_type": "stream",
     "text": [
      "detect time: 0.04420304298400879\n"
     ]
    },
    {
     "data": {
      "text/plain": [
       "DataPot class instance\n",
       " - number of features without transformation: 3\n",
       " - number of new features: Unknown\n",
       "features to transform: \n",
       "\t('id', [NumericTransformer])\n",
       "\t('sentiment', [SVDOneHotTransformer, NumericTransformer])\n",
       "\t('review', [TfidfTransformer])"
      ]
     },
     "execution_count": 17,
     "metadata": {},
     "output_type": "execute_result"
    }
   ],
   "source": [
    "t0 = time.time()\n",
    "datapot_imdb.detect(data_imdb)\n",
    "print('detect time:', time.time()-t0)\n",
    "datapot_imdb"
   ]
  },
  {
   "cell_type": "code",
   "execution_count": 18,
   "metadata": {
    "collapsed": false,
    "deletable": true,
    "editable": true
   },
   "outputs": [
    {
     "data": {
      "text/plain": [
       "DataPot class instance\n",
       " - number of features without transformation: 3\n",
       " - number of new features: Unknown\n",
       "features to transform: \n",
       "\t('id', [NumericTransformer])\n",
       "\t('sentiment', [NumericTransformer])\n",
       "\t('review', [TfidfTransformer])"
      ]
     },
     "execution_count": 18,
     "metadata": {},
     "output_type": "execute_result"
    }
   ],
   "source": [
    "datapot_imdb.remove_transformer('sentiment', 0)"
   ]
  },
  {
   "cell_type": "code",
   "execution_count": 19,
   "metadata": {
    "collapsed": false,
    "deletable": true,
    "editable": true
   },
   "outputs": [
    {
     "name": "stdout",
     "output_type": "stream",
     "text": [
      "fit transformers...\n",
      "fit: ('id', [NumericTransformer])\n",
      "fit: ('sentiment', [NumericTransformer])\n",
      "fit: ('review', [TfidfTransformer])\n",
      "fit transformers...OK\n",
      "num of new features: 14\n"
     ]
    },
    {
     "data": {
      "text/plain": [
       "DataPot class instance\n",
       " - number of features without transformation: 3\n",
       " - number of new features: 14\n",
       "features to transform: \n",
       "\t('id', [NumericTransformer])\n",
       "\t('sentiment', [NumericTransformer])\n",
       "\t('review', [TfidfTransformer])"
      ]
     },
     "execution_count": 19,
     "metadata": {},
     "output_type": "execute_result"
    }
   ],
   "source": [
    "t0 = time.time()\n",
    "datapot_imdb.fit(data_imdb, verbose=True)"
   ]
  },
  {
   "cell_type": "code",
   "execution_count": 20,
   "metadata": {
    "collapsed": false,
    "deletable": true,
    "editable": true
   },
   "outputs": [
    {
     "name": "stdout",
     "output_type": "stream",
     "text": [
      "fit time: 4.17433500289917\n"
     ]
    }
   ],
   "source": [
    "print('fit time:', time.time()-t0)"
   ]
  },
  {
   "cell_type": "code",
   "execution_count": 21,
   "metadata": {
    "collapsed": false,
    "deletable": true,
    "editable": true
   },
   "outputs": [
    {
     "name": "stdout",
     "output_type": "stream",
     "text": [
      "transform time: 3.3115808963775635\n"
     ]
    },
    {
     "name": "stderr",
     "output_type": "stream",
     "text": [
      "/usr/local/lib/python3.6/site-packages/datapot/__init__.py:137: FutureWarning: convert_objects is deprecated.  Use the data-type specific converters pd.to_datetime, pd.to_timedelta and pd.to_numeric.\n",
      "  return pd.DataFrame(data=np.hstack(columns), columns=names).convert_objects(convert_numeric=True)\n"
     ]
    }
   ],
   "source": [
    "t0 = time.time()\n",
    "df_imdb = datapot_imdb.transform(data_imdb)\n",
    "print('transform time:', time.time()-t0)"
   ]
  },
  {
   "cell_type": "code",
   "execution_count": 22,
   "metadata": {
    "collapsed": false,
    "deletable": true,
    "editable": true
   },
   "outputs": [
    {
     "data": {
      "text/html": [
       "<div>\n",
       "<table border=\"1\" class=\"dataframe\">\n",
       "  <thead>\n",
       "    <tr style=\"text-align: right;\">\n",
       "      <th></th>\n",
       "      <th>id</th>\n",
       "      <th>sentiment</th>\n",
       "      <th>review_0</th>\n",
       "      <th>review_1</th>\n",
       "      <th>review_2</th>\n",
       "      <th>review_3</th>\n",
       "      <th>review_4</th>\n",
       "      <th>review_5</th>\n",
       "      <th>review_6</th>\n",
       "      <th>review_7</th>\n",
       "      <th>review_8</th>\n",
       "      <th>review_9</th>\n",
       "      <th>review_10</th>\n",
       "      <th>review_11</th>\n",
       "    </tr>\n",
       "  </thead>\n",
       "  <tbody>\n",
       "    <tr>\n",
       "      <th>0</th>\n",
       "      <td>58148.0</td>\n",
       "      <td>1.0</td>\n",
       "      <td>0.033939</td>\n",
       "      <td>0.066220</td>\n",
       "      <td>0.045984</td>\n",
       "      <td>0.000000</td>\n",
       "      <td>0.030910</td>\n",
       "      <td>0.117753</td>\n",
       "      <td>0.039371</td>\n",
       "      <td>0.034749</td>\n",
       "      <td>0.013392</td>\n",
       "      <td>0.046078</td>\n",
       "      <td>0.110713</td>\n",
       "      <td>0.013378</td>\n",
       "    </tr>\n",
       "    <tr>\n",
       "      <th>1</th>\n",
       "      <td>23819.0</td>\n",
       "      <td>1.0</td>\n",
       "      <td>0.063591</td>\n",
       "      <td>0.000000</td>\n",
       "      <td>0.021630</td>\n",
       "      <td>0.005718</td>\n",
       "      <td>0.019691</td>\n",
       "      <td>0.021786</td>\n",
       "      <td>0.042178</td>\n",
       "      <td>0.076461</td>\n",
       "      <td>0.014525</td>\n",
       "      <td>0.000000</td>\n",
       "      <td>0.013750</td>\n",
       "      <td>0.000000</td>\n",
       "    </tr>\n",
       "    <tr>\n",
       "      <th>2</th>\n",
       "      <td>77593.0</td>\n",
       "      <td>0.0</td>\n",
       "      <td>0.097556</td>\n",
       "      <td>0.018326</td>\n",
       "      <td>0.003088</td>\n",
       "      <td>0.007263</td>\n",
       "      <td>0.000000</td>\n",
       "      <td>0.000000</td>\n",
       "      <td>0.020470</td>\n",
       "      <td>0.000000</td>\n",
       "      <td>0.173276</td>\n",
       "      <td>0.005671</td>\n",
       "      <td>0.000000</td>\n",
       "      <td>0.000000</td>\n",
       "    </tr>\n",
       "    <tr>\n",
       "      <th>3</th>\n",
       "      <td>36304.0</td>\n",
       "      <td>0.0</td>\n",
       "      <td>0.126620</td>\n",
       "      <td>0.035640</td>\n",
       "      <td>0.011742</td>\n",
       "      <td>0.006708</td>\n",
       "      <td>0.000000</td>\n",
       "      <td>0.027994</td>\n",
       "      <td>0.082361</td>\n",
       "      <td>0.053935</td>\n",
       "      <td>0.054434</td>\n",
       "      <td>0.001473</td>\n",
       "      <td>0.008279</td>\n",
       "      <td>0.000000</td>\n",
       "    </tr>\n",
       "    <tr>\n",
       "      <th>4</th>\n",
       "      <td>94958.0</td>\n",
       "      <td>1.0</td>\n",
       "      <td>0.064286</td>\n",
       "      <td>0.000287</td>\n",
       "      <td>0.010754</td>\n",
       "      <td>0.039657</td>\n",
       "      <td>0.000336</td>\n",
       "      <td>0.035009</td>\n",
       "      <td>0.001940</td>\n",
       "      <td>0.016348</td>\n",
       "      <td>0.118498</td>\n",
       "      <td>0.046068</td>\n",
       "      <td>0.022181</td>\n",
       "      <td>0.001115</td>\n",
       "    </tr>\n",
       "  </tbody>\n",
       "</table>\n",
       "</div>"
      ],
      "text/plain": [
       "        id  sentiment  review_0  review_1  review_2  review_3  review_4  \\\n",
       "0  58148.0        1.0  0.033939  0.066220  0.045984  0.000000  0.030910   \n",
       "1  23819.0        1.0  0.063591  0.000000  0.021630  0.005718  0.019691   \n",
       "2  77593.0        0.0  0.097556  0.018326  0.003088  0.007263  0.000000   \n",
       "3  36304.0        0.0  0.126620  0.035640  0.011742  0.006708  0.000000   \n",
       "4  94958.0        1.0  0.064286  0.000287  0.010754  0.039657  0.000336   \n",
       "\n",
       "   review_5  review_6  review_7  review_8  review_9  review_10  review_11  \n",
       "0  0.117753  0.039371  0.034749  0.013392  0.046078   0.110713   0.013378  \n",
       "1  0.021786  0.042178  0.076461  0.014525  0.000000   0.013750   0.000000  \n",
       "2  0.000000  0.020470  0.000000  0.173276  0.005671   0.000000   0.000000  \n",
       "3  0.027994  0.082361  0.053935  0.054434  0.001473   0.008279   0.000000  \n",
       "4  0.035009  0.001940  0.016348  0.118498  0.046068   0.022181   0.001115  "
      ]
     },
     "execution_count": 22,
     "metadata": {},
     "output_type": "execute_result"
    }
   ],
   "source": [
    "df_imdb.head()"
   ]
  },
  {
   "cell_type": "code",
   "execution_count": 23,
   "metadata": {
    "collapsed": false,
    "deletable": true,
    "editable": true
   },
   "outputs": [],
   "source": [
    "X = df_imdb.drop(['sentiment'], axis=1)\n",
    "y = df_imdb['sentiment']"
   ]
  },
  {
   "cell_type": "code",
   "execution_count": 24,
   "metadata": {
    "collapsed": false,
    "deletable": true,
    "editable": true
   },
   "outputs": [
    {
     "name": "stdout",
     "output_type": "stream",
     "text": [
      "Cross-val score: [ 0.72427572  0.73226773  0.726       0.72772773  0.70870871]\n",
      "Feature importance:\n",
      "('id', 0.16129032)\n",
      "('review_0', 0.05882353)\n",
      "('review_1', 0.068311192)\n",
      "('review_2', 0.060721062)\n",
      "('review_3', 0.064516127)\n",
      "('review_4', 0.072106265)\n",
      "('review_5', 0.062618598)\n",
      "('review_6', 0.070208728)\n",
      "('review_7', 0.089184061)\n",
      "('review_8', 0.1309298)\n",
      "('review_9', 0.066413663)\n",
      "('review_10', 0.051233396)\n",
      "('review_11', 0.043643262)\n"
     ]
    }
   ],
   "source": [
    "model = xgb.XGBClassifier()\n",
    "cv_score = cross_val_score(model, X, y, cv=5)\n",
    "assert all(i > 0.5 for i in cv_score), 'Low score!'\n",
    "print('Cross-val score:', cv_score)\n",
    "\n",
    "model.fit(X, y)\n",
    "fi = model.feature_importances_\n",
    "\n",
    "print('Feature importance:')\n",
    "print(*(list(zip(X.columns, fi))), sep='\\n')"
   ]
  },
  {
   "cell_type": "markdown",
   "metadata": {
    "collapsed": true,
    "deletable": true,
    "editable": true
   },
   "source": [
    "## Job Salary Prediction\n",
    "\n",
    "### Usage example for unstructured textual bzip2-compressed data\n"
   ]
  },
  {
   "cell_type": "code",
   "execution_count": 25,
   "metadata": {
    "collapsed": false,
    "deletable": true,
    "editable": true
   },
   "outputs": [],
   "source": [
    "from datapot import datasets\n",
    "\n",
    "data_job = datasets.load_job_salary()\n",
    "\n",
    "# Or load from file%: \n",
    "# data_job = bz2.BZ2File('datapot/data/job.jsonlines.bz2')"
   ]
  },
  {
   "cell_type": "raw",
   "metadata": {
    "deletable": true,
    "editable": true
   },
   "source": [
    "# jobs.jsonlines example:\n",
    "\n",
    "{\"Id\":12612628,\n",
    "\"Title\":\"Engineering Systems Analyst\",\"FullDescription\":\"Engineering Systems Analyst Dorking Surrey Salary ****K Our client is located in Dorking, Surrey and are looking for Engineering Systems Analyst our client provides specialist software development Keywords Mathematical Modelling, Risk Analysis, System Modelling, Optimisation, MISER, PIONEEER Engineering Systems Analyst Dorking Surrey Salary ****K\",\n",
    "\"LocationNormalized\":\"Dorking\",\n",
    "\"ContractType\":null,\n",
    "\"ContractTime\":\"permanent\",\n",
    "\"Company\":\"Gregory Martin International\",\n",
    "\"Category\":\"Engineering Jobs\",\n",
    "\"SalaryNormalized\":25000}"
   ]
  },
  {
   "cell_type": "code",
   "execution_count": 26,
   "metadata": {
    "collapsed": true,
    "deletable": true,
    "editable": true
   },
   "outputs": [],
   "source": [
    "datapot_job = dp.DataPot()"
   ]
  },
  {
   "cell_type": "code",
   "execution_count": 27,
   "metadata": {
    "collapsed": false,
    "deletable": true,
    "editable": true
   },
   "outputs": [
    {
     "name": "stdout",
     "output_type": "stream",
     "text": [
      "detect time: 0.03157186508178711\n"
     ]
    },
    {
     "data": {
      "text/plain": [
       "DataPot class instance\n",
       " - number of features without transformation: 9\n",
       " - number of new features: Unknown\n",
       "features to transform: \n",
       "\t('Id', [NumericTransformer])\n",
       "\t('FullDescription', [TfidfTransformer])\n",
       "\t('ContractType', [SVDOneHotTransformer])\n",
       "\t('ContractTime', [SVDOneHotTransformer])\n",
       "\t('Category', [SVDOneHotTransformer])\n",
       "\t('SalaryNormalized', [NumericTransformer])"
      ]
     },
     "execution_count": 27,
     "metadata": {},
     "output_type": "execute_result"
    }
   ],
   "source": [
    "t0 = time.time()\n",
    "datapot_job.detect(data_job)\n",
    "print('detect time:', time.time()-t0)\n",
    "datapot_job"
   ]
  },
  {
   "cell_type": "code",
   "execution_count": 28,
   "metadata": {
    "collapsed": false,
    "deletable": true,
    "editable": true
   },
   "outputs": [
    {
     "name": "stdout",
     "output_type": "stream",
     "text": [
      "fit transformers...\n",
      "fit: ('Id', [NumericTransformer])\n",
      "fit: ('FullDescription', [TfidfTransformer])\n",
      "fit: ('ContractType', [SVDOneHotTransformer])\n",
      "fit: ('ContractTime', [SVDOneHotTransformer])\n",
      "fit: ('Category', [SVDOneHotTransformer])\n",
      "fit: ('SalaryNormalized', [NumericTransformer])\n",
      "fit transformers...OK\n",
      "num of new features: 38\n",
      "fit time: 1.8940820693969727\n"
     ]
    }
   ],
   "source": [
    "t0 = time.time()\n",
    "datapot_job.fit(data_job, verbose=True)\n",
    "print('fit time:', time.time()-t0)"
   ]
  },
  {
   "cell_type": "code",
   "execution_count": 29,
   "metadata": {
    "collapsed": false,
    "deletable": true,
    "editable": true
   },
   "outputs": [
    {
     "name": "stdout",
     "output_type": "stream",
     "text": [
      "transform time: 2.0284600257873535\n"
     ]
    },
    {
     "name": "stderr",
     "output_type": "stream",
     "text": [
      "/usr/local/lib/python3.6/site-packages/datapot/__init__.py:137: FutureWarning: convert_objects is deprecated.  Use the data-type specific converters pd.to_datetime, pd.to_timedelta and pd.to_numeric.\n",
      "  return pd.DataFrame(data=np.hstack(columns), columns=names).convert_objects(convert_numeric=True)\n"
     ]
    }
   ],
   "source": [
    "t0 = time.time()\n",
    "df_job = datapot_job.transform(data_job)\n",
    "print('transform time:', time.time()-t0)"
   ]
  },
  {
   "cell_type": "code",
   "execution_count": 30,
   "metadata": {
    "collapsed": false,
    "deletable": true,
    "editable": true,
    "scrolled": false
   },
   "outputs": [
    {
     "name": "stdout",
     "output_type": "stream",
     "text": [
      "Index(['Id', 'FullDescription_0', 'FullDescription_1', 'FullDescription_2',\n",
      "       'FullDescription_3', 'FullDescription_4', 'FullDescription_5',\n",
      "       'FullDescription_6', 'FullDescription_7', 'FullDescription_8',\n",
      "       'FullDescription_9', 'FullDescription_10', 'FullDescription_11',\n",
      "       'ContractType_None', 'ContractType_full_time', 'ContractType_part_time',\n",
      "       'ContractTime_permanent', 'ContractTime_None', 'ContractTime_contract',\n",
      "       'Category_Engineering Jobs', 'Category_HR & Recruitment Jobs',\n",
      "       'Category_Accounting & Finance Jobs',\n",
      "       'Category_Healthcare & Nursing Jobs', 'Category_Other/General Jobs',\n",
      "       'Category_Hospitality & Catering Jobs', 'Category_IT Jobs',\n",
      "       'Category_Customer Services Jobs', 'Category_Travel Jobs',\n",
      "       'Category_Sales Jobs', 'Category_Manufacturing Jobs',\n",
      "       'Category_Teaching Jobs', 'Category_Creative & Design Jobs',\n",
      "       'Category_Trade & Construction Jobs', 'Category_Property Jobs',\n",
      "       'Category_Admin Jobs', 'Category_Legal Jobs', 'Category_Retail Jobs',\n",
      "       'SalaryNormalized'],\n",
      "      dtype='object')\n",
      "(2000, 38)\n"
     ]
    },
    {
     "data": {
      "text/html": [
       "<div>\n",
       "<table border=\"1\" class=\"dataframe\">\n",
       "  <thead>\n",
       "    <tr style=\"text-align: right;\">\n",
       "      <th></th>\n",
       "      <th>Id</th>\n",
       "      <th>FullDescription_0</th>\n",
       "      <th>FullDescription_1</th>\n",
       "      <th>FullDescription_2</th>\n",
       "      <th>FullDescription_3</th>\n",
       "      <th>FullDescription_4</th>\n",
       "      <th>FullDescription_5</th>\n",
       "      <th>FullDescription_6</th>\n",
       "      <th>FullDescription_7</th>\n",
       "      <th>FullDescription_8</th>\n",
       "      <th>...</th>\n",
       "      <th>Category_Sales Jobs</th>\n",
       "      <th>Category_Manufacturing Jobs</th>\n",
       "      <th>Category_Teaching Jobs</th>\n",
       "      <th>Category_Creative &amp; Design Jobs</th>\n",
       "      <th>Category_Trade &amp; Construction Jobs</th>\n",
       "      <th>Category_Property Jobs</th>\n",
       "      <th>Category_Admin Jobs</th>\n",
       "      <th>Category_Legal Jobs</th>\n",
       "      <th>Category_Retail Jobs</th>\n",
       "      <th>SalaryNormalized</th>\n",
       "    </tr>\n",
       "  </thead>\n",
       "  <tbody>\n",
       "    <tr>\n",
       "      <th>0</th>\n",
       "      <td>12612628.0</td>\n",
       "      <td>0.000000</td>\n",
       "      <td>0.000000</td>\n",
       "      <td>0.0</td>\n",
       "      <td>0.000000</td>\n",
       "      <td>0.000000</td>\n",
       "      <td>0.000000</td>\n",
       "      <td>0.0</td>\n",
       "      <td>0.150115</td>\n",
       "      <td>0.000000</td>\n",
       "      <td>...</td>\n",
       "      <td>0.0</td>\n",
       "      <td>0.0</td>\n",
       "      <td>0.0</td>\n",
       "      <td>0.0</td>\n",
       "      <td>0.0</td>\n",
       "      <td>0.0</td>\n",
       "      <td>0.0</td>\n",
       "      <td>0.0</td>\n",
       "      <td>0.0</td>\n",
       "      <td>25000.0</td>\n",
       "    </tr>\n",
       "    <tr>\n",
       "      <th>1</th>\n",
       "      <td>12612830.0</td>\n",
       "      <td>0.013077</td>\n",
       "      <td>0.000000</td>\n",
       "      <td>0.0</td>\n",
       "      <td>0.007214</td>\n",
       "      <td>0.010782</td>\n",
       "      <td>0.016549</td>\n",
       "      <td>0.0</td>\n",
       "      <td>0.221792</td>\n",
       "      <td>0.016945</td>\n",
       "      <td>...</td>\n",
       "      <td>0.0</td>\n",
       "      <td>0.0</td>\n",
       "      <td>0.0</td>\n",
       "      <td>0.0</td>\n",
       "      <td>0.0</td>\n",
       "      <td>0.0</td>\n",
       "      <td>0.0</td>\n",
       "      <td>0.0</td>\n",
       "      <td>0.0</td>\n",
       "      <td>30000.0</td>\n",
       "    </tr>\n",
       "    <tr>\n",
       "      <th>2</th>\n",
       "      <td>12612844.0</td>\n",
       "      <td>0.040371</td>\n",
       "      <td>0.000186</td>\n",
       "      <td>0.0</td>\n",
       "      <td>0.000000</td>\n",
       "      <td>0.003483</td>\n",
       "      <td>0.000266</td>\n",
       "      <td>0.0</td>\n",
       "      <td>0.098020</td>\n",
       "      <td>0.011783</td>\n",
       "      <td>...</td>\n",
       "      <td>0.0</td>\n",
       "      <td>0.0</td>\n",
       "      <td>0.0</td>\n",
       "      <td>0.0</td>\n",
       "      <td>0.0</td>\n",
       "      <td>0.0</td>\n",
       "      <td>0.0</td>\n",
       "      <td>0.0</td>\n",
       "      <td>0.0</td>\n",
       "      <td>30000.0</td>\n",
       "    </tr>\n",
       "    <tr>\n",
       "      <th>3</th>\n",
       "      <td>12613049.0</td>\n",
       "      <td>0.000000</td>\n",
       "      <td>0.000000</td>\n",
       "      <td>0.0</td>\n",
       "      <td>0.000000</td>\n",
       "      <td>0.000000</td>\n",
       "      <td>0.000000</td>\n",
       "      <td>0.0</td>\n",
       "      <td>0.142823</td>\n",
       "      <td>0.000000</td>\n",
       "      <td>...</td>\n",
       "      <td>0.0</td>\n",
       "      <td>0.0</td>\n",
       "      <td>0.0</td>\n",
       "      <td>0.0</td>\n",
       "      <td>0.0</td>\n",
       "      <td>0.0</td>\n",
       "      <td>0.0</td>\n",
       "      <td>0.0</td>\n",
       "      <td>0.0</td>\n",
       "      <td>27500.0</td>\n",
       "    </tr>\n",
       "    <tr>\n",
       "      <th>4</th>\n",
       "      <td>12613647.0</td>\n",
       "      <td>0.000000</td>\n",
       "      <td>0.000000</td>\n",
       "      <td>0.0</td>\n",
       "      <td>0.000000</td>\n",
       "      <td>0.000000</td>\n",
       "      <td>0.000000</td>\n",
       "      <td>0.0</td>\n",
       "      <td>0.116813</td>\n",
       "      <td>0.000000</td>\n",
       "      <td>...</td>\n",
       "      <td>0.0</td>\n",
       "      <td>0.0</td>\n",
       "      <td>0.0</td>\n",
       "      <td>0.0</td>\n",
       "      <td>0.0</td>\n",
       "      <td>0.0</td>\n",
       "      <td>0.0</td>\n",
       "      <td>0.0</td>\n",
       "      <td>0.0</td>\n",
       "      <td>25000.0</td>\n",
       "    </tr>\n",
       "  </tbody>\n",
       "</table>\n",
       "<p>5 rows × 38 columns</p>\n",
       "</div>"
      ],
      "text/plain": [
       "           Id  FullDescription_0  FullDescription_1  FullDescription_2  \\\n",
       "0  12612628.0           0.000000           0.000000                0.0   \n",
       "1  12612830.0           0.013077           0.000000                0.0   \n",
       "2  12612844.0           0.040371           0.000186                0.0   \n",
       "3  12613049.0           0.000000           0.000000                0.0   \n",
       "4  12613647.0           0.000000           0.000000                0.0   \n",
       "\n",
       "   FullDescription_3  FullDescription_4  FullDescription_5  FullDescription_6  \\\n",
       "0           0.000000           0.000000           0.000000                0.0   \n",
       "1           0.007214           0.010782           0.016549                0.0   \n",
       "2           0.000000           0.003483           0.000266                0.0   \n",
       "3           0.000000           0.000000           0.000000                0.0   \n",
       "4           0.000000           0.000000           0.000000                0.0   \n",
       "\n",
       "   FullDescription_7  FullDescription_8        ...         \\\n",
       "0           0.150115           0.000000        ...          \n",
       "1           0.221792           0.016945        ...          \n",
       "2           0.098020           0.011783        ...          \n",
       "3           0.142823           0.000000        ...          \n",
       "4           0.116813           0.000000        ...          \n",
       "\n",
       "   Category_Sales Jobs  Category_Manufacturing Jobs  Category_Teaching Jobs  \\\n",
       "0                  0.0                          0.0                     0.0   \n",
       "1                  0.0                          0.0                     0.0   \n",
       "2                  0.0                          0.0                     0.0   \n",
       "3                  0.0                          0.0                     0.0   \n",
       "4                  0.0                          0.0                     0.0   \n",
       "\n",
       "   Category_Creative & Design Jobs  Category_Trade & Construction Jobs  \\\n",
       "0                              0.0                                 0.0   \n",
       "1                              0.0                                 0.0   \n",
       "2                              0.0                                 0.0   \n",
       "3                              0.0                                 0.0   \n",
       "4                              0.0                                 0.0   \n",
       "\n",
       "   Category_Property Jobs  Category_Admin Jobs  Category_Legal Jobs  \\\n",
       "0                     0.0                  0.0                  0.0   \n",
       "1                     0.0                  0.0                  0.0   \n",
       "2                     0.0                  0.0                  0.0   \n",
       "3                     0.0                  0.0                  0.0   \n",
       "4                     0.0                  0.0                  0.0   \n",
       "\n",
       "   Category_Retail Jobs  SalaryNormalized  \n",
       "0                   0.0           25000.0  \n",
       "1                   0.0           30000.0  \n",
       "2                   0.0           30000.0  \n",
       "3                   0.0           27500.0  \n",
       "4                   0.0           25000.0  \n",
       "\n",
       "[5 rows x 38 columns]"
      ]
     },
     "execution_count": 30,
     "metadata": {},
     "output_type": "execute_result"
    }
   ],
   "source": [
    "print(df_job.columns)\n",
    "print(df_job.shape)\n",
    "df_job.head()"
   ]
  },
  {
   "cell_type": "code",
   "execution_count": 31,
   "metadata": {
    "collapsed": false,
    "deletable": true,
    "editable": true
   },
   "outputs": [
    {
     "name": "stdout",
     "output_type": "stream",
     "text": [
      "Cross-val score: [ 0.71072319  0.84538653  0.715       0.72431078  0.72932331]\n",
      "Feature importance:\n",
      "('FullDescription_0', 0.072026804)\n",
      "('FullDescription_1', 0.14237855)\n",
      "('FullDescription_2', 0.082077049)\n",
      "('FullDescription_3', 0.046901174)\n",
      "('FullDescription_4', 0.038525961)\n",
      "('FullDescription_5', 0.095477387)\n",
      "('FullDescription_6', 0.14405361)\n",
      "('FullDescription_7', 0.070351757)\n",
      "('FullDescription_8', 0.072026804)\n",
      "('FullDescription_9', 0.070351757)\n",
      "('FullDescription_10', 0.046901174)\n",
      "('FullDescription_11', 0.048576213)\n",
      "('ContractType_None', 0.0)\n",
      "('ContractType_full_time', 0.01675042)\n",
      "('ContractType_part_time', 0.01675042)\n",
      "('ContractTime_permanent', 0.0083752098)\n",
      "('ContractTime_None', 0.0050251256)\n",
      "('ContractTime_contract', 0.0)\n",
      "('Category_Engineering Jobs', 0.0016750419)\n",
      "('Category_HR & Recruitment Jobs', 0.0)\n",
      "('Category_Accounting & Finance Jobs', 0.0)\n",
      "('Category_Healthcare & Nursing Jobs', 0.0)\n",
      "('Category_Other/General Jobs', 0.0)\n",
      "('Category_Hospitality & Catering Jobs', 0.0)\n",
      "('Category_IT Jobs', 0.011725293)\n",
      "('Category_Customer Services Jobs', 0.0083752098)\n",
      "('Category_Travel Jobs', 0.0016750419)\n",
      "('Category_Sales Jobs', 0.0)\n",
      "('Category_Manufacturing Jobs', 0.0)\n",
      "('Category_Teaching Jobs', 0.0)\n",
      "('Category_Creative & Design Jobs', 0.0)\n",
      "('Category_Trade & Construction Jobs', 0.0)\n",
      "('Category_Property Jobs', 0.0)\n",
      "('Category_Admin Jobs', 0.0)\n",
      "('Category_Legal Jobs', 0.0)\n",
      "('Category_Retail Jobs', 0.0)\n"
     ]
    }
   ],
   "source": [
    "X_job = df_job.drop(['SalaryNormalized', 'Id'], axis=1)\n",
    "y_job = pd.qcut(df_job['SalaryNormalized'].values, q=2, labels=[0,1]).ravel()\n",
    "\n",
    "model = xgb.XGBClassifier()\n",
    "cv_score_job = cross_val_score(model, X_job, y_job, cv=5)\n",
    "print('Cross-val score:', cv_score_job)\n",
    "assert all(i > 0.5 for i in cv_score_job), 'Low score!'\n",
    "\n",
    "model.fit(X_job, y_job)\n",
    "fi_job = model.feature_importances_\n",
    "\n",
    "print('Feature importance:')\n",
    "print(*(list(zip(X_job.columns, fi_job))), sep='\\n')\n"
   ]
  },
  {
   "cell_type": "code",
   "execution_count": null,
   "metadata": {
    "collapsed": true,
    "deletable": true,
    "editable": true
   },
   "outputs": [],
   "source": []
  }
 ],
 "metadata": {
  "anaconda-cloud": {},
  "kernelspec": {
   "display_name": "Python 3",
   "language": "python",
   "name": "python3"
  },
  "language_info": {
   "codemirror_mode": {
    "name": "ipython",
    "version": 3
   },
   "file_extension": ".py",
   "mimetype": "text/x-python",
   "name": "python",
   "nbconvert_exporter": "python",
   "pygments_lexer": "ipython3",
   "version": "3.6.1"
  }
 },
 "nbformat": 4,
 "nbformat_minor": 1
}
