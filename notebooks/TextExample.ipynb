{
 "cells": [
  {
   "cell_type": "markdown",
   "metadata": {
    "deletable": true,
    "editable": true
   },
   "source": [
    "# DataPot Usage Examples"
   ]
  },
  {
   "cell_type": "code",
   "execution_count": 1,
   "metadata": {
    "collapsed": false,
    "deletable": true,
    "editable": true
   },
   "outputs": [],
   "source": [
    "import datapot as dp\n",
    "from datapot import datasets"
   ]
  },
  {
   "cell_type": "code",
   "execution_count": 2,
   "metadata": {
    "collapsed": false,
    "deletable": true,
    "editable": true
   },
   "outputs": [],
   "source": [
    "import pandas as pd\n",
    "from __future__ import print_function\n",
    "import sys\n",
    "import bz2\n",
    "import time\n",
    "import xgboost as xgb\n",
    "from sklearn.model_selection import cross_val_score"
   ]
  },
  {
   "cell_type": "markdown",
   "metadata": {
    "deletable": true,
    "editable": true
   },
   "source": [
    "## Bag of Words Meets Bags of Popcorn\n",
    "\n",
    "Usage example for unstructured textual bzip2-compressed data\n",
    "\n",
    "datapot.fit method subsamples the data to detect language and choose corresponding stopwords and stemming.\n",
    "\n",
    "For each review datapot.transform generates an SVD-compressed 12-dimensional tfidf-vector representation.\n"
   ]
  },
  {
   "cell_type": "code",
   "execution_count": 3,
   "metadata": {
    "collapsed": false,
    "deletable": true,
    "editable": true
   },
   "outputs": [],
   "source": [
    "data_imdb = datasets.load_imdb() "
   ]
  },
  {
   "cell_type": "raw",
   "metadata": {
    "deletable": true,
    "editable": true
   },
   "source": [
    "# imdb.jsonlines example:\n",
    "\n",
    "{\"id\":\"5814_8\",\n",
    "\"sentiment\":1,\n",
    "\"review\":\"With all this stuff going down at the moment with MJ i've started listening to his music, watching the odd documentary here and there, watched The Wiz and watched Moonwalker again. Maybe i just want to get a certain insight into this guy who i thought was really cool in the eighties just to maybe make up my mind whether he is guilty or innocent. Moonwalker is part biography, part feature film which i remember going to see at the cinema when it was originally released. Some of it has subtle messages about MJ's feeling towards the press and also the obvious message of drugs are bad m'kay...\"}"
   ]
  },
  {
   "cell_type": "code",
   "execution_count": 4,
   "metadata": {
    "collapsed": false,
    "deletable": true,
    "editable": true
   },
   "outputs": [],
   "source": [
    "datapot_imdb = dp.DataPot()"
   ]
  },
  {
   "cell_type": "code",
   "execution_count": 5,
   "metadata": {
    "collapsed": false,
    "deletable": true,
    "editable": true
   },
   "outputs": [
    {
     "name": "stdout",
     "output_type": "stream",
     "text": [
      "detect time: 0.16987323760986328\n"
     ]
    },
    {
     "data": {
      "text/plain": [
       "DataPot class instance\n",
       " - number of features without transformation: 3\n",
       " - number of new features: Unknown\n",
       "features to transform: \n",
       "\t('id', [NumericTransformer])\n",
       "\t('sentiment', [SVDOneHotTransformer, NumericTransformer])\n",
       "\t('review', [TfidfTransformer])"
      ]
     },
     "execution_count": 5,
     "metadata": {},
     "output_type": "execute_result"
    }
   ],
   "source": [
    "t0 = time.time()\n",
    "datapot_imdb.detect(data_imdb)\n",
    "print('detect time:', time.time()-t0)\n",
    "datapot_imdb"
   ]
  },
  {
   "cell_type": "code",
   "execution_count": 6,
   "metadata": {
    "collapsed": false,
    "deletable": true,
    "editable": true
   },
   "outputs": [
    {
     "data": {
      "text/plain": [
       "DataPot class instance\n",
       " - number of features without transformation: 3\n",
       " - number of new features: Unknown\n",
       "features to transform: \n",
       "\t('id', [NumericTransformer])\n",
       "\t('sentiment', [NumericTransformer])\n",
       "\t('review', [TfidfTransformer])"
      ]
     },
     "execution_count": 6,
     "metadata": {},
     "output_type": "execute_result"
    }
   ],
   "source": [
    "datapot_imdb.remove_transformer('sentiment', 0)"
   ]
  },
  {
   "cell_type": "code",
   "execution_count": 7,
   "metadata": {
    "collapsed": false,
    "deletable": true,
    "editable": true
   },
   "outputs": [
    {
     "name": "stdout",
     "output_type": "stream",
     "text": [
      "fit transformers...\n",
      "fit: ('id', [NumericTransformer])\n",
      "fit: ('sentiment', [NumericTransformer])\n",
      "fit: ('review', [TfidfTransformer])\n",
      "fit transformers...OK\n",
      "num of new features: 14\n"
     ]
    },
    {
     "data": {
      "text/plain": [
       "DataPot class instance\n",
       " - number of features without transformation: 3\n",
       " - number of new features: 14\n",
       "features to transform: \n",
       "\t('id', [NumericTransformer])\n",
       "\t('sentiment', [NumericTransformer])\n",
       "\t('review', [TfidfTransformer])"
      ]
     },
     "execution_count": 7,
     "metadata": {},
     "output_type": "execute_result"
    }
   ],
   "source": [
    "t0 = time.time()\n",
    "datapot_imdb.fit(data_imdb, verbose=True)"
   ]
  },
  {
   "cell_type": "code",
   "execution_count": 8,
   "metadata": {
    "collapsed": false,
    "deletable": true,
    "editable": true
   },
   "outputs": [
    {
     "name": "stdout",
     "output_type": "stream",
     "text": [
      "fit time: 4.025353908538818\n"
     ]
    }
   ],
   "source": [
    "print('fit time:', time.time()-t0)"
   ]
  },
  {
   "cell_type": "code",
   "execution_count": 9,
   "metadata": {
    "collapsed": false,
    "deletable": true,
    "editable": true
   },
   "outputs": [
    {
     "name": "stdout",
     "output_type": "stream",
     "text": [
      "transform time: 2.889500856399536\n"
     ]
    },
    {
     "name": "stderr",
     "output_type": "stream",
     "text": [
      "/usr/local/lib/python3.6/site-packages/datapot/__init__.py:137: FutureWarning: convert_objects is deprecated.  Use the data-type specific converters pd.to_datetime, pd.to_timedelta and pd.to_numeric.\n",
      "  return pd.DataFrame(data=np.hstack(columns), columns=names).convert_objects(convert_numeric=True)\n"
     ]
    }
   ],
   "source": [
    "t0 = time.time()\n",
    "df_imdb = datapot_imdb.transform(data_imdb)\n",
    "print('transform time:', time.time()-t0)"
   ]
  },
  {
   "cell_type": "code",
   "execution_count": 10,
   "metadata": {
    "collapsed": false,
    "deletable": true,
    "editable": true
   },
   "outputs": [
    {
     "data": {
      "text/html": [
       "<div>\n",
       "<table border=\"1\" class=\"dataframe\">\n",
       "  <thead>\n",
       "    <tr style=\"text-align: right;\">\n",
       "      <th></th>\n",
       "      <th>id</th>\n",
       "      <th>sentiment</th>\n",
       "      <th>review_0</th>\n",
       "      <th>review_1</th>\n",
       "      <th>review_2</th>\n",
       "      <th>review_3</th>\n",
       "      <th>review_4</th>\n",
       "      <th>review_5</th>\n",
       "      <th>review_6</th>\n",
       "      <th>review_7</th>\n",
       "      <th>review_8</th>\n",
       "      <th>review_9</th>\n",
       "      <th>review_10</th>\n",
       "      <th>review_11</th>\n",
       "    </tr>\n",
       "  </thead>\n",
       "  <tbody>\n",
       "    <tr>\n",
       "      <th>0</th>\n",
       "      <td>58148.0</td>\n",
       "      <td>1.0</td>\n",
       "      <td>0.033875</td>\n",
       "      <td>0.066193</td>\n",
       "      <td>0.045845</td>\n",
       "      <td>0.000000</td>\n",
       "      <td>0.030801</td>\n",
       "      <td>0.117007</td>\n",
       "      <td>0.039461</td>\n",
       "      <td>0.034391</td>\n",
       "      <td>0.013357</td>\n",
       "      <td>0.045964</td>\n",
       "      <td>0.110228</td>\n",
       "      <td>0.013034</td>\n",
       "    </tr>\n",
       "    <tr>\n",
       "      <th>1</th>\n",
       "      <td>23819.0</td>\n",
       "      <td>1.0</td>\n",
       "      <td>0.063596</td>\n",
       "      <td>0.000000</td>\n",
       "      <td>0.021531</td>\n",
       "      <td>0.005730</td>\n",
       "      <td>0.019549</td>\n",
       "      <td>0.021693</td>\n",
       "      <td>0.042250</td>\n",
       "      <td>0.075540</td>\n",
       "      <td>0.014507</td>\n",
       "      <td>0.000000</td>\n",
       "      <td>0.013740</td>\n",
       "      <td>0.000000</td>\n",
       "    </tr>\n",
       "    <tr>\n",
       "      <th>2</th>\n",
       "      <td>77593.0</td>\n",
       "      <td>0.0</td>\n",
       "      <td>0.097346</td>\n",
       "      <td>0.018320</td>\n",
       "      <td>0.003082</td>\n",
       "      <td>0.007248</td>\n",
       "      <td>0.000000</td>\n",
       "      <td>0.000000</td>\n",
       "      <td>0.020481</td>\n",
       "      <td>0.000000</td>\n",
       "      <td>0.173069</td>\n",
       "      <td>0.005666</td>\n",
       "      <td>0.000000</td>\n",
       "      <td>0.000000</td>\n",
       "    </tr>\n",
       "    <tr>\n",
       "      <th>3</th>\n",
       "      <td>36304.0</td>\n",
       "      <td>0.0</td>\n",
       "      <td>0.126593</td>\n",
       "      <td>0.035629</td>\n",
       "      <td>0.011719</td>\n",
       "      <td>0.006712</td>\n",
       "      <td>0.000000</td>\n",
       "      <td>0.027863</td>\n",
       "      <td>0.082539</td>\n",
       "      <td>0.053115</td>\n",
       "      <td>0.054410</td>\n",
       "      <td>0.001494</td>\n",
       "      <td>0.008290</td>\n",
       "      <td>0.000000</td>\n",
       "    </tr>\n",
       "    <tr>\n",
       "      <th>4</th>\n",
       "      <td>94958.0</td>\n",
       "      <td>1.0</td>\n",
       "      <td>0.064116</td>\n",
       "      <td>0.000286</td>\n",
       "      <td>0.010714</td>\n",
       "      <td>0.039639</td>\n",
       "      <td>0.000355</td>\n",
       "      <td>0.034792</td>\n",
       "      <td>0.001935</td>\n",
       "      <td>0.016130</td>\n",
       "      <td>0.118334</td>\n",
       "      <td>0.045972</td>\n",
       "      <td>0.022172</td>\n",
       "      <td>0.001082</td>\n",
       "    </tr>\n",
       "  </tbody>\n",
       "</table>\n",
       "</div>"
      ],
      "text/plain": [
       "        id  sentiment  review_0  review_1  review_2  review_3  review_4  \\\n",
       "0  58148.0        1.0  0.033875  0.066193  0.045845  0.000000  0.030801   \n",
       "1  23819.0        1.0  0.063596  0.000000  0.021531  0.005730  0.019549   \n",
       "2  77593.0        0.0  0.097346  0.018320  0.003082  0.007248  0.000000   \n",
       "3  36304.0        0.0  0.126593  0.035629  0.011719  0.006712  0.000000   \n",
       "4  94958.0        1.0  0.064116  0.000286  0.010714  0.039639  0.000355   \n",
       "\n",
       "   review_5  review_6  review_7  review_8  review_9  review_10  review_11  \n",
       "0  0.117007  0.039461  0.034391  0.013357  0.045964   0.110228   0.013034  \n",
       "1  0.021693  0.042250  0.075540  0.014507  0.000000   0.013740   0.000000  \n",
       "2  0.000000  0.020481  0.000000  0.173069  0.005666   0.000000   0.000000  \n",
       "3  0.027863  0.082539  0.053115  0.054410  0.001494   0.008290   0.000000  \n",
       "4  0.034792  0.001935  0.016130  0.118334  0.045972   0.022172   0.001082  "
      ]
     },
     "execution_count": 10,
     "metadata": {},
     "output_type": "execute_result"
    }
   ],
   "source": [
    "df_imdb.head()"
   ]
  },
  {
   "cell_type": "code",
   "execution_count": 11,
   "metadata": {
    "collapsed": false,
    "deletable": true,
    "editable": true
   },
   "outputs": [],
   "source": [
    "X = df_imdb.drop(['sentiment'], axis=1)\n",
    "y = df_imdb['sentiment']"
   ]
  },
  {
   "cell_type": "code",
   "execution_count": 12,
   "metadata": {
    "collapsed": false,
    "deletable": true,
    "editable": true
   },
   "outputs": [
    {
     "name": "stdout",
     "output_type": "stream",
     "text": [
      "Cross-val score: [ 0.72027972  0.73426573  0.734       0.73273273  0.70770771]\n",
      "Feature importance:\n",
      "('id', 0.16571428)\n",
      "('review_0', 0.047619049)\n",
      "('review_1', 0.079999998)\n",
      "('review_2', 0.049523808)\n",
      "('review_3', 0.051428571)\n",
      "('review_4', 0.068571426)\n",
      "('review_5', 0.053333335)\n",
      "('review_6', 0.068571426)\n",
      "('review_7', 0.09142857)\n",
      "('review_8', 0.13142857)\n",
      "('review_9', 0.085714288)\n",
      "('review_10', 0.057142857)\n",
      "('review_11', 0.049523808)\n"
     ]
    }
   ],
   "source": [
    "model = xgb.XGBClassifier()\n",
    "cv_score = cross_val_score(model, X, y, cv=5)\n",
    "assert all(i > 0.5 for i in cv_score), 'Low score!'\n",
    "print('Cross-val score:', cv_score)\n",
    "\n",
    "model.fit(X, y)\n",
    "fi = model.feature_importances_\n",
    "\n",
    "print('Feature importance:')\n",
    "print(*(list(zip(X.columns, fi))), sep='\\n')"
   ]
  },
  {
   "cell_type": "markdown",
   "metadata": {
    "collapsed": true,
    "deletable": true,
    "editable": true
   },
   "source": [
    "## Job Salary Prediction\n",
    "\n",
    "Usage example for unstructured textual bzip2-compressed data\n"
   ]
  },
  {
   "cell_type": "code",
   "execution_count": 13,
   "metadata": {
    "collapsed": false,
    "deletable": true,
    "editable": true
   },
   "outputs": [],
   "source": [
    "data_job = datasets.load_job_salary()"
   ]
  },
  {
   "cell_type": "raw",
   "metadata": {
    "deletable": true,
    "editable": true
   },
   "source": [
    "# jobs.jsonlines example:\n",
    "\n",
    "{\"Id\":12612628,\n",
    "\"Title\":\"Engineering Systems Analyst\",\"FullDescription\":\"Engineering Systems Analyst Dorking Surrey Salary ****K Our client is located in Dorking, Surrey and are looking for Engineering Systems Analyst our client provides specialist software development Keywords Mathematical Modelling, Risk Analysis, System Modelling, Optimisation, MISER, PIONEEER Engineering Systems Analyst Dorking Surrey Salary ****K\",\n",
    "\"LocationNormalized\":\"Dorking\",\n",
    "\"ContractType\":null,\n",
    "\"ContractTime\":\"permanent\",\n",
    "\"Company\":\"Gregory Martin International\",\n",
    "\"Category\":\"Engineering Jobs\",\n",
    "\"SalaryNormalized\":25000}"
   ]
  },
  {
   "cell_type": "code",
   "execution_count": 14,
   "metadata": {
    "collapsed": true,
    "deletable": true,
    "editable": true
   },
   "outputs": [],
   "source": [
    "datapot_job = dp.DataPot()"
   ]
  },
  {
   "cell_type": "code",
   "execution_count": 15,
   "metadata": {
    "collapsed": false,
    "deletable": true,
    "editable": true
   },
   "outputs": [
    {
     "name": "stdout",
     "output_type": "stream",
     "text": [
      "detect time: 0.04318118095397949\n"
     ]
    },
    {
     "data": {
      "text/plain": [
       "DataPot class instance\n",
       " - number of features without transformation: 9\n",
       " - number of new features: Unknown\n",
       "features to transform: \n",
       "\t('Id', [NumericTransformer])\n",
       "\t('FullDescription', [TfidfTransformer])\n",
       "\t('ContractType', [SVDOneHotTransformer])\n",
       "\t('ContractTime', [SVDOneHotTransformer])\n",
       "\t('Category', [SVDOneHotTransformer])\n",
       "\t('SalaryNormalized', [NumericTransformer])"
      ]
     },
     "execution_count": 15,
     "metadata": {},
     "output_type": "execute_result"
    }
   ],
   "source": [
    "t0 = time.time()\n",
    "datapot_job.detect(data_job)\n",
    "print('detect time:', time.time()-t0)\n",
    "datapot_job"
   ]
  },
  {
   "cell_type": "code",
   "execution_count": 16,
   "metadata": {
    "collapsed": false,
    "deletable": true,
    "editable": true
   },
   "outputs": [
    {
     "name": "stdout",
     "output_type": "stream",
     "text": [
      "fit transformers...\n",
      "fit: ('Id', [NumericTransformer])\n",
      "fit: ('FullDescription', [TfidfTransformer])\n",
      "fit: ('ContractType', [SVDOneHotTransformer])\n",
      "fit: ('ContractTime', [SVDOneHotTransformer])\n",
      "fit: ('Category', [SVDOneHotTransformer])\n",
      "fit: ('SalaryNormalized', [NumericTransformer])\n",
      "fit transformers...OK\n",
      "num of new features: 38\n",
      "fit time: 2.232983112335205\n"
     ]
    }
   ],
   "source": [
    "t0 = time.time()\n",
    "datapot_job.fit(data_job, verbose=True)\n",
    "print('fit time:', time.time()-t0)"
   ]
  },
  {
   "cell_type": "code",
   "execution_count": 17,
   "metadata": {
    "collapsed": false,
    "deletable": true,
    "editable": true
   },
   "outputs": [
    {
     "name": "stdout",
     "output_type": "stream",
     "text": [
      "transform time: 1.4404969215393066\n"
     ]
    },
    {
     "name": "stderr",
     "output_type": "stream",
     "text": [
      "/usr/local/lib/python3.6/site-packages/datapot/__init__.py:137: FutureWarning: convert_objects is deprecated.  Use the data-type specific converters pd.to_datetime, pd.to_timedelta and pd.to_numeric.\n",
      "  return pd.DataFrame(data=np.hstack(columns), columns=names).convert_objects(convert_numeric=True)\n"
     ]
    }
   ],
   "source": [
    "t0 = time.time()\n",
    "df_job = datapot_job.transform(data_job)\n",
    "print('transform time:', time.time()-t0)"
   ]
  },
  {
   "cell_type": "code",
   "execution_count": 18,
   "metadata": {
    "collapsed": false,
    "deletable": true,
    "editable": true,
    "scrolled": false
   },
   "outputs": [
    {
     "name": "stdout",
     "output_type": "stream",
     "text": [
      "Index(['Id', 'FullDescription_0', 'FullDescription_1', 'FullDescription_2',\n",
      "       'FullDescription_3', 'FullDescription_4', 'FullDescription_5',\n",
      "       'FullDescription_6', 'FullDescription_7', 'FullDescription_8',\n",
      "       'FullDescription_9', 'FullDescription_10', 'FullDescription_11',\n",
      "       'ContractType_None', 'ContractType_full_time', 'ContractType_part_time',\n",
      "       'ContractTime_permanent', 'ContractTime_None', 'ContractTime_contract',\n",
      "       'Category_Engineering Jobs', 'Category_HR & Recruitment Jobs',\n",
      "       'Category_Accounting & Finance Jobs',\n",
      "       'Category_Healthcare & Nursing Jobs', 'Category_Other/General Jobs',\n",
      "       'Category_Hospitality & Catering Jobs', 'Category_IT Jobs',\n",
      "       'Category_Customer Services Jobs', 'Category_Travel Jobs',\n",
      "       'Category_Sales Jobs', 'Category_Manufacturing Jobs',\n",
      "       'Category_Teaching Jobs', 'Category_Creative & Design Jobs',\n",
      "       'Category_Trade & Construction Jobs', 'Category_Property Jobs',\n",
      "       'Category_Admin Jobs', 'Category_Legal Jobs', 'Category_Retail Jobs',\n",
      "       'SalaryNormalized'],\n",
      "      dtype='object')\n",
      "(2000, 38)\n"
     ]
    },
    {
     "data": {
      "text/html": [
       "<div>\n",
       "<table border=\"1\" class=\"dataframe\">\n",
       "  <thead>\n",
       "    <tr style=\"text-align: right;\">\n",
       "      <th></th>\n",
       "      <th>Id</th>\n",
       "      <th>FullDescription_0</th>\n",
       "      <th>FullDescription_1</th>\n",
       "      <th>FullDescription_2</th>\n",
       "      <th>FullDescription_3</th>\n",
       "      <th>FullDescription_4</th>\n",
       "      <th>FullDescription_5</th>\n",
       "      <th>FullDescription_6</th>\n",
       "      <th>FullDescription_7</th>\n",
       "      <th>FullDescription_8</th>\n",
       "      <th>...</th>\n",
       "      <th>Category_Sales Jobs</th>\n",
       "      <th>Category_Manufacturing Jobs</th>\n",
       "      <th>Category_Teaching Jobs</th>\n",
       "      <th>Category_Creative &amp; Design Jobs</th>\n",
       "      <th>Category_Trade &amp; Construction Jobs</th>\n",
       "      <th>Category_Property Jobs</th>\n",
       "      <th>Category_Admin Jobs</th>\n",
       "      <th>Category_Legal Jobs</th>\n",
       "      <th>Category_Retail Jobs</th>\n",
       "      <th>SalaryNormalized</th>\n",
       "    </tr>\n",
       "  </thead>\n",
       "  <tbody>\n",
       "    <tr>\n",
       "      <th>0</th>\n",
       "      <td>12612628.0</td>\n",
       "      <td>0.000000</td>\n",
       "      <td>0.000000</td>\n",
       "      <td>0.0</td>\n",
       "      <td>0.000000</td>\n",
       "      <td>0.000000</td>\n",
       "      <td>0.000000</td>\n",
       "      <td>0.0</td>\n",
       "      <td>0.149956</td>\n",
       "      <td>0.000000</td>\n",
       "      <td>...</td>\n",
       "      <td>0.0</td>\n",
       "      <td>0.0</td>\n",
       "      <td>0.0</td>\n",
       "      <td>0.0</td>\n",
       "      <td>0.0</td>\n",
       "      <td>0.0</td>\n",
       "      <td>0.0</td>\n",
       "      <td>0.0</td>\n",
       "      <td>0.0</td>\n",
       "      <td>25000.0</td>\n",
       "    </tr>\n",
       "    <tr>\n",
       "      <th>1</th>\n",
       "      <td>12612830.0</td>\n",
       "      <td>0.013061</td>\n",
       "      <td>0.000000</td>\n",
       "      <td>0.0</td>\n",
       "      <td>0.007217</td>\n",
       "      <td>0.010779</td>\n",
       "      <td>0.016543</td>\n",
       "      <td>0.0</td>\n",
       "      <td>0.221581</td>\n",
       "      <td>0.016949</td>\n",
       "      <td>...</td>\n",
       "      <td>0.0</td>\n",
       "      <td>0.0</td>\n",
       "      <td>0.0</td>\n",
       "      <td>0.0</td>\n",
       "      <td>0.0</td>\n",
       "      <td>0.0</td>\n",
       "      <td>0.0</td>\n",
       "      <td>0.0</td>\n",
       "      <td>0.0</td>\n",
       "      <td>30000.0</td>\n",
       "    </tr>\n",
       "    <tr>\n",
       "      <th>2</th>\n",
       "      <td>12612844.0</td>\n",
       "      <td>0.040344</td>\n",
       "      <td>0.000187</td>\n",
       "      <td>0.0</td>\n",
       "      <td>0.000000</td>\n",
       "      <td>0.003482</td>\n",
       "      <td>0.000267</td>\n",
       "      <td>0.0</td>\n",
       "      <td>0.097930</td>\n",
       "      <td>0.011786</td>\n",
       "      <td>...</td>\n",
       "      <td>0.0</td>\n",
       "      <td>0.0</td>\n",
       "      <td>0.0</td>\n",
       "      <td>0.0</td>\n",
       "      <td>0.0</td>\n",
       "      <td>0.0</td>\n",
       "      <td>0.0</td>\n",
       "      <td>0.0</td>\n",
       "      <td>0.0</td>\n",
       "      <td>30000.0</td>\n",
       "    </tr>\n",
       "    <tr>\n",
       "      <th>3</th>\n",
       "      <td>12613049.0</td>\n",
       "      <td>0.000000</td>\n",
       "      <td>0.000000</td>\n",
       "      <td>0.0</td>\n",
       "      <td>0.000000</td>\n",
       "      <td>0.000000</td>\n",
       "      <td>0.000000</td>\n",
       "      <td>0.0</td>\n",
       "      <td>0.142673</td>\n",
       "      <td>0.000000</td>\n",
       "      <td>...</td>\n",
       "      <td>0.0</td>\n",
       "      <td>0.0</td>\n",
       "      <td>0.0</td>\n",
       "      <td>0.0</td>\n",
       "      <td>0.0</td>\n",
       "      <td>0.0</td>\n",
       "      <td>0.0</td>\n",
       "      <td>0.0</td>\n",
       "      <td>0.0</td>\n",
       "      <td>27500.0</td>\n",
       "    </tr>\n",
       "    <tr>\n",
       "      <th>4</th>\n",
       "      <td>12613647.0</td>\n",
       "      <td>0.000000</td>\n",
       "      <td>0.000000</td>\n",
       "      <td>0.0</td>\n",
       "      <td>0.000000</td>\n",
       "      <td>0.000000</td>\n",
       "      <td>0.000000</td>\n",
       "      <td>0.0</td>\n",
       "      <td>0.116688</td>\n",
       "      <td>0.000000</td>\n",
       "      <td>...</td>\n",
       "      <td>0.0</td>\n",
       "      <td>0.0</td>\n",
       "      <td>0.0</td>\n",
       "      <td>0.0</td>\n",
       "      <td>0.0</td>\n",
       "      <td>0.0</td>\n",
       "      <td>0.0</td>\n",
       "      <td>0.0</td>\n",
       "      <td>0.0</td>\n",
       "      <td>25000.0</td>\n",
       "    </tr>\n",
       "  </tbody>\n",
       "</table>\n",
       "<p>5 rows × 38 columns</p>\n",
       "</div>"
      ],
      "text/plain": [
       "           Id  FullDescription_0  FullDescription_1  FullDescription_2  \\\n",
       "0  12612628.0           0.000000           0.000000                0.0   \n",
       "1  12612830.0           0.013061           0.000000                0.0   \n",
       "2  12612844.0           0.040344           0.000187                0.0   \n",
       "3  12613049.0           0.000000           0.000000                0.0   \n",
       "4  12613647.0           0.000000           0.000000                0.0   \n",
       "\n",
       "   FullDescription_3  FullDescription_4  FullDescription_5  FullDescription_6  \\\n",
       "0           0.000000           0.000000           0.000000                0.0   \n",
       "1           0.007217           0.010779           0.016543                0.0   \n",
       "2           0.000000           0.003482           0.000267                0.0   \n",
       "3           0.000000           0.000000           0.000000                0.0   \n",
       "4           0.000000           0.000000           0.000000                0.0   \n",
       "\n",
       "   FullDescription_7  FullDescription_8        ...         \\\n",
       "0           0.149956           0.000000        ...          \n",
       "1           0.221581           0.016949        ...          \n",
       "2           0.097930           0.011786        ...          \n",
       "3           0.142673           0.000000        ...          \n",
       "4           0.116688           0.000000        ...          \n",
       "\n",
       "   Category_Sales Jobs  Category_Manufacturing Jobs  Category_Teaching Jobs  \\\n",
       "0                  0.0                          0.0                     0.0   \n",
       "1                  0.0                          0.0                     0.0   \n",
       "2                  0.0                          0.0                     0.0   \n",
       "3                  0.0                          0.0                     0.0   \n",
       "4                  0.0                          0.0                     0.0   \n",
       "\n",
       "   Category_Creative & Design Jobs  Category_Trade & Construction Jobs  \\\n",
       "0                              0.0                                 0.0   \n",
       "1                              0.0                                 0.0   \n",
       "2                              0.0                                 0.0   \n",
       "3                              0.0                                 0.0   \n",
       "4                              0.0                                 0.0   \n",
       "\n",
       "   Category_Property Jobs  Category_Admin Jobs  Category_Legal Jobs  \\\n",
       "0                     0.0                  0.0                  0.0   \n",
       "1                     0.0                  0.0                  0.0   \n",
       "2                     0.0                  0.0                  0.0   \n",
       "3                     0.0                  0.0                  0.0   \n",
       "4                     0.0                  0.0                  0.0   \n",
       "\n",
       "   Category_Retail Jobs  SalaryNormalized  \n",
       "0                   0.0           25000.0  \n",
       "1                   0.0           30000.0  \n",
       "2                   0.0           30000.0  \n",
       "3                   0.0           27500.0  \n",
       "4                   0.0           25000.0  \n",
       "\n",
       "[5 rows x 38 columns]"
      ]
     },
     "execution_count": 18,
     "metadata": {},
     "output_type": "execute_result"
    }
   ],
   "source": [
    "print(df_job.columns)\n",
    "print(df_job.shape)\n",
    "df_job.head()"
   ]
  },
  {
   "cell_type": "code",
   "execution_count": 19,
   "metadata": {
    "collapsed": false,
    "deletable": true,
    "editable": true,
    "scrolled": true
   },
   "outputs": [
    {
     "name": "stdout",
     "output_type": "stream",
     "text": [
      "Cross-val score: [ 0.71321696  0.83541147  0.71        0.72932331  0.72681704]\n",
      "Feature importance:\n",
      "('FullDescription_0', 0.061016951)\n",
      "('FullDescription_1', 0.13898306)\n",
      "('FullDescription_2', 0.084745765)\n",
      "('FullDescription_3', 0.04576271)\n",
      "('FullDescription_4', 0.038983051)\n",
      "('FullDescription_5', 0.094915256)\n",
      "('FullDescription_6', 0.14745763)\n",
      "('FullDescription_7', 0.066101693)\n",
      "('FullDescription_8', 0.079661019)\n",
      "('FullDescription_9', 0.074576274)\n",
      "('FullDescription_10', 0.044067796)\n",
      "('FullDescription_11', 0.055932205)\n",
      "('ContractType_None', 0.0)\n",
      "('ContractType_full_time', 0.018644068)\n",
      "('ContractType_part_time', 0.016949153)\n",
      "('ContractTime_permanent', 0.010169491)\n",
      "('ContractTime_None', 0.0016949152)\n",
      "('ContractTime_contract', 0.0)\n",
      "('Category_Engineering Jobs', 0.0)\n",
      "('Category_HR & Recruitment Jobs', 0.0)\n",
      "('Category_Accounting & Finance Jobs', 0.0)\n",
      "('Category_Healthcare & Nursing Jobs', 0.0)\n",
      "('Category_Other/General Jobs', 0.0)\n",
      "('Category_Hospitality & Catering Jobs', 0.0)\n",
      "('Category_IT Jobs', 0.0084745763)\n",
      "('Category_Customer Services Jobs', 0.0084745763)\n",
      "('Category_Travel Jobs', 0.0033898305)\n",
      "('Category_Sales Jobs', 0.0)\n",
      "('Category_Manufacturing Jobs', 0.0)\n",
      "('Category_Teaching Jobs', 0.0)\n",
      "('Category_Creative & Design Jobs', 0.0)\n",
      "('Category_Trade & Construction Jobs', 0.0)\n",
      "('Category_Property Jobs', 0.0)\n",
      "('Category_Admin Jobs', 0.0)\n",
      "('Category_Legal Jobs', 0.0)\n",
      "('Category_Retail Jobs', 0.0)\n"
     ]
    }
   ],
   "source": [
    "X_job = df_job.drop(['SalaryNormalized', 'Id'], axis=1)\n",
    "y_job = pd.qcut(df_job['SalaryNormalized'].values, q=2, labels=[0,1]).ravel()\n",
    "\n",
    "model = xgb.XGBClassifier()\n",
    "cv_score_job = cross_val_score(model, X_job, y_job, cv=5)\n",
    "print('Cross-val score:', cv_score_job)\n",
    "assert all(i > 0.5 for i in cv_score_job), 'Low score!'\n",
    "\n",
    "model.fit(X_job, y_job)\n",
    "fi_job = model.feature_importances_\n",
    "\n",
    "print('Feature importance:')\n",
    "print(*(list(zip(X_job.columns, fi_job))), sep='\\n')\n"
   ]
  },
  {
   "cell_type": "code",
   "execution_count": null,
   "metadata": {
    "collapsed": true
   },
   "outputs": [],
   "source": []
  }
 ],
 "metadata": {
  "anaconda-cloud": {},
  "kernelspec": {
   "display_name": "Python 3",
   "language": "python",
   "name": "python3"
  },
  "language_info": {
   "codemirror_mode": {
    "name": "ipython",
    "version": 3
   },
   "file_extension": ".py",
   "mimetype": "text/x-python",
   "name": "python",
   "nbconvert_exporter": "python",
   "pygments_lexer": "ipython3",
   "version": "3.6.1"
  }
 },
 "nbformat": 4,
 "nbformat_minor": 1
}
