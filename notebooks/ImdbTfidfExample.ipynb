{
 "cells": [
  {
   "cell_type": "markdown",
   "metadata": {},
   "source": [
    "#### THIS IS TEST EXAMPLE. It will be changed soon. "
   ]
  },
  {
   "cell_type": "markdown",
   "metadata": {},
   "source": [
    "This example show how datapot works with text data."
   ]
  },
  {
   "cell_type": "code",
   "execution_count": 1,
   "metadata": {
    "collapsed": false
   },
   "outputs": [
    {
     "name": "stderr",
     "output_type": "stream",
     "text": [
      "/home/yury/anaconda3/lib/python3.5/site-packages/gensim/utils.py:1015: UserWarning: Pattern library is not installed, lemmatization won't be available.\n",
      "  warnings.warn(\"Pattern library is not installed, lemmatization won't be available.\")\n"
     ]
    }
   ],
   "source": [
    "import datapot as dp"
   ]
  },
  {
   "cell_type": "code",
   "execution_count": 2,
   "metadata": {
    "collapsed": false
   },
   "outputs": [
    {
     "data": {
      "text/plain": [
       "DataPot class instance\n",
       " - number of features without transformation: 0\n",
       " - number of new features: Unknown\n",
       "features to transform: "
      ]
     },
     "execution_count": 2,
     "metadata": {},
     "output_type": "execute_result"
    }
   ],
   "source": [
    "data = dp.DataPot()\n",
    "data"
   ]
  },
  {
   "cell_type": "code",
   "execution_count": 3,
   "metadata": {
    "collapsed": false
   },
   "outputs": [],
   "source": [
    "train = open('/home/yury/MLContests/KaggleWord2Vec/data/imdbHTMLReviewsTrainData_byline.json', 'r')"
   ]
  },
  {
   "cell_type": "code",
   "execution_count": 4,
   "metadata": {
    "collapsed": false
   },
   "outputs": [
    {
     "data": {
      "text/plain": [
       "DataPot class instance\n",
       " - number of features without transformation: 3\n",
       " - number of new features: 12\n",
       "features to transform: \n",
       "\t('review', [TfidfTransformer])\n",
       "\t('sentiment', [SVDOneHotTransformer])"
      ]
     },
     "execution_count": 4,
     "metadata": {},
     "output_type": "execute_result"
    }
   ],
   "source": [
    "data.fit(train, limit=10)\n",
    "data"
   ]
  },
  {
   "cell_type": "code",
   "execution_count": 5,
   "metadata": {
    "collapsed": false
   },
   "outputs": [
    {
     "name": "stdout",
     "output_type": "stream",
     "text": [
      "fit transformers...\n",
      "fit: ('review', [TfidfTransformer])\n",
      "fit: ('sentiment', [SVDOneHotTransformer])\n",
      "fit transformers...OK\n",
      "num of new features: 15\n"
     ]
    },
    {
     "data": {
      "text/html": [
       "<div>\n",
       "<table border=\"1\" class=\"dataframe\">\n",
       "  <thead>\n",
       "    <tr style=\"text-align: right;\">\n",
       "      <th></th>\n",
       "      <th>id</th>\n",
       "      <th>review_0</th>\n",
       "      <th>review_1</th>\n",
       "      <th>review_2</th>\n",
       "      <th>review_3</th>\n",
       "      <th>review_4</th>\n",
       "      <th>review_5</th>\n",
       "      <th>review_6</th>\n",
       "      <th>review_7</th>\n",
       "      <th>review_8</th>\n",
       "      <th>review_9</th>\n",
       "      <th>review_10</th>\n",
       "      <th>review_11</th>\n",
       "      <th>sentiment_one_hot0</th>\n",
       "      <th>sentiment_one_hot1</th>\n",
       "    </tr>\n",
       "  </thead>\n",
       "  <tbody>\n",
       "    <tr>\n",
       "      <th>0</th>\n",
       "      <td>5814_8</td>\n",
       "      <td>0.007332</td>\n",
       "      <td>0.076824</td>\n",
       "      <td>0.000000</td>\n",
       "      <td>0.029993</td>\n",
       "      <td>0.000000</td>\n",
       "      <td>0.082433</td>\n",
       "      <td>0.002529</td>\n",
       "      <td>0.032346</td>\n",
       "      <td>0.028580</td>\n",
       "      <td>0.027540</td>\n",
       "      <td>0.000000</td>\n",
       "      <td>0.037418</td>\n",
       "      <td>1.0</td>\n",
       "      <td>0.0</td>\n",
       "    </tr>\n",
       "    <tr>\n",
       "      <th>1</th>\n",
       "      <td>2381_9</td>\n",
       "      <td>0.014629</td>\n",
       "      <td>0.018556</td>\n",
       "      <td>0.000216</td>\n",
       "      <td>0.024621</td>\n",
       "      <td>0.000000</td>\n",
       "      <td>0.029939</td>\n",
       "      <td>0.000000</td>\n",
       "      <td>0.019047</td>\n",
       "      <td>0.000000</td>\n",
       "      <td>0.014690</td>\n",
       "      <td>0.000000</td>\n",
       "      <td>0.103519</td>\n",
       "      <td>1.0</td>\n",
       "      <td>0.0</td>\n",
       "    </tr>\n",
       "    <tr>\n",
       "      <th>2</th>\n",
       "      <td>7759_3</td>\n",
       "      <td>0.010796</td>\n",
       "      <td>0.038276</td>\n",
       "      <td>0.000000</td>\n",
       "      <td>0.071533</td>\n",
       "      <td>0.000000</td>\n",
       "      <td>0.004206</td>\n",
       "      <td>0.000000</td>\n",
       "      <td>0.003128</td>\n",
       "      <td>0.014828</td>\n",
       "      <td>0.017766</td>\n",
       "      <td>0.017992</td>\n",
       "      <td>0.016250</td>\n",
       "      <td>0.0</td>\n",
       "      <td>1.0</td>\n",
       "    </tr>\n",
       "    <tr>\n",
       "      <th>3</th>\n",
       "      <td>3630_4</td>\n",
       "      <td>0.018311</td>\n",
       "      <td>0.055441</td>\n",
       "      <td>0.000000</td>\n",
       "      <td>0.044013</td>\n",
       "      <td>0.000000</td>\n",
       "      <td>0.038538</td>\n",
       "      <td>0.000000</td>\n",
       "      <td>0.024574</td>\n",
       "      <td>0.000363</td>\n",
       "      <td>0.007050</td>\n",
       "      <td>0.000000</td>\n",
       "      <td>0.060081</td>\n",
       "      <td>0.0</td>\n",
       "      <td>1.0</td>\n",
       "    </tr>\n",
       "    <tr>\n",
       "      <th>4</th>\n",
       "      <td>9495_8</td>\n",
       "      <td>0.005815</td>\n",
       "      <td>0.026191</td>\n",
       "      <td>0.000000</td>\n",
       "      <td>0.085289</td>\n",
       "      <td>0.000851</td>\n",
       "      <td>0.031766</td>\n",
       "      <td>0.000000</td>\n",
       "      <td>0.024786</td>\n",
       "      <td>0.020333</td>\n",
       "      <td>0.029002</td>\n",
       "      <td>0.000000</td>\n",
       "      <td>0.016865</td>\n",
       "      <td>1.0</td>\n",
       "      <td>0.0</td>\n",
       "    </tr>\n",
       "  </tbody>\n",
       "</table>\n",
       "</div>"
      ],
      "text/plain": [
       "       id  review_0  review_1  review_2  review_3  review_4  review_5  \\\n",
       "0  5814_8  0.007332  0.076824  0.000000  0.029993  0.000000  0.082433   \n",
       "1  2381_9  0.014629  0.018556  0.000216  0.024621  0.000000  0.029939   \n",
       "2  7759_3  0.010796  0.038276  0.000000  0.071533  0.000000  0.004206   \n",
       "3  3630_4  0.018311  0.055441  0.000000  0.044013  0.000000  0.038538   \n",
       "4  9495_8  0.005815  0.026191  0.000000  0.085289  0.000851  0.031766   \n",
       "\n",
       "   review_6  review_7  review_8  review_9  review_10  review_11  \\\n",
       "0  0.002529  0.032346  0.028580  0.027540   0.000000   0.037418   \n",
       "1  0.000000  0.019047  0.000000  0.014690   0.000000   0.103519   \n",
       "2  0.000000  0.003128  0.014828  0.017766   0.017992   0.016250   \n",
       "3  0.000000  0.024574  0.000363  0.007050   0.000000   0.060081   \n",
       "4  0.000000  0.024786  0.020333  0.029002   0.000000   0.016865   \n",
       "\n",
       "   sentiment_one_hot0  sentiment_one_hot1  \n",
       "0                 1.0                 0.0  \n",
       "1                 1.0                 0.0  \n",
       "2                 0.0                 1.0  \n",
       "3                 0.0                 1.0  \n",
       "4                 1.0                 0.0  "
      ]
     },
     "execution_count": 5,
     "metadata": {},
     "output_type": "execute_result"
    }
   ],
   "source": [
    "df = data.transform(train, verbose=True)\n",
    "df.head()"
   ]
  }
 ],
 "metadata": {
  "anaconda-cloud": {},
  "kernelspec": {
   "display_name": "Python [default]",
   "language": "python",
   "name": "python3"
  },
  "language_info": {
   "codemirror_mode": {
    "name": "ipython",
    "version": 3
   },
   "file_extension": ".py",
   "mimetype": "text/x-python",
   "name": "python",
   "nbconvert_exporter": "python",
   "pygments_lexer": "ipython3",
   "version": "3.5.2"
  }
 },
 "nbformat": 4,
 "nbformat_minor": 1
}
