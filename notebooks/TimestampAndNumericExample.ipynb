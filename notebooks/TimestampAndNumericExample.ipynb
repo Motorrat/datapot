{
 "cells": [
  {
   "cell_type": "markdown",
   "metadata": {},
   "source": [
    "### Dataset with timestamp features."
   ]
  },
  {
   "cell_type": "markdown",
   "metadata": {},
   "source": [
    "Creating the DataPot object."
   ]
  },
  {
   "cell_type": "code",
   "execution_count": 1,
   "metadata": {
    "collapsed": false
   },
   "outputs": [
    {
     "name": "stderr",
     "output_type": "stream",
     "text": [
      "/home/yury/anaconda3/lib/python3.5/site-packages/gensim/utils.py:1015: UserWarning: Pattern library is not installed, lemmatization won't be available.\n",
      "  warnings.warn(\"Pattern library is not installed, lemmatization won't be available.\")\n"
     ]
    }
   ],
   "source": [
    "import datapot as dp\n"
   ]
  },
  {
   "cell_type": "code",
   "execution_count": 2,
   "metadata": {
    "collapsed": true
   },
   "outputs": [],
   "source": [
    "datapot = dp.DataPot()"
   ]
  },
  {
   "cell_type": "code",
   "execution_count": 3,
   "metadata": {
    "collapsed": false
   },
   "outputs": [],
   "source": [
    "from datapot.utils import csv_to_jsonlines\n",
    "\n",
    "csv_to_jsonlines('/home/yury/transactions.csv', '/home/yury/transactions.jsonlines')"
   ]
  },
  {
   "cell_type": "code",
   "execution_count": 4,
   "metadata": {
    "collapsed": true
   },
   "outputs": [],
   "source": [
    "ftr = open('/home/yury/transactions.jsonlines')"
   ]
  },
  {
   "cell_type": "markdown",
   "metadata": {},
   "source": [
    "Let's call the fit method. It automatically finds appropriate transformers for the fields of jsonlines file. The parameter 'limit' means how many objects will be used to detect the right transformers."
   ]
  },
  {
   "cell_type": "code",
   "execution_count": 5,
   "metadata": {
    "collapsed": false
   },
   "outputs": [],
   "source": [
    "datapot.fit(ftr, limit=100)"
   ]
  },
  {
   "cell_type": "code",
   "execution_count": 6,
   "metadata": {
    "collapsed": false
   },
   "outputs": [
    {
     "data": {
      "text/plain": [
       "DataPot class instance\n",
       " - number of features without transformation: 5\n",
       " - number of new features: 13\n",
       "features to transform: \n",
       "\t('merchant_id', [SVDOneHotTransformer, NumericTransformer])\n",
       "\t('record_date', [TimestampTransformer])\n",
       "\t('latitude', [NumericTransformer])\n",
       "\t('longitude', [NumericTransformer])\n",
       "\t('real_transaction_dttm', [TimestampTransformer])"
      ]
     },
     "execution_count": 6,
     "metadata": {},
     "output_type": "execute_result"
    }
   ],
   "source": [
    "datapot"
   ]
  },
  {
   "cell_type": "markdown",
   "metadata": {},
   "source": [
    "Let's remove the SVDOneHotTransformer"
   ]
  },
  {
   "cell_type": "code",
   "execution_count": 7,
   "metadata": {
    "collapsed": true
   },
   "outputs": [],
   "source": [
    "datapot.remove_transformer('merchant_id', 0)"
   ]
  },
  {
   "cell_type": "code",
   "execution_count": 8,
   "metadata": {
    "collapsed": false
   },
   "outputs": [
    {
     "name": "stdout",
     "output_type": "stream",
     "text": [
      "fit transformers...\n",
      "fit: ('merchant_id', [NumericTransformer])\n",
      "fit: ('record_date', [TimestampTransformer])\n",
      "fit: ('latitude', [NumericTransformer])\n",
      "fit: ('longitude', [NumericTransformer])\n",
      "fit: ('real_transaction_dttm', [TimestampTransformer])\n",
      "fit transformers...OK\n",
      "num of new features: 13\n"
     ]
    }
   ],
   "source": [
    "data = datapot.transform(ftr, verbose=True)"
   ]
  },
  {
   "cell_type": "code",
   "execution_count": 9,
   "metadata": {
    "collapsed": false
   },
   "outputs": [
    {
     "data": {
      "text/html": [
       "<div>\n",
       "<table border=\"1\" class=\"dataframe\">\n",
       "  <thead>\n",
       "    <tr style=\"text-align: right;\">\n",
       "      <th></th>\n",
       "      <th>merchant_id_</th>\n",
       "      <th>record_date_timestamp_unixtime</th>\n",
       "      <th>record_date_timestamp_week_day</th>\n",
       "      <th>record_date_timestamp_month_day</th>\n",
       "      <th>record_date_timestamp_hour</th>\n",
       "      <th>record_date_timestamp_minute</th>\n",
       "      <th>latitude_</th>\n",
       "      <th>longitude_</th>\n",
       "      <th>real_transaction_dttm_timestamp_unixtime</th>\n",
       "      <th>real_transaction_dttm_timestamp_week_day</th>\n",
       "      <th>real_transaction_dttm_timestamp_month_day</th>\n",
       "      <th>real_transaction_dttm_timestamp_hour</th>\n",
       "      <th>real_transaction_dttm_timestamp_minute</th>\n",
       "    </tr>\n",
       "  </thead>\n",
       "  <tbody>\n",
       "    <tr>\n",
       "      <th>0</th>\n",
       "      <td>178</td>\n",
       "      <td>1.488177e+09</td>\n",
       "      <td>0</td>\n",
       "      <td>27</td>\n",
       "      <td>9</td>\n",
       "      <td>30</td>\n",
       "      <td>0.000000</td>\n",
       "      <td>0.000000</td>\n",
       "      <td>1.488177e+09</td>\n",
       "      <td>0</td>\n",
       "      <td>27</td>\n",
       "      <td>9</td>\n",
       "      <td>34</td>\n",
       "    </tr>\n",
       "    <tr>\n",
       "      <th>1</th>\n",
       "      <td>178</td>\n",
       "      <td>1.488207e+09</td>\n",
       "      <td>0</td>\n",
       "      <td>27</td>\n",
       "      <td>17</td>\n",
       "      <td>54</td>\n",
       "      <td>55.055996</td>\n",
       "      <td>82.912991</td>\n",
       "      <td>1.488207e+09</td>\n",
       "      <td>0</td>\n",
       "      <td>27</td>\n",
       "      <td>17</td>\n",
       "      <td>49</td>\n",
       "    </tr>\n",
       "    <tr>\n",
       "      <th>2</th>\n",
       "      <td>178</td>\n",
       "      <td>1.488177e+09</td>\n",
       "      <td>0</td>\n",
       "      <td>27</td>\n",
       "      <td>9</td>\n",
       "      <td>31</td>\n",
       "      <td>0.000000</td>\n",
       "      <td>0.000000</td>\n",
       "      <td>1.488177e+09</td>\n",
       "      <td>0</td>\n",
       "      <td>27</td>\n",
       "      <td>9</td>\n",
       "      <td>34</td>\n",
       "    </tr>\n",
       "    <tr>\n",
       "      <th>3</th>\n",
       "      <td>178</td>\n",
       "      <td>1.488207e+09</td>\n",
       "      <td>0</td>\n",
       "      <td>27</td>\n",
       "      <td>17</td>\n",
       "      <td>43</td>\n",
       "      <td>55.056034</td>\n",
       "      <td>82.912734</td>\n",
       "      <td>1.488207e+09</td>\n",
       "      <td>0</td>\n",
       "      <td>27</td>\n",
       "      <td>17</td>\n",
       "      <td>49</td>\n",
       "    </tr>\n",
       "    <tr>\n",
       "      <th>4</th>\n",
       "      <td>178</td>\n",
       "      <td>1.488207e+09</td>\n",
       "      <td>0</td>\n",
       "      <td>27</td>\n",
       "      <td>17</td>\n",
       "      <td>45</td>\n",
       "      <td>55.056034</td>\n",
       "      <td>82.912734</td>\n",
       "      <td>1.488207e+09</td>\n",
       "      <td>0</td>\n",
       "      <td>27</td>\n",
       "      <td>17</td>\n",
       "      <td>49</td>\n",
       "    </tr>\n",
       "  </tbody>\n",
       "</table>\n",
       "</div>"
      ],
      "text/plain": [
       "   merchant_id_  record_date_timestamp_unixtime  \\\n",
       "0           178                    1.488177e+09   \n",
       "1           178                    1.488207e+09   \n",
       "2           178                    1.488177e+09   \n",
       "3           178                    1.488207e+09   \n",
       "4           178                    1.488207e+09   \n",
       "\n",
       "   record_date_timestamp_week_day  record_date_timestamp_month_day  \\\n",
       "0                               0                               27   \n",
       "1                               0                               27   \n",
       "2                               0                               27   \n",
       "3                               0                               27   \n",
       "4                               0                               27   \n",
       "\n",
       "   record_date_timestamp_hour  record_date_timestamp_minute  latitude_  \\\n",
       "0                           9                            30   0.000000   \n",
       "1                          17                            54  55.055996   \n",
       "2                           9                            31   0.000000   \n",
       "3                          17                            43  55.056034   \n",
       "4                          17                            45  55.056034   \n",
       "\n",
       "   longitude_  real_transaction_dttm_timestamp_unixtime  \\\n",
       "0    0.000000                              1.488177e+09   \n",
       "1   82.912991                              1.488207e+09   \n",
       "2    0.000000                              1.488177e+09   \n",
       "3   82.912734                              1.488207e+09   \n",
       "4   82.912734                              1.488207e+09   \n",
       "\n",
       "   real_transaction_dttm_timestamp_week_day  \\\n",
       "0                                         0   \n",
       "1                                         0   \n",
       "2                                         0   \n",
       "3                                         0   \n",
       "4                                         0   \n",
       "\n",
       "   real_transaction_dttm_timestamp_month_day  \\\n",
       "0                                         27   \n",
       "1                                         27   \n",
       "2                                         27   \n",
       "3                                         27   \n",
       "4                                         27   \n",
       "\n",
       "   real_transaction_dttm_timestamp_hour  \\\n",
       "0                                     9   \n",
       "1                                    17   \n",
       "2                                     9   \n",
       "3                                    17   \n",
       "4                                    17   \n",
       "\n",
       "   real_transaction_dttm_timestamp_minute  \n",
       "0                                      34  \n",
       "1                                      49  \n",
       "2                                      34  \n",
       "3                                      49  \n",
       "4                                      49  "
      ]
     },
     "execution_count": 9,
     "metadata": {},
     "output_type": "execute_result"
    }
   ],
   "source": [
    "data.head()"
   ]
  },
  {
   "cell_type": "code",
   "execution_count": 10,
   "metadata": {
    "collapsed": false
   },
   "outputs": [
    {
     "data": {
      "text/plain": [
       "Index(['merchant_id_', 'record_date_timestamp_unixtime',\n",
       "       'record_date_timestamp_week_day', 'record_date_timestamp_month_day',\n",
       "       'record_date_timestamp_hour', 'record_date_timestamp_minute',\n",
       "       'latitude_', 'longitude_', 'real_transaction_dttm_timestamp_unixtime',\n",
       "       'real_transaction_dttm_timestamp_week_day',\n",
       "       'real_transaction_dttm_timestamp_month_day',\n",
       "       'real_transaction_dttm_timestamp_hour',\n",
       "       'real_transaction_dttm_timestamp_minute'],\n",
       "      dtype='object')"
      ]
     },
     "execution_count": 10,
     "metadata": {},
     "output_type": "execute_result"
    }
   ],
   "source": [
    "data.columns"
   ]
  }
 ],
 "metadata": {
  "anaconda-cloud": {},
  "kernelspec": {
   "display_name": "Python [default]",
   "language": "python",
   "name": "python3"
  },
  "language_info": {
   "codemirror_mode": {
    "name": "ipython",
    "version": 3
   },
   "file_extension": ".py",
   "mimetype": "text/x-python",
   "name": "python",
   "nbconvert_exporter": "python",
   "pygments_lexer": "ipython3",
   "version": "3.5.2"
  }
 },
 "nbformat": 4,
 "nbformat_minor": 1
}
