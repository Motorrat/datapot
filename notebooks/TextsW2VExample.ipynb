{
 "cells": [
  {
   "cell_type": "markdown",
   "metadata": {},
   "source": [
    "# DataPot for Texts Example\n",
    "\n",
    "## Bag of Words Meets Bags of Popcorn\n",
    "\n",
    "\n",
    "This example show how datapot works with text data.\n",
    "\n",
    "https://www.kaggle.com/c/word2vec-nlp-tutorial/data"
   ]
  },
  {
   "cell_type": "code",
   "execution_count": 1,
   "metadata": {
    "collapsed": false,
    "deletable": true,
    "editable": true
   },
   "outputs": [],
   "source": [
    "from time import time\n",
    "\n",
    "start = time()\n",
    "import datapot as dp"
   ]
  },
  {
   "cell_type": "code",
   "execution_count": 2,
   "metadata": {
    "collapsed": true,
    "deletable": true,
    "editable": true
   },
   "outputs": [],
   "source": [
    "datapot = dp.DataPot()"
   ]
  },
  {
   "cell_type": "code",
   "execution_count": 3,
   "metadata": {
    "collapsed": true,
    "deletable": true,
    "editable": true
   },
   "outputs": [],
   "source": [
    "train_file = open('../data/imdbHTMLReviewsTrainData.jsonlines')"
   ]
  },
  {
   "cell_type": "code",
   "execution_count": 4,
   "metadata": {
    "collapsed": false,
    "deletable": true,
    "editable": true,
    "scrolled": false
   },
   "outputs": [
    {
     "data": {
      "text/plain": [
       "DataPot class instance\n",
       " - number of features without transformation: 3\n",
       " - number of new features: Unknown\n",
       "features to transform: \n",
       "\t(u'review', [TfidfTransformer])\n",
       "\t(u'sentiment', [SVDOneHotTransformer, NumericTransformer])"
      ]
     },
     "execution_count": 4,
     "metadata": {},
     "output_type": "execute_result"
    }
   ],
   "source": [
    "datapot.detect(train_file)"
   ]
  },
  {
   "cell_type": "markdown",
   "metadata": {},
   "source": [
    "In order to apply word2vec with pre-trained Google News corpus (3 billion running words) word vector model download it here:\n",
    "\n",
    "https://drive.google.com/uc?id=0B7XkCwpI5KDYNlNUTTlSS21pQmM&export=download"
   ]
  },
  {
   "cell_type": "code",
   "execution_count": 5,
   "metadata": {
    "collapsed": true,
    "deletable": true,
    "editable": true
   },
   "outputs": [],
   "source": [
    "from datapot.transformer.text_transformer import Word2VecTransformer"
   ]
  },
  {
   "cell_type": "code",
   "execution_count": 6,
   "metadata": {
    "collapsed": false,
    "deletable": true,
    "editable": true
   },
   "outputs": [
    {
     "data": {
      "text/plain": [
       "DataPot class instance\n",
       " - number of features without transformation: 3\n",
       " - number of new features: Unknown\n",
       "features to transform: \n",
       "\t(u'review', [TfidfTransformer, Word2VecTransformer])\n",
       "\t(u'sentiment', [SVDOneHotTransformer, NumericTransformer])"
      ]
     },
     "execution_count": 6,
     "metadata": {},
     "output_type": "execute_result"
    }
   ],
   "source": [
    "datapot.add_transformer('review', Word2VecTransformer('GoogleNews-vectors-negative300.bin.gz'))"
   ]
  },
  {
   "cell_type": "code",
   "execution_count": 7,
   "metadata": {
    "collapsed": false,
    "deletable": true,
    "editable": true
   },
   "outputs": [
    {
     "data": {
      "text/plain": [
       "DataPot class instance\n",
       " - number of features without transformation: 3\n",
       " - number of new features: Unknown\n",
       "features to transform: \n",
       "\t(u'review', [TfidfTransformer, Word2VecTransformer])\n",
       "\t(u'id', [IdentityTransformer])\n",
       "\t(u'sentiment', [SVDOneHotTransformer, NumericTransformer])"
      ]
     },
     "execution_count": 7,
     "metadata": {},
     "output_type": "execute_result"
    }
   ],
   "source": [
    "from datapot.transformer.identity_transformer import IdentityTransformer\n",
    "\n",
    "datapot.add_transformer('id', IdentityTransformer())"
   ]
  },
  {
   "cell_type": "code",
   "execution_count": 8,
   "metadata": {
    "collapsed": false,
    "deletable": true,
    "editable": true
   },
   "outputs": [
    {
     "data": {
      "text/plain": [
       "DataPot class instance\n",
       " - number of features without transformation: 3\n",
       " - number of new features: Unknown\n",
       "features to transform: \n",
       "\t(u'review', [TfidfTransformer, Word2VecTransformer])\n",
       "\t(u'id', [IdentityTransformer])\n",
       "\t(u'sentiment', [SVDOneHotTransformer, NumericTransformer])"
      ]
     },
     "execution_count": 8,
     "metadata": {},
     "output_type": "execute_result"
    }
   ],
   "source": [
    "datapot"
   ]
  },
  {
   "cell_type": "code",
   "execution_count": 9,
   "metadata": {
    "collapsed": false,
    "deletable": true,
    "editable": true
   },
   "outputs": [
    {
     "data": {
      "text/plain": [
       "DataPot class instance\n",
       " - number of features without transformation: 3\n",
       " - number of new features: Unknown\n",
       "features to transform: \n",
       "\t(u'review', [Word2VecTransformer])\n",
       "\t(u'id', [IdentityTransformer])\n",
       "\t(u'sentiment', [NumericTransformer])"
      ]
     },
     "execution_count": 9,
     "metadata": {},
     "output_type": "execute_result"
    }
   ],
   "source": [
    "datapot.remove_transformer('sentiment', 0).remove_transformer('review', 0)"
   ]
  },
  {
   "cell_type": "code",
   "execution_count": 10,
   "metadata": {
    "collapsed": false,
    "deletable": true,
    "editable": true
   },
   "outputs": [
    {
     "name": "stdout",
     "output_type": "stream",
     "text": [
      "\n",
      "['__class__', '__contains__', '__delattr__', '__dict__', '__doc__', '__format__', '__getattribute__', '__getitem__', '__hash__', '__init__', '__module__', '__new__', '__reduce__', '__reduce_ex__', '__repr__', '__setattr__', '__sizeof__', '__str__', '__subclasshook__', '__weakref__', '_adapt_by_suffix', '_load_specials', '_save_specials', '_smart_save', 'accuracy', 'doesnt_match', 'evaluate_word_pairs', 'index2word', 'init_sims', 'load', 'load_word2vec_format', 'log_accuracy', 'log_evaluate_word_pairs', 'most_similar', 'most_similar_cosmul', 'n_similarity', 'save', 'save_word2vec_format', 'similar_by_vector', 'similar_by_word', 'similarity', 'syn0', 'syn0norm', 'vocab', 'wmdistance', 'word_vec']\n"
     ]
    },
    {
     "data": {
      "text/plain": [
       "DataPot class instance\n",
       " - number of features without transformation: 3\n",
       " - number of new features: 302\n",
       "features to transform: \n",
       "\t(u'review', [Word2VecTransformer])\n",
       "\t(u'id', [IdentityTransformer])\n",
       "\t(u'sentiment', [NumericTransformer])"
      ]
     },
     "execution_count": 10,
     "metadata": {},
     "output_type": "execute_result"
    }
   ],
   "source": [
    "datapot.fit(train_file)"
   ]
  },
  {
   "cell_type": "code",
   "execution_count": 11,
   "metadata": {
    "collapsed": false,
    "deletable": true,
    "editable": true
   },
   "outputs": [
    {
     "name": "stderr",
     "output_type": "stream",
     "text": [
      "/home/yury/anaconda3/envs/py2.7/lib/python2.7/site-packages/datapot/__init__.py:137: FutureWarning: convert_objects is deprecated.  Use the data-type specific converters pd.to_datetime, pd.to_timedelta and pd.to_numeric.\n",
      "  return pd.DataFrame(data=np.hstack(columns), columns=names).convert_objects(convert_numeric=True)\n"
     ]
    }
   ],
   "source": [
    "df = datapot.transform(train_file)"
   ]
  },
  {
   "cell_type": "code",
   "execution_count": 12,
   "metadata": {
    "collapsed": false,
    "deletable": true,
    "editable": true
   },
   "outputs": [
    {
     "data": {
      "text/html": [
       "<div>\n",
       "<table border=\"1\" class=\"dataframe\">\n",
       "  <thead>\n",
       "    <tr style=\"text-align: right;\">\n",
       "      <th></th>\n",
       "      <th>review_w2c_0</th>\n",
       "      <th>review_w2c_1</th>\n",
       "      <th>review_w2c_2</th>\n",
       "      <th>review_w2c_3</th>\n",
       "      <th>review_w2c_4</th>\n",
       "      <th>review_w2c_5</th>\n",
       "      <th>review_w2c_6</th>\n",
       "      <th>review_w2c_7</th>\n",
       "      <th>review_w2c_8</th>\n",
       "      <th>review_w2c_9</th>\n",
       "      <th>...</th>\n",
       "      <th>review_w2c_292</th>\n",
       "      <th>review_w2c_293</th>\n",
       "      <th>review_w2c_294</th>\n",
       "      <th>review_w2c_295</th>\n",
       "      <th>review_w2c_296</th>\n",
       "      <th>review_w2c_297</th>\n",
       "      <th>review_w2c_298</th>\n",
       "      <th>review_w2c_299</th>\n",
       "      <th>id</th>\n",
       "      <th>sentiment</th>\n",
       "    </tr>\n",
       "  </thead>\n",
       "  <tbody>\n",
       "    <tr>\n",
       "      <th>0</th>\n",
       "      <td>0.052496</td>\n",
       "      <td>0.030112</td>\n",
       "      <td>0.047812</td>\n",
       "      <td>0.116629</td>\n",
       "      <td>-0.063779</td>\n",
       "      <td>0.011063</td>\n",
       "      <td>0.039467</td>\n",
       "      <td>-0.074222</td>\n",
       "      <td>0.079232</td>\n",
       "      <td>0.050276</td>\n",
       "      <td>...</td>\n",
       "      <td>-0.079211</td>\n",
       "      <td>0.026400</td>\n",
       "      <td>-0.063537</td>\n",
       "      <td>-0.017119</td>\n",
       "      <td>0.007378</td>\n",
       "      <td>-0.044263</td>\n",
       "      <td>0.034460</td>\n",
       "      <td>-0.018368</td>\n",
       "      <td>5814_8</td>\n",
       "      <td>1</td>\n",
       "    </tr>\n",
       "    <tr>\n",
       "      <th>1</th>\n",
       "      <td>0.055470</td>\n",
       "      <td>0.047159</td>\n",
       "      <td>0.020710</td>\n",
       "      <td>0.103501</td>\n",
       "      <td>-0.051608</td>\n",
       "      <td>-0.006560</td>\n",
       "      <td>0.048293</td>\n",
       "      <td>-0.070138</td>\n",
       "      <td>0.054732</td>\n",
       "      <td>0.058845</td>\n",
       "      <td>...</td>\n",
       "      <td>-0.080714</td>\n",
       "      <td>0.027905</td>\n",
       "      <td>-0.041170</td>\n",
       "      <td>-0.009959</td>\n",
       "      <td>0.015125</td>\n",
       "      <td>-0.031857</td>\n",
       "      <td>0.047146</td>\n",
       "      <td>-0.014142</td>\n",
       "      <td>2381_9</td>\n",
       "      <td>1</td>\n",
       "    </tr>\n",
       "    <tr>\n",
       "      <th>2</th>\n",
       "      <td>0.034234</td>\n",
       "      <td>0.053978</td>\n",
       "      <td>0.008341</td>\n",
       "      <td>0.073953</td>\n",
       "      <td>-0.061673</td>\n",
       "      <td>-0.004418</td>\n",
       "      <td>0.014665</td>\n",
       "      <td>-0.075994</td>\n",
       "      <td>0.053972</td>\n",
       "      <td>0.078901</td>\n",
       "      <td>...</td>\n",
       "      <td>-0.075499</td>\n",
       "      <td>0.049075</td>\n",
       "      <td>-0.041116</td>\n",
       "      <td>-0.007737</td>\n",
       "      <td>0.008588</td>\n",
       "      <td>-0.035842</td>\n",
       "      <td>0.023027</td>\n",
       "      <td>0.007629</td>\n",
       "      <td>7759_3</td>\n",
       "      <td>0</td>\n",
       "    </tr>\n",
       "    <tr>\n",
       "      <th>3</th>\n",
       "      <td>0.053569</td>\n",
       "      <td>0.026639</td>\n",
       "      <td>0.028236</td>\n",
       "      <td>0.090700</td>\n",
       "      <td>-0.072726</td>\n",
       "      <td>0.004725</td>\n",
       "      <td>0.053708</td>\n",
       "      <td>-0.081408</td>\n",
       "      <td>0.068755</td>\n",
       "      <td>0.075209</td>\n",
       "      <td>...</td>\n",
       "      <td>-0.070612</td>\n",
       "      <td>0.025403</td>\n",
       "      <td>-0.026793</td>\n",
       "      <td>0.004640</td>\n",
       "      <td>0.015853</td>\n",
       "      <td>-0.027212</td>\n",
       "      <td>0.050098</td>\n",
       "      <td>-0.001557</td>\n",
       "      <td>3630_4</td>\n",
       "      <td>0</td>\n",
       "    </tr>\n",
       "    <tr>\n",
       "      <th>4</th>\n",
       "      <td>0.059918</td>\n",
       "      <td>0.026791</td>\n",
       "      <td>0.030766</td>\n",
       "      <td>0.078921</td>\n",
       "      <td>-0.072972</td>\n",
       "      <td>0.001130</td>\n",
       "      <td>0.042963</td>\n",
       "      <td>-0.068914</td>\n",
       "      <td>0.067305</td>\n",
       "      <td>0.075777</td>\n",
       "      <td>...</td>\n",
       "      <td>-0.077818</td>\n",
       "      <td>0.022897</td>\n",
       "      <td>-0.046225</td>\n",
       "      <td>-0.000431</td>\n",
       "      <td>0.022938</td>\n",
       "      <td>-0.051477</td>\n",
       "      <td>0.001565</td>\n",
       "      <td>0.006204</td>\n",
       "      <td>9495_8</td>\n",
       "      <td>1</td>\n",
       "    </tr>\n",
       "  </tbody>\n",
       "</table>\n",
       "<p>5 rows × 302 columns</p>\n",
       "</div>"
      ],
      "text/plain": [
       "   review_w2c_0  review_w2c_1  review_w2c_2  review_w2c_3  review_w2c_4  \\\n",
       "0      0.052496      0.030112      0.047812      0.116629     -0.063779   \n",
       "1      0.055470      0.047159      0.020710      0.103501     -0.051608   \n",
       "2      0.034234      0.053978      0.008341      0.073953     -0.061673   \n",
       "3      0.053569      0.026639      0.028236      0.090700     -0.072726   \n",
       "4      0.059918      0.026791      0.030766      0.078921     -0.072972   \n",
       "\n",
       "   review_w2c_5  review_w2c_6  review_w2c_7  review_w2c_8  review_w2c_9  \\\n",
       "0      0.011063      0.039467     -0.074222      0.079232      0.050276   \n",
       "1     -0.006560      0.048293     -0.070138      0.054732      0.058845   \n",
       "2     -0.004418      0.014665     -0.075994      0.053972      0.078901   \n",
       "3      0.004725      0.053708     -0.081408      0.068755      0.075209   \n",
       "4      0.001130      0.042963     -0.068914      0.067305      0.075777   \n",
       "\n",
       "     ...      review_w2c_292  review_w2c_293  review_w2c_294  review_w2c_295  \\\n",
       "0    ...           -0.079211        0.026400       -0.063537       -0.017119   \n",
       "1    ...           -0.080714        0.027905       -0.041170       -0.009959   \n",
       "2    ...           -0.075499        0.049075       -0.041116       -0.007737   \n",
       "3    ...           -0.070612        0.025403       -0.026793        0.004640   \n",
       "4    ...           -0.077818        0.022897       -0.046225       -0.000431   \n",
       "\n",
       "   review_w2c_296  review_w2c_297  review_w2c_298  review_w2c_299      id  \\\n",
       "0        0.007378       -0.044263        0.034460       -0.018368  5814_8   \n",
       "1        0.015125       -0.031857        0.047146       -0.014142  2381_9   \n",
       "2        0.008588       -0.035842        0.023027        0.007629  7759_3   \n",
       "3        0.015853       -0.027212        0.050098       -0.001557  3630_4   \n",
       "4        0.022938       -0.051477        0.001565        0.006204  9495_8   \n",
       "\n",
       "   sentiment  \n",
       "0          1  \n",
       "1          1  \n",
       "2          0  \n",
       "3          0  \n",
       "4          1  \n",
       "\n",
       "[5 rows x 302 columns]"
      ]
     },
     "execution_count": 12,
     "metadata": {},
     "output_type": "execute_result"
    }
   ],
   "source": [
    "df.head()"
   ]
  },
  {
   "cell_type": "code",
   "execution_count": 13,
   "metadata": {
    "collapsed": false,
    "deletable": true,
    "editable": true
   },
   "outputs": [],
   "source": [
    "X = df.drop(['sentiment', 'id'], axis=1)\n",
    "y = df.sentiment"
   ]
  },
  {
   "cell_type": "code",
   "execution_count": 14,
   "metadata": {
    "collapsed": false,
    "deletable": true,
    "editable": true
   },
   "outputs": [
    {
     "name": "stderr",
     "output_type": "stream",
     "text": [
      "/home/yury/anaconda3/envs/py2.7/lib/python2.7/site-packages/sklearn/cross_validation.py:44: DeprecationWarning: This module was deprecated in version 0.18 in favor of the model_selection module into which all the refactored classes and functions are moved. Also note that the interface of the new CV iterators are different from that of this module. This module will be removed in 0.20.\n",
      "  \"This module will be removed in 0.20.\", DeprecationWarning)\n"
     ]
    }
   ],
   "source": [
    "from xgboost import XGBClassifier\n",
    "\n",
    "clf = XGBClassifier().fit(X, y)"
   ]
  },
  {
   "cell_type": "code",
   "execution_count": 15,
   "metadata": {
    "collapsed": false,
    "deletable": true,
    "editable": true
   },
   "outputs": [],
   "source": [
    "test_f = open('data/imdbHTMLReviewsTestData.jsonlines')\n",
    "\n",
    "test_df = datapot.transform(test_f)"
   ]
  },
  {
   "cell_type": "code",
   "execution_count": 16,
   "metadata": {
    "collapsed": false,
    "deletable": true,
    "editable": true
   },
   "outputs": [],
   "source": [
    "test_id = test_df.id\n",
    "X_test = test_df.drop(['id', 'sentiment'], axis=1)"
   ]
  },
  {
   "cell_type": "code",
   "execution_count": 17,
   "metadata": {
    "collapsed": false,
    "deletable": true,
    "editable": true
   },
   "outputs": [],
   "source": [
    "import pandas as pd\n",
    "\n",
    "answer_df = pd.DataFrame()\n",
    "answer_df['id'] = test_df.id\n",
    "answer_df['sentiment'] = clf.predict(X_test)\n",
    "answer_df.to_csv(\"baseline_answer.csv\", index=False)"
   ]
  },
  {
   "cell_type": "code",
   "execution_count": 18,
   "metadata": {
    "collapsed": false,
    "deletable": true,
    "editable": true
   },
   "outputs": [
    {
     "name": "stdout",
     "output_type": "stream",
     "text": [
      "275.767914057\n"
     ]
    }
   ],
   "source": [
    "print(time() - start)"
   ]
  }
 ],
 "metadata": {
  "anaconda-cloud": {},
  "kernelspec": {
   "display_name": "Python 3",
   "language": "python",
   "name": "python3"
  },
  "language_info": {
   "codemirror_mode": {
    "name": "ipython",
    "version": 3
   },
   "file_extension": ".py",
   "mimetype": "text/x-python",
   "name": "python",
   "nbconvert_exporter": "python",
   "pygments_lexer": "ipython3",
   "version": "3.6.1"
  }
 },
 "nbformat": 4,
 "nbformat_minor": 1
}
