{
 "cells": [
  {
   "cell_type": "markdown",
   "metadata": {
    "deletable": true,
    "editable": true
   },
   "source": [
    "# DataPot Usage Examples"
   ]
  },
  {
   "cell_type": "code",
   "execution_count": 27,
   "metadata": {
    "collapsed": true,
    "deletable": true,
    "editable": true
   },
   "outputs": [],
   "source": [
    "import pandas as pd\n",
    "from __future__ import print_function\n",
    "import sys\n",
    "import bz2\n",
    "import time\n",
    "import xgboost as xgb\n",
    "from sklearn.model_selection import cross_val_score\n",
    "\n",
    "import datapot as dp\n",
    "from datapot.utils import csv_to_jsonlines\n",
    "from datapot.datasets import fetch_imdb, fetch_job_salary"
   ]
  },
  {
   "cell_type": "markdown",
   "metadata": {
    "deletable": true,
    "editable": true
   },
   "source": [
    "## Dataset with timestamp features extraction."
   ]
  },
  {
   "cell_type": "code",
   "execution_count": 26,
   "metadata": {
    "collapsed": false,
    "deletable": true,
    "editable": true
   },
   "outputs": [
    {
     "data": {
      "text/html": [
       "<div>\n",
       "<table border=\"1\" class=\"dataframe\">\n",
       "  <thead>\n",
       "    <tr style=\"text-align: right;\">\n",
       "      <th></th>\n",
       "      <th>merchant_id</th>\n",
       "      <th>latitude</th>\n",
       "      <th>longitude</th>\n",
       "      <th>real_transaction_dttm</th>\n",
       "      <th>record_date</th>\n",
       "    </tr>\n",
       "  </thead>\n",
       "  <tbody>\n",
       "    <tr>\n",
       "      <th>0</th>\n",
       "      <td>178</td>\n",
       "      <td>0.000000</td>\n",
       "      <td>0.000000</td>\n",
       "      <td>9:34:47</td>\n",
       "      <td>9:30:36</td>\n",
       "    </tr>\n",
       "    <tr>\n",
       "      <th>1</th>\n",
       "      <td>178</td>\n",
       "      <td>55.055995</td>\n",
       "      <td>82.912991</td>\n",
       "      <td>17:49:50</td>\n",
       "      <td>17:54:24</td>\n",
       "    </tr>\n",
       "    <tr>\n",
       "      <th>2</th>\n",
       "      <td>178</td>\n",
       "      <td>0.000000</td>\n",
       "      <td>0.000000</td>\n",
       "      <td>9:34:47</td>\n",
       "      <td>9:31:22</td>\n",
       "    </tr>\n",
       "    <tr>\n",
       "      <th>3</th>\n",
       "      <td>178</td>\n",
       "      <td>55.056034</td>\n",
       "      <td>82.912734</td>\n",
       "      <td>17:49:50</td>\n",
       "      <td>17:43:01</td>\n",
       "    </tr>\n",
       "    <tr>\n",
       "      <th>4</th>\n",
       "      <td>178</td>\n",
       "      <td>55.056034</td>\n",
       "      <td>82.912734</td>\n",
       "      <td>17:49:50</td>\n",
       "      <td>17:45:17</td>\n",
       "    </tr>\n",
       "  </tbody>\n",
       "</table>\n",
       "</div>"
      ],
      "text/plain": [
       "   merchant_id   latitude  longitude real_transaction_dttm record_date\n",
       "0          178   0.000000   0.000000               9:34:47     9:30:36\n",
       "1          178  55.055995  82.912991              17:49:50    17:54:24\n",
       "2          178   0.000000   0.000000               9:34:47     9:31:22\n",
       "3          178  55.056034  82.912734              17:49:50    17:43:01\n",
       "4          178  55.056034  82.912734              17:49:50    17:45:17"
      ]
     },
     "execution_count": 26,
     "metadata": {},
     "output_type": "execute_result"
    }
   ],
   "source": [
    "transactions = pd.read_csv('../data/transactions.csv')\n",
    "transactions.head()"
   ]
  },
  {
   "cell_type": "markdown",
   "metadata": {
    "deletable": true,
    "editable": true
   },
   "source": [
    "Creating the DataPot object."
   ]
  },
  {
   "cell_type": "code",
   "execution_count": 16,
   "metadata": {
    "collapsed": false,
    "deletable": true,
    "editable": true
   },
   "outputs": [],
   "source": [
    "import datapot as dp\n",
    "datapot = dp.DataPot()"
   ]
  },
  {
   "cell_type": "code",
   "execution_count": 17,
   "metadata": {
    "collapsed": false,
    "deletable": true,
    "editable": true
   },
   "outputs": [],
   "source": [
    "from datapot.utils import csv_to_jsonlines\n",
    "\n",
    "csv_to_jsonlines('../data/transactions.csv', '../data/transactions.jsonlines')"
   ]
  },
  {
   "cell_type": "code",
   "execution_count": 18,
   "metadata": {
    "collapsed": false,
    "deletable": true,
    "editable": true
   },
   "outputs": [
    {
     "data": {
      "text/plain": [
       "'{\"merchant_id\":178,\"latitude\":0.0,\"longitude\":0.0,\"real_transaction_dttm\":\"9:34:47\",\"record_date\":\"9:30:36\"}\\n'"
      ]
     },
     "execution_count": 18,
     "metadata": {},
     "output_type": "execute_result"
    }
   ],
   "source": [
    "data_trns = open('../data/transactions.jsonlines')\n",
    "data_trns.readline()"
   ]
  },
  {
   "cell_type": "markdown",
   "metadata": {
    "deletable": true,
    "editable": true
   },
   "source": [
    "Let's call the fit method. It automatically finds appropriate transformers for the fields of jsonlines file. The parameter 'limit' means how many objects will be used to detect the right transformers."
   ]
  },
  {
   "cell_type": "code",
   "execution_count": 19,
   "metadata": {
    "collapsed": false,
    "deletable": true,
    "editable": true,
    "scrolled": true
   },
   "outputs": [
    {
     "data": {
      "text/plain": [
       "DataPot class instance\n",
       " - number of features without transformation: 5\n",
       " - number of new features: 13\n",
       "features to transform: \n",
       "\t('merchant_id', [SVDOneHotTransformer, NumericTransformer])\n",
       "\t('latitude', [NumericTransformer])\n",
       "\t('longitude', [NumericTransformer])\n",
       "\t('real_transaction_dttm', [TimestampTransformer])\n",
       "\t('record_date', [TimestampTransformer])"
      ]
     },
     "execution_count": 19,
     "metadata": {},
     "output_type": "execute_result"
    }
   ],
   "source": [
    "datapot.detect(data_trns, limit=100)"
   ]
  },
  {
   "cell_type": "code",
   "execution_count": 20,
   "metadata": {
    "collapsed": false,
    "deletable": true,
    "editable": true
   },
   "outputs": [
    {
     "name": "stdout",
     "output_type": "stream",
     "text": [
      "fit transformers...\n",
      "fit: ('merchant_id', [SVDOneHotTransformer, NumericTransformer])\n",
      "fit: ('latitude', [NumericTransformer])\n",
      "fit: ('longitude', [NumericTransformer])\n",
      "fit: ('real_transaction_dttm', [TimestampTransformer])\n",
      "fit: ('record_date', [TimestampTransformer])\n",
      "fit transformers...OK\n",
      "num of new features: 23\n",
      "fit time: 4.280209302902222\n"
     ]
    }
   ],
   "source": [
    "t0 = time.time()\n",
    "datapot.fit(data_trns, verbose=True)\n",
    "print('fit time:', time.time()-t0)"
   ]
  },
  {
   "cell_type": "code",
   "execution_count": 21,
   "metadata": {
    "collapsed": false,
    "deletable": true,
    "editable": true
   },
   "outputs": [
    {
     "data": {
      "text/plain": [
       "DataPot class instance\n",
       " - number of features without transformation: 5\n",
       " - number of new features: 23\n",
       "features to transform: \n",
       "\t('merchant_id', [SVDOneHotTransformer, NumericTransformer])\n",
       "\t('latitude', [NumericTransformer])\n",
       "\t('longitude', [NumericTransformer])\n",
       "\t('real_transaction_dttm', [TimestampTransformer])\n",
       "\t('record_date', [TimestampTransformer])"
      ]
     },
     "execution_count": 21,
     "metadata": {},
     "output_type": "execute_result"
    }
   ],
   "source": [
    "datapot"
   ]
  },
  {
   "cell_type": "markdown",
   "metadata": {
    "deletable": true,
    "editable": true
   },
   "source": [
    "Let's **remove** the SVDOneHotTransformer"
   ]
  },
  {
   "cell_type": "code",
   "execution_count": 22,
   "metadata": {
    "collapsed": false,
    "deletable": true,
    "editable": true
   },
   "outputs": [],
   "source": [
    "datapot.remove_transformer('merchant_id', 0)"
   ]
  },
  {
   "cell_type": "code",
   "execution_count": 23,
   "metadata": {
    "collapsed": false,
    "deletable": true,
    "editable": true
   },
   "outputs": [
    {
     "name": "stdout",
     "output_type": "stream",
     "text": [
      "transform time: 39.660483837127686\n"
     ]
    }
   ],
   "source": [
    "t0 = time.time()\n",
    "df_trns = datapot.transform(data_trns)\n",
    "print('transform time:', time.time()-t0)"
   ]
  },
  {
   "cell_type": "code",
   "execution_count": 24,
   "metadata": {
    "collapsed": false,
    "deletable": true,
    "editable": true,
    "scrolled": false
   },
   "outputs": [
    {
     "data": {
      "text/html": [
       "<div>\n",
       "<table border=\"1\" class=\"dataframe\">\n",
       "  <thead>\n",
       "    <tr style=\"text-align: right;\">\n",
       "      <th></th>\n",
       "      <th>merchant_id</th>\n",
       "      <th>latitude</th>\n",
       "      <th>longitude</th>\n",
       "      <th>real_transaction_dttm_timestamp_unixtime</th>\n",
       "      <th>real_transaction_dttm_timestamp_week_day</th>\n",
       "      <th>real_transaction_dttm_timestamp_month_day</th>\n",
       "      <th>real_transaction_dttm_timestamp_hour</th>\n",
       "      <th>real_transaction_dttm_timestamp_minute</th>\n",
       "      <th>record_date_timestamp_unixtime</th>\n",
       "      <th>record_date_timestamp_week_day</th>\n",
       "      <th>record_date_timestamp_month_day</th>\n",
       "      <th>record_date_timestamp_hour</th>\n",
       "      <th>record_date_timestamp_minute</th>\n",
       "    </tr>\n",
       "  </thead>\n",
       "  <tbody>\n",
       "    <tr>\n",
       "      <th>0</th>\n",
       "      <td>178.0</td>\n",
       "      <td>0.000000</td>\n",
       "      <td>0.000000</td>\n",
       "      <td>1.491633e+09</td>\n",
       "      <td>5.0</td>\n",
       "      <td>8.0</td>\n",
       "      <td>9.0</td>\n",
       "      <td>34.0</td>\n",
       "      <td>1.491633e+09</td>\n",
       "      <td>5.0</td>\n",
       "      <td>8.0</td>\n",
       "      <td>9.0</td>\n",
       "      <td>30.0</td>\n",
       "    </tr>\n",
       "    <tr>\n",
       "      <th>1</th>\n",
       "      <td>178.0</td>\n",
       "      <td>55.055996</td>\n",
       "      <td>82.912991</td>\n",
       "      <td>1.491663e+09</td>\n",
       "      <td>5.0</td>\n",
       "      <td>8.0</td>\n",
       "      <td>17.0</td>\n",
       "      <td>49.0</td>\n",
       "      <td>1.491663e+09</td>\n",
       "      <td>5.0</td>\n",
       "      <td>8.0</td>\n",
       "      <td>17.0</td>\n",
       "      <td>54.0</td>\n",
       "    </tr>\n",
       "    <tr>\n",
       "      <th>2</th>\n",
       "      <td>178.0</td>\n",
       "      <td>0.000000</td>\n",
       "      <td>0.000000</td>\n",
       "      <td>1.491633e+09</td>\n",
       "      <td>5.0</td>\n",
       "      <td>8.0</td>\n",
       "      <td>9.0</td>\n",
       "      <td>34.0</td>\n",
       "      <td>1.491633e+09</td>\n",
       "      <td>5.0</td>\n",
       "      <td>8.0</td>\n",
       "      <td>9.0</td>\n",
       "      <td>31.0</td>\n",
       "    </tr>\n",
       "    <tr>\n",
       "      <th>3</th>\n",
       "      <td>178.0</td>\n",
       "      <td>55.056034</td>\n",
       "      <td>82.912734</td>\n",
       "      <td>1.491663e+09</td>\n",
       "      <td>5.0</td>\n",
       "      <td>8.0</td>\n",
       "      <td>17.0</td>\n",
       "      <td>49.0</td>\n",
       "      <td>1.491663e+09</td>\n",
       "      <td>5.0</td>\n",
       "      <td>8.0</td>\n",
       "      <td>17.0</td>\n",
       "      <td>43.0</td>\n",
       "    </tr>\n",
       "    <tr>\n",
       "      <th>4</th>\n",
       "      <td>178.0</td>\n",
       "      <td>55.056034</td>\n",
       "      <td>82.912734</td>\n",
       "      <td>1.491663e+09</td>\n",
       "      <td>5.0</td>\n",
       "      <td>8.0</td>\n",
       "      <td>17.0</td>\n",
       "      <td>49.0</td>\n",
       "      <td>1.491663e+09</td>\n",
       "      <td>5.0</td>\n",
       "      <td>8.0</td>\n",
       "      <td>17.0</td>\n",
       "      <td>45.0</td>\n",
       "    </tr>\n",
       "  </tbody>\n",
       "</table>\n",
       "</div>"
      ],
      "text/plain": [
       "   merchant_id   latitude  longitude  \\\n",
       "0        178.0   0.000000   0.000000   \n",
       "1        178.0  55.055996  82.912991   \n",
       "2        178.0   0.000000   0.000000   \n",
       "3        178.0  55.056034  82.912734   \n",
       "4        178.0  55.056034  82.912734   \n",
       "\n",
       "   real_transaction_dttm_timestamp_unixtime  \\\n",
       "0                              1.491633e+09   \n",
       "1                              1.491663e+09   \n",
       "2                              1.491633e+09   \n",
       "3                              1.491663e+09   \n",
       "4                              1.491663e+09   \n",
       "\n",
       "   real_transaction_dttm_timestamp_week_day  \\\n",
       "0                                       5.0   \n",
       "1                                       5.0   \n",
       "2                                       5.0   \n",
       "3                                       5.0   \n",
       "4                                       5.0   \n",
       "\n",
       "   real_transaction_dttm_timestamp_month_day  \\\n",
       "0                                        8.0   \n",
       "1                                        8.0   \n",
       "2                                        8.0   \n",
       "3                                        8.0   \n",
       "4                                        8.0   \n",
       "\n",
       "   real_transaction_dttm_timestamp_hour  \\\n",
       "0                                   9.0   \n",
       "1                                  17.0   \n",
       "2                                   9.0   \n",
       "3                                  17.0   \n",
       "4                                  17.0   \n",
       "\n",
       "   real_transaction_dttm_timestamp_minute  record_date_timestamp_unixtime  \\\n",
       "0                                    34.0                    1.491633e+09   \n",
       "1                                    49.0                    1.491663e+09   \n",
       "2                                    34.0                    1.491633e+09   \n",
       "3                                    49.0                    1.491663e+09   \n",
       "4                                    49.0                    1.491663e+09   \n",
       "\n",
       "   record_date_timestamp_week_day  record_date_timestamp_month_day  \\\n",
       "0                             5.0                              8.0   \n",
       "1                             5.0                              8.0   \n",
       "2                             5.0                              8.0   \n",
       "3                             5.0                              8.0   \n",
       "4                             5.0                              8.0   \n",
       "\n",
       "   record_date_timestamp_hour  record_date_timestamp_minute  \n",
       "0                         9.0                          30.0  \n",
       "1                        17.0                          54.0  \n",
       "2                         9.0                          31.0  \n",
       "3                        17.0                          43.0  \n",
       "4                        17.0                          45.0  "
      ]
     },
     "execution_count": 24,
     "metadata": {},
     "output_type": "execute_result"
    }
   ],
   "source": [
    "df_trns.head()"
   ]
  },
  {
   "cell_type": "code",
   "execution_count": null,
   "metadata": {
    "collapsed": false,
    "deletable": true,
    "editable": true
   },
   "outputs": [],
   "source": []
  },
  {
   "cell_type": "markdown",
   "metadata": {
    "deletable": true,
    "editable": true
   },
   "source": [
    "## Bag of Words Meets Bags of Popcorn\n",
    "\n",
    "### Usage example for unstructured textual bzip2-compressed data\n",
    "\n",
    "datapot.fit method subsamples the data to detect language and choose corresponding stopwords and stemming.\n",
    "\n",
    "For each review datapot.transform generates an SVD-compressed 12-dimensional tfidf-vector representation.\n"
   ]
  },
  {
   "cell_type": "code",
   "execution_count": 1,
   "metadata": {
    "collapsed": true,
    "deletable": true,
    "editable": true
   },
   "outputs": [],
   "source": [
    "import datapot as dp\n",
    "from datapot.datasets import fetch_imdb"
   ]
  },
  {
   "cell_type": "code",
   "execution_count": 4,
   "metadata": {
    "collapsed": false,
    "deletable": true,
    "editable": true
   },
   "outputs": [],
   "source": [
    "fetch_imdb()\n",
    "data_imdb = bz2.BZ2File('data/imdb.jsonlines.bz2')\n",
    "datapot_imdb = dp.DataPot()"
   ]
  },
  {
   "cell_type": "raw",
   "metadata": {
    "deletable": true,
    "editable": true
   },
   "source": [
    "# imdb.jsonlines example:\n",
    "\n",
    "{\"id\":\"5814_8\",\n",
    "\"sentiment\":1,\n",
    "\"review\":\"With all this stuff going down at the moment with MJ i've started listening to his music, watching the odd documentary here and there, watched The Wiz and watched Moonwalker again. Maybe i just want to get a certain insight into this guy who i thought was really cool in the eighties just to maybe make up my mind whether he is guilty or innocent. Moonwalker is part biography, part feature film which i remember going to see at the cinema when it was originally released. Some of it has subtle messages about MJ's feeling towards the press and also the obvious message of drugs are bad m'kay.<br /><br />Visually impressive but of course this is all about Michael Jackson so unless you remotely like MJ in anyway then you are going to hate this and find it boring. Some may call MJ an egotist for consenting to the making of this movie BUT MJ and most of his fans would say that he made it for the fans which if true is really nice of him.<br /><br />The actual feature film bit when it finally starts is only on for 20 minutes or so excluding the Smooth Criminal sequence and Joe Pesci is convincing as a psychopathic all powerful drug lord. Why he wants MJ dead so bad is beyond me. Because MJ overheard his plans? Nah, Joe Pesci's character ranted that he wanted people to know it is he who is supplying drugs etc so i dunno, maybe he just hates MJ's music.<br /><br />Lots of cool things in this like MJ turning into a car and a robot and the whole Speed Demon sequence. Also, the director must have had the patience of a saint when it came to filming the kiddy Bad sequence as usually directors hate working with one kid let alone a whole bunch of them performing a complex dance scene.<br /><br />Bottom line, this movie is for people who like MJ on one level or another (which i think is most people). If not, then stay away. It does try and give off a wholesome message and ironically MJ's bestest buddy in this movie is a girl! Michael Jackson is truly one of the most talented people ever to grace this planet but is he guilty? Well, with all the attention i've gave this subject....hmmm well i don't know because people can be different behind closed doors, i know this for a fact. He is either an extremely nice but stupid guy or one of the most sickest liars. I hope he is not the latter.\"}"
   ]
  },
  {
   "cell_type": "code",
   "execution_count": 6,
   "metadata": {
    "collapsed": false,
    "deletable": true,
    "editable": true
   },
   "outputs": [
    {
     "name": "stdout",
     "output_type": "stream",
     "text": [
      "detect time: 0.048979997634887695\n"
     ]
    },
    {
     "data": {
      "text/plain": [
       "DataPot class instance\n",
       " - number of features without transformation: 3\n",
       " - number of new features: Unknown\n",
       "features to transform: \n",
       "\t('sentiment', [SVDOneHotTransformer, NumericTransformer])\n",
       "\t('review', [TfidfTransformer])"
      ]
     },
     "execution_count": 6,
     "metadata": {},
     "output_type": "execute_result"
    }
   ],
   "source": [
    "t0 = time.time()\n",
    "datapot_imdb.detect(data_imdb)\n",
    "print('detect time:', time.time()-t0)\n",
    "datapot_imdb"
   ]
  },
  {
   "cell_type": "code",
   "execution_count": 7,
   "metadata": {
    "collapsed": true,
    "deletable": true,
    "editable": true
   },
   "outputs": [],
   "source": [
    "datapot_imdb.remove_transformer('sentiment', 0)"
   ]
  },
  {
   "cell_type": "code",
   "execution_count": 9,
   "metadata": {
    "collapsed": false,
    "deletable": true,
    "editable": true
   },
   "outputs": [
    {
     "name": "stdout",
     "output_type": "stream",
     "text": [
      "fit transformers...\n",
      "fit: ('sentiment', [NumericTransformer])\n",
      "fit: ('review', [TfidfTransformer])\n",
      "0.395061731338501\n",
      "2.1329188346862793\n",
      "2.3272857666015625\n",
      "2.378422975540161\n",
      "fit transformers...OK\n",
      "num of new features: 13\n"
     ]
    },
    {
     "data": {
      "text/plain": [
       "DataPot class instance\n",
       " - number of features without transformation: 3\n",
       " - number of new features: 13\n",
       "features to transform: \n",
       "\t('sentiment', [NumericTransformer])\n",
       "\t('review', [TfidfTransformer])"
      ]
     },
     "execution_count": 9,
     "metadata": {},
     "output_type": "execute_result"
    }
   ],
   "source": [
    "t0 = time.time()\n",
    "datapot_imdb.fit(data_imdb, verbose=True)"
   ]
  },
  {
   "cell_type": "code",
   "execution_count": 10,
   "metadata": {
    "collapsed": false,
    "deletable": true,
    "editable": true
   },
   "outputs": [
    {
     "name": "stdout",
     "output_type": "stream",
     "text": [
      "fit time: 4.254590272903442\n"
     ]
    }
   ],
   "source": [
    "print('fit time:', time.time()-t0)"
   ]
  },
  {
   "cell_type": "code",
   "execution_count": 11,
   "metadata": {
    "collapsed": false,
    "deletable": true,
    "editable": true
   },
   "outputs": [
    {
     "name": "stdout",
     "output_type": "stream",
     "text": [
      "transform time: 2.475766181945801\n"
     ]
    }
   ],
   "source": [
    "t0 = time.time()\n",
    "df_imdb = datapot_imdb.transform(data_imdb)\n",
    "print('transform time:', time.time()-t0)"
   ]
  },
  {
   "cell_type": "code",
   "execution_count": 12,
   "metadata": {
    "collapsed": false,
    "deletable": true,
    "editable": true
   },
   "outputs": [
    {
     "data": {
      "text/html": [
       "<div>\n",
       "<table border=\"1\" class=\"dataframe\">\n",
       "  <thead>\n",
       "    <tr style=\"text-align: right;\">\n",
       "      <th></th>\n",
       "      <th>sentiment</th>\n",
       "      <th>review_0</th>\n",
       "      <th>review_1</th>\n",
       "      <th>review_2</th>\n",
       "      <th>review_3</th>\n",
       "      <th>review_4</th>\n",
       "      <th>review_5</th>\n",
       "      <th>review_6</th>\n",
       "      <th>review_7</th>\n",
       "      <th>review_8</th>\n",
       "      <th>review_9</th>\n",
       "      <th>review_10</th>\n",
       "      <th>review_11</th>\n",
       "    </tr>\n",
       "  </thead>\n",
       "  <tbody>\n",
       "    <tr>\n",
       "      <th>0</th>\n",
       "      <td>1.0</td>\n",
       "      <td>0.561568</td>\n",
       "      <td>0.037617</td>\n",
       "      <td>0.066563</td>\n",
       "      <td>0.012515</td>\n",
       "      <td>-0.122175</td>\n",
       "      <td>0.083467</td>\n",
       "      <td>-0.055668</td>\n",
       "      <td>-0.003447</td>\n",
       "      <td>-0.088970</td>\n",
       "      <td>0.009006</td>\n",
       "      <td>0.082585</td>\n",
       "      <td>0.007215</td>\n",
       "    </tr>\n",
       "    <tr>\n",
       "      <th>1</th>\n",
       "      <td>1.0</td>\n",
       "      <td>0.353305</td>\n",
       "      <td>-0.110642</td>\n",
       "      <td>0.007999</td>\n",
       "      <td>0.003605</td>\n",
       "      <td>0.006190</td>\n",
       "      <td>0.018251</td>\n",
       "      <td>0.037428</td>\n",
       "      <td>-0.017110</td>\n",
       "      <td>-0.031891</td>\n",
       "      <td>-0.063658</td>\n",
       "      <td>-0.073276</td>\n",
       "      <td>-0.016203</td>\n",
       "    </tr>\n",
       "    <tr>\n",
       "      <th>2</th>\n",
       "      <td>0.0</td>\n",
       "      <td>0.420766</td>\n",
       "      <td>-0.104584</td>\n",
       "      <td>-0.157112</td>\n",
       "      <td>-0.064523</td>\n",
       "      <td>-0.048740</td>\n",
       "      <td>-0.026885</td>\n",
       "      <td>-0.018352</td>\n",
       "      <td>0.061155</td>\n",
       "      <td>0.163171</td>\n",
       "      <td>0.073150</td>\n",
       "      <td>-0.048731</td>\n",
       "      <td>0.080086</td>\n",
       "    </tr>\n",
       "    <tr>\n",
       "      <th>3</th>\n",
       "      <td>0.0</td>\n",
       "      <td>0.536519</td>\n",
       "      <td>-0.069268</td>\n",
       "      <td>-0.124055</td>\n",
       "      <td>-0.074944</td>\n",
       "      <td>-0.019102</td>\n",
       "      <td>-0.005256</td>\n",
       "      <td>0.055192</td>\n",
       "      <td>-0.026643</td>\n",
       "      <td>-0.023917</td>\n",
       "      <td>-0.044321</td>\n",
       "      <td>-0.076855</td>\n",
       "      <td>-0.008434</td>\n",
       "    </tr>\n",
       "    <tr>\n",
       "      <th>4</th>\n",
       "      <td>1.0</td>\n",
       "      <td>0.413370</td>\n",
       "      <td>-0.104360</td>\n",
       "      <td>-0.059966</td>\n",
       "      <td>0.053426</td>\n",
       "      <td>-0.063245</td>\n",
       "      <td>-0.009945</td>\n",
       "      <td>-0.040887</td>\n",
       "      <td>-0.021137</td>\n",
       "      <td>0.097938</td>\n",
       "      <td>0.062758</td>\n",
       "      <td>0.002043</td>\n",
       "      <td>0.054385</td>\n",
       "    </tr>\n",
       "  </tbody>\n",
       "</table>\n",
       "</div>"
      ],
      "text/plain": [
       "   sentiment  review_0  review_1  review_2  review_3  review_4  review_5  \\\n",
       "0        1.0  0.561568  0.037617  0.066563  0.012515 -0.122175  0.083467   \n",
       "1        1.0  0.353305 -0.110642  0.007999  0.003605  0.006190  0.018251   \n",
       "2        0.0  0.420766 -0.104584 -0.157112 -0.064523 -0.048740 -0.026885   \n",
       "3        0.0  0.536519 -0.069268 -0.124055 -0.074944 -0.019102 -0.005256   \n",
       "4        1.0  0.413370 -0.104360 -0.059966  0.053426 -0.063245 -0.009945   \n",
       "\n",
       "   review_6  review_7  review_8  review_9  review_10  review_11  \n",
       "0 -0.055668 -0.003447 -0.088970  0.009006   0.082585   0.007215  \n",
       "1  0.037428 -0.017110 -0.031891 -0.063658  -0.073276  -0.016203  \n",
       "2 -0.018352  0.061155  0.163171  0.073150  -0.048731   0.080086  \n",
       "3  0.055192 -0.026643 -0.023917 -0.044321  -0.076855  -0.008434  \n",
       "4 -0.040887 -0.021137  0.097938  0.062758   0.002043   0.054385  "
      ]
     },
     "execution_count": 12,
     "metadata": {},
     "output_type": "execute_result"
    }
   ],
   "source": [
    "df_imdb.head()"
   ]
  },
  {
   "cell_type": "code",
   "execution_count": 13,
   "metadata": {
    "collapsed": false,
    "deletable": true,
    "editable": true
   },
   "outputs": [],
   "source": [
    "X = df_imdb.drop(['sentiment'], axis=1)\n",
    "y = df_imdb['sentiment']"
   ]
  },
  {
   "cell_type": "code",
   "execution_count": 14,
   "metadata": {
    "collapsed": false,
    "deletable": true,
    "editable": true
   },
   "outputs": [
    {
     "name": "stdout",
     "output_type": "stream",
     "text": [
      "Cross-val score: [ 0.73726274  0.74525475  0.704       0.75975976  0.74074074]\n",
      "Feature importance:\n",
      "('review_0', 0.017569546)\n",
      "('review_1', 0.079062961)\n",
      "('review_2', 0.09956076)\n",
      "('review_3', 0.092240117)\n",
      "('review_4', 0.071742311)\n",
      "('review_5', 0.058565155)\n",
      "('review_6', 0.038067348)\n",
      "('review_7', 0.14055637)\n",
      "('review_8', 0.15812592)\n",
      "('review_9', 0.035139091)\n",
      "('review_10', 0.060029283)\n",
      "('review_11', 0.14934114)\n"
     ]
    }
   ],
   "source": [
    "model = xgb.XGBClassifier()\n",
    "cv_score = cross_val_score(model, X, y, cv=5)\n",
    "assert all(i > 0.5 for i in cv_score), 'Low score!'\n",
    "print('Cross-val score:', cv_score)\n",
    "\n",
    "model.fit(X, y)\n",
    "fi = model.feature_importances_\n",
    "\n",
    "print('Feature importance:')\n",
    "print(*(list(zip(X.columns, fi))), sep='\\n')"
   ]
  },
  {
   "cell_type": "markdown",
   "metadata": {
    "collapsed": true,
    "deletable": true,
    "editable": true
   },
   "source": [
    "## Job Salary Prediction\n",
    "\n",
    "### Usage example for unstructured textual bzip2-compressed data\n"
   ]
  },
  {
   "cell_type": "code",
   "execution_count": 2,
   "metadata": {
    "collapsed": true,
    "deletable": true,
    "editable": true
   },
   "outputs": [],
   "source": [
    "from datapot.datasets import fetch_job_salary\n",
    "\n",
    "fetch_job_salary()\n",
    "data_job = bz2.BZ2File('data/job.jsonlines.bz2')\n",
    "datapot_job = dp.DataPot()"
   ]
  },
  {
   "cell_type": "raw",
   "metadata": {
    "deletable": true,
    "editable": true
   },
   "source": [
    "# jobs.jsonlines example:\n",
    "\n",
    "{\"Id\":12612628,\n",
    "\"Title\":\"Engineering Systems Analyst\",\"FullDescription\":\"Engineering Systems Analyst Dorking Surrey Salary ****K Our client is located in Dorking, Surrey and are looking for Engineering Systems Analyst our client provides specialist software development Keywords Mathematical Modelling, Risk Analysis, System Modelling, Optimisation, MISER, PIONEEER Engineering Systems Analyst Dorking Surrey Salary ****K\",\n",
    "\"LocationNormalized\":\"Dorking\",\n",
    "\"ContractType\":null,\n",
    "\"ContractTime\":\"permanent\",\n",
    "\"Company\":\"Gregory Martin International\",\n",
    "\"Category\":\"Engineering Jobs\",\n",
    "\"SalaryNormalized\":25000}"
   ]
  },
  {
   "cell_type": "code",
   "execution_count": 3,
   "metadata": {
    "collapsed": false,
    "deletable": true,
    "editable": true
   },
   "outputs": [
    {
     "name": "stdout",
     "output_type": "stream",
     "text": [
      "detect time: 0.0410611629486084\n"
     ]
    },
    {
     "data": {
      "text/plain": [
       "DataPot class instance\n",
       " - number of features without transformation: 9\n",
       " - number of new features: Unknown\n",
       "features to transform: \n",
       "\t('Id', [NumericTransformer])\n",
       "\t('FullDescription', [TfidfTransformer])\n",
       "\t('ContractType', [SVDOneHotTransformer])\n",
       "\t('ContractTime', [SVDOneHotTransformer])\n",
       "\t('Category', [SVDOneHotTransformer])\n",
       "\t('SalaryNormalized', [NumericTransformer])"
      ]
     },
     "execution_count": 3,
     "metadata": {},
     "output_type": "execute_result"
    }
   ],
   "source": [
    "t0 = time.time()\n",
    "datapot_job.detect(data_job)\n",
    "print('detect time:', time.time()-t0)\n",
    "datapot_job"
   ]
  },
  {
   "cell_type": "code",
   "execution_count": 4,
   "metadata": {
    "collapsed": false,
    "deletable": true,
    "editable": true
   },
   "outputs": [
    {
     "name": "stdout",
     "output_type": "stream",
     "text": [
      "fit transformers...\n",
      "fit: ('Id', [NumericTransformer])\n",
      "fit: ('FullDescription', [TfidfTransformer])\n",
      "0.17565703392028809\n",
      "1.0644011497497559\n",
      "1.2400639057159424\n",
      "1.2862319946289062\n",
      "fit: ('ContractType', [SVDOneHotTransformer])\n",
      "fit: ('ContractTime', [SVDOneHotTransformer])\n",
      "fit: ('Category', [SVDOneHotTransformer])\n",
      "fit: ('SalaryNormalized', [NumericTransformer])\n",
      "fit transformers...OK\n",
      "num of new features: 38\n",
      "fit time: 1.9022538661956787\n"
     ]
    }
   ],
   "source": [
    "t0 = time.time()\n",
    "datapot_job.fit(data_job, verbose=True)\n",
    "print('fit time:', time.time()-t0)"
   ]
  },
  {
   "cell_type": "code",
   "execution_count": 5,
   "metadata": {
    "collapsed": false,
    "deletable": true,
    "editable": true
   },
   "outputs": [
    {
     "name": "stdout",
     "output_type": "stream",
     "text": [
      "transform time: 1.5304019451141357\n"
     ]
    }
   ],
   "source": [
    "t0 = time.time()\n",
    "df_job = datapot_job.transform(data_job)\n",
    "print('transform time:', time.time()-t0)"
   ]
  },
  {
   "cell_type": "code",
   "execution_count": 8,
   "metadata": {
    "collapsed": false,
    "deletable": true,
    "editable": true,
    "scrolled": false
   },
   "outputs": [
    {
     "name": "stdout",
     "output_type": "stream",
     "text": [
      "Index(['Id', 'FullDescription_0', 'FullDescription_1', 'FullDescription_2',\n",
      "       'FullDescription_3', 'FullDescription_4', 'FullDescription_5',\n",
      "       'FullDescription_6', 'FullDescription_7', 'FullDescription_8',\n",
      "       'FullDescription_9', 'FullDescription_10', 'FullDescription_11',\n",
      "       'ContractType_None', 'ContractType_full_time', 'ContractType_part_time',\n",
      "       'ContractTime_permanent', 'ContractTime_None', 'ContractTime_contract',\n",
      "       'Category_Engineering Jobs', 'Category_HR & Recruitment Jobs',\n",
      "       'Category_Accounting & Finance Jobs',\n",
      "       'Category_Healthcare & Nursing Jobs', 'Category_Other/General Jobs',\n",
      "       'Category_Hospitality & Catering Jobs', 'Category_IT Jobs',\n",
      "       'Category_Customer Services Jobs', 'Category_Travel Jobs',\n",
      "       'Category_Sales Jobs', 'Category_Manufacturing Jobs',\n",
      "       'Category_Teaching Jobs', 'Category_Creative & Design Jobs',\n",
      "       'Category_Trade & Construction Jobs', 'Category_Property Jobs',\n",
      "       'Category_Admin Jobs', 'Category_Legal Jobs', 'Category_Retail Jobs',\n",
      "       'SalaryNormalized'],\n",
      "      dtype='object')\n",
      "(2000, 38)\n"
     ]
    },
    {
     "data": {
      "text/html": [
       "<div>\n",
       "<table border=\"1\" class=\"dataframe\">\n",
       "  <thead>\n",
       "    <tr style=\"text-align: right;\">\n",
       "      <th></th>\n",
       "      <th>Id</th>\n",
       "      <th>FullDescription_0</th>\n",
       "      <th>FullDescription_1</th>\n",
       "      <th>FullDescription_2</th>\n",
       "      <th>FullDescription_3</th>\n",
       "      <th>FullDescription_4</th>\n",
       "      <th>FullDescription_5</th>\n",
       "      <th>FullDescription_6</th>\n",
       "      <th>FullDescription_7</th>\n",
       "      <th>FullDescription_8</th>\n",
       "      <th>...</th>\n",
       "      <th>Category_Sales Jobs</th>\n",
       "      <th>Category_Manufacturing Jobs</th>\n",
       "      <th>Category_Teaching Jobs</th>\n",
       "      <th>Category_Creative &amp; Design Jobs</th>\n",
       "      <th>Category_Trade &amp; Construction Jobs</th>\n",
       "      <th>Category_Property Jobs</th>\n",
       "      <th>Category_Admin Jobs</th>\n",
       "      <th>Category_Legal Jobs</th>\n",
       "      <th>Category_Retail Jobs</th>\n",
       "      <th>SalaryNormalized</th>\n",
       "    </tr>\n",
       "  </thead>\n",
       "  <tbody>\n",
       "    <tr>\n",
       "      <th>0</th>\n",
       "      <td>12612628.0</td>\n",
       "      <td>0.061321</td>\n",
       "      <td>-0.001374</td>\n",
       "      <td>0.024432</td>\n",
       "      <td>-0.006674</td>\n",
       "      <td>-0.005117</td>\n",
       "      <td>-0.020105</td>\n",
       "      <td>0.049415</td>\n",
       "      <td>-0.094435</td>\n",
       "      <td>0.006445</td>\n",
       "      <td>...</td>\n",
       "      <td>0.0</td>\n",
       "      <td>0.0</td>\n",
       "      <td>0.0</td>\n",
       "      <td>0.0</td>\n",
       "      <td>0.0</td>\n",
       "      <td>0.0</td>\n",
       "      <td>0.0</td>\n",
       "      <td>0.0</td>\n",
       "      <td>0.0</td>\n",
       "      <td>25000.0</td>\n",
       "    </tr>\n",
       "    <tr>\n",
       "      <th>1</th>\n",
       "      <td>12612830.0</td>\n",
       "      <td>0.321996</td>\n",
       "      <td>-0.064041</td>\n",
       "      <td>0.128569</td>\n",
       "      <td>-0.027485</td>\n",
       "      <td>0.006713</td>\n",
       "      <td>-0.058885</td>\n",
       "      <td>0.030574</td>\n",
       "      <td>-0.144783</td>\n",
       "      <td>0.015681</td>\n",
       "      <td>...</td>\n",
       "      <td>0.0</td>\n",
       "      <td>0.0</td>\n",
       "      <td>0.0</td>\n",
       "      <td>0.0</td>\n",
       "      <td>0.0</td>\n",
       "      <td>0.0</td>\n",
       "      <td>0.0</td>\n",
       "      <td>0.0</td>\n",
       "      <td>0.0</td>\n",
       "      <td>30000.0</td>\n",
       "    </tr>\n",
       "    <tr>\n",
       "      <th>2</th>\n",
       "      <td>12612844.0</td>\n",
       "      <td>0.227718</td>\n",
       "      <td>-0.015093</td>\n",
       "      <td>0.082972</td>\n",
       "      <td>-0.050471</td>\n",
       "      <td>-0.018522</td>\n",
       "      <td>-0.055125</td>\n",
       "      <td>0.033922</td>\n",
       "      <td>-0.095247</td>\n",
       "      <td>0.013809</td>\n",
       "      <td>...</td>\n",
       "      <td>0.0</td>\n",
       "      <td>0.0</td>\n",
       "      <td>0.0</td>\n",
       "      <td>0.0</td>\n",
       "      <td>0.0</td>\n",
       "      <td>0.0</td>\n",
       "      <td>0.0</td>\n",
       "      <td>0.0</td>\n",
       "      <td>0.0</td>\n",
       "      <td>30000.0</td>\n",
       "    </tr>\n",
       "    <tr>\n",
       "      <th>3</th>\n",
       "      <td>12613049.0</td>\n",
       "      <td>0.046773</td>\n",
       "      <td>-0.006590</td>\n",
       "      <td>0.025494</td>\n",
       "      <td>-0.024585</td>\n",
       "      <td>-0.018206</td>\n",
       "      <td>-0.022787</td>\n",
       "      <td>0.024405</td>\n",
       "      <td>-0.102111</td>\n",
       "      <td>-0.011417</td>\n",
       "      <td>...</td>\n",
       "      <td>0.0</td>\n",
       "      <td>0.0</td>\n",
       "      <td>0.0</td>\n",
       "      <td>0.0</td>\n",
       "      <td>0.0</td>\n",
       "      <td>0.0</td>\n",
       "      <td>0.0</td>\n",
       "      <td>0.0</td>\n",
       "      <td>0.0</td>\n",
       "      <td>27500.0</td>\n",
       "    </tr>\n",
       "    <tr>\n",
       "      <th>4</th>\n",
       "      <td>12613647.0</td>\n",
       "      <td>0.033728</td>\n",
       "      <td>-0.004213</td>\n",
       "      <td>0.018586</td>\n",
       "      <td>-0.011409</td>\n",
       "      <td>-0.014566</td>\n",
       "      <td>-0.013282</td>\n",
       "      <td>0.039354</td>\n",
       "      <td>-0.069890</td>\n",
       "      <td>0.011876</td>\n",
       "      <td>...</td>\n",
       "      <td>0.0</td>\n",
       "      <td>0.0</td>\n",
       "      <td>0.0</td>\n",
       "      <td>0.0</td>\n",
       "      <td>0.0</td>\n",
       "      <td>0.0</td>\n",
       "      <td>0.0</td>\n",
       "      <td>0.0</td>\n",
       "      <td>0.0</td>\n",
       "      <td>25000.0</td>\n",
       "    </tr>\n",
       "  </tbody>\n",
       "</table>\n",
       "<p>5 rows × 38 columns</p>\n",
       "</div>"
      ],
      "text/plain": [
       "           Id  FullDescription_0  FullDescription_1  FullDescription_2  \\\n",
       "0  12612628.0           0.061321          -0.001374           0.024432   \n",
       "1  12612830.0           0.321996          -0.064041           0.128569   \n",
       "2  12612844.0           0.227718          -0.015093           0.082972   \n",
       "3  12613049.0           0.046773          -0.006590           0.025494   \n",
       "4  12613647.0           0.033728          -0.004213           0.018586   \n",
       "\n",
       "   FullDescription_3  FullDescription_4  FullDescription_5  FullDescription_6  \\\n",
       "0          -0.006674          -0.005117          -0.020105           0.049415   \n",
       "1          -0.027485           0.006713          -0.058885           0.030574   \n",
       "2          -0.050471          -0.018522          -0.055125           0.033922   \n",
       "3          -0.024585          -0.018206          -0.022787           0.024405   \n",
       "4          -0.011409          -0.014566          -0.013282           0.039354   \n",
       "\n",
       "   FullDescription_7  FullDescription_8        ...         \\\n",
       "0          -0.094435           0.006445        ...          \n",
       "1          -0.144783           0.015681        ...          \n",
       "2          -0.095247           0.013809        ...          \n",
       "3          -0.102111          -0.011417        ...          \n",
       "4          -0.069890           0.011876        ...          \n",
       "\n",
       "   Category_Sales Jobs  Category_Manufacturing Jobs  Category_Teaching Jobs  \\\n",
       "0                  0.0                          0.0                     0.0   \n",
       "1                  0.0                          0.0                     0.0   \n",
       "2                  0.0                          0.0                     0.0   \n",
       "3                  0.0                          0.0                     0.0   \n",
       "4                  0.0                          0.0                     0.0   \n",
       "\n",
       "   Category_Creative & Design Jobs  Category_Trade & Construction Jobs  \\\n",
       "0                              0.0                                 0.0   \n",
       "1                              0.0                                 0.0   \n",
       "2                              0.0                                 0.0   \n",
       "3                              0.0                                 0.0   \n",
       "4                              0.0                                 0.0   \n",
       "\n",
       "   Category_Property Jobs  Category_Admin Jobs  Category_Legal Jobs  \\\n",
       "0                     0.0                  0.0                  0.0   \n",
       "1                     0.0                  0.0                  0.0   \n",
       "2                     0.0                  0.0                  0.0   \n",
       "3                     0.0                  0.0                  0.0   \n",
       "4                     0.0                  0.0                  0.0   \n",
       "\n",
       "   Category_Retail Jobs  SalaryNormalized  \n",
       "0                   0.0           25000.0  \n",
       "1                   0.0           30000.0  \n",
       "2                   0.0           30000.0  \n",
       "3                   0.0           27500.0  \n",
       "4                   0.0           25000.0  \n",
       "\n",
       "[5 rows x 38 columns]"
      ]
     },
     "execution_count": 8,
     "metadata": {},
     "output_type": "execute_result"
    }
   ],
   "source": [
    "print(df_job.columns)\n",
    "print(df_job.shape)\n",
    "df_job.head()"
   ]
  },
  {
   "cell_type": "code",
   "execution_count": 7,
   "metadata": {
    "collapsed": false,
    "deletable": true,
    "editable": true
   },
   "outputs": [
    {
     "name": "stdout",
     "output_type": "stream",
     "text": [
      "Cross-val score: [ 0.75561097  0.81296758  0.7625      0.71679198  0.74686717]\n",
      "Feature importance:\n",
      "('FullDescription_0', 0.096563011)\n",
      "('FullDescription_1', 0.14075287)\n",
      "('FullDescription_2', 0.09492635)\n",
      "('FullDescription_3', 0.068739772)\n",
      "('FullDescription_4', 0.029459901)\n",
      "('FullDescription_5', 0.057283141)\n",
      "('FullDescription_6', 0.062193125)\n",
      "('FullDescription_7', 0.13420622)\n",
      "('FullDescription_8', 0.10474632)\n",
      "('FullDescription_9', 0.032733224)\n",
      "('FullDescription_10', 0.065466449)\n",
      "('FullDescription_11', 0.049099836)\n",
      "('ContractType_None', 0.0032733225)\n",
      "('ContractType_full_time', 0.021276595)\n",
      "('ContractType_part_time', 0.0098199677)\n",
      "('ContractTime_permanent', 0.0032733225)\n",
      "('ContractTime_None', 0.0)\n",
      "('ContractTime_contract', 0.0)\n",
      "('Category_Engineering Jobs', 0.0)\n",
      "('Category_HR & Recruitment Jobs', 0.0)\n",
      "('Category_Accounting & Finance Jobs', 0.0)\n",
      "('Category_Healthcare & Nursing Jobs', 0.01309329)\n",
      "('Category_Other/General Jobs', 0.0)\n",
      "('Category_Hospitality & Catering Jobs', 0.0)\n",
      "('Category_IT Jobs', 0.006546645)\n",
      "('Category_Customer Services Jobs', 0.006546645)\n",
      "('Category_Travel Jobs', 0.0)\n",
      "('Category_Sales Jobs', 0.0)\n",
      "('Category_Manufacturing Jobs', 0.0)\n",
      "('Category_Teaching Jobs', 0.0)\n",
      "('Category_Creative & Design Jobs', 0.0)\n",
      "('Category_Trade & Construction Jobs', 0.0)\n",
      "('Category_Property Jobs', 0.0)\n",
      "('Category_Admin Jobs', 0.0)\n",
      "('Category_Legal Jobs', 0.0)\n",
      "('Category_Retail Jobs', 0.0)\n"
     ]
    }
   ],
   "source": [
    "X_job = df_job.drop(['SalaryNormalized', 'Id'], axis=1)\n",
    "y_job = pd.qcut(df_job['SalaryNormalized'].values, q=2, labels=[0,1]).ravel()\n",
    "\n",
    "model = xgb.XGBClassifier()\n",
    "cv_score_job = cross_val_score(model, X_job, y_job, cv=5)\n",
    "print('Cross-val score:', cv_score_job)\n",
    "assert all(i > 0.5 for i in cv_score_job), 'Low score!'\n",
    "\n",
    "model.fit(X_job, y_job)\n",
    "fi_job = model.feature_importances_\n",
    "\n",
    "print('Feature importance:')\n",
    "print(*(list(zip(X_job.columns, fi_job))), sep='\\n')\n"
   ]
  },
  {
   "cell_type": "code",
   "execution_count": null,
   "metadata": {
    "collapsed": true,
    "deletable": true,
    "editable": true
   },
   "outputs": [],
   "source": []
  }
 ],
 "metadata": {
  "anaconda-cloud": {},
  "kernelspec": {
   "display_name": "Python 3",
   "language": "python",
   "name": "python3"
  },
  "language_info": {
   "codemirror_mode": {
    "name": "ipython",
    "version": 3
   },
   "file_extension": ".py",
   "mimetype": "text/x-python",
   "name": "python",
   "nbconvert_exporter": "python",
   "pygments_lexer": "ipython3",
   "version": "3.6.1"
  }
 },
 "nbformat": 4,
 "nbformat_minor": 1
}
